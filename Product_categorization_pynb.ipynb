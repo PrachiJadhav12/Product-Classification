{
  "nbformat": 4,
  "nbformat_minor": 0,
  "metadata": {
    "colab": {
      "provenance": [],
      "mount_file_id": "1aDGMclfXoD5rVoU2mPKfypPVmuZA1rcH",
      "authorship_tag": "ABX9TyMPYohSJLUvFRjw9Cl07226",
      "include_colab_link": true
    },
    "kernelspec": {
      "name": "python3",
      "display_name": "Python 3"
    },
    "language_info": {
      "name": "python"
    }
  },
  "cells": [
    {
      "cell_type": "markdown",
      "metadata": {
        "id": "view-in-github",
        "colab_type": "text"
      },
      "source": [
        "<a href=\"https://colab.research.google.com/github/PrachiJadhav12/Product-Classification/blob/main/Product_categorization_pynb.ipynb\" target=\"_parent\"><img src=\"https://colab.research.google.com/assets/colab-badge.svg\" alt=\"Open In Colab\"/></a>"
      ]
    },
    {
      "cell_type": "code",
      "execution_count": 75,
      "metadata": {
        "id": "uhFabse8T68X"
      },
      "outputs": [],
      "source": [
        "import pandas as pd\n",
        "import re \n",
        "import nltk \n",
        "import matplotlib.pyplot as plt\n",
        "from sklearn import preprocessing\n",
        "from sklearn.model_selection import train_test_split\n",
        "\n",
        "from sklearn.feature_extraction.text import CountVectorizer\n",
        "from sklearn.feature_extraction.text import TfidfVectorizer\n",
        "from sklearn.feature_extraction.text import TfidfTransformer\n",
        "\n",
        "from sklearn.naive_bayes import MultinomialNB\n",
        "from sklearn.linear_model import LogisticRegression\n",
        "from sklearn.linear_model import SGDClassifier\n",
        "from sklearn import model_selection, naive_bayes, svm\n",
        "\n",
        "from sklearn.metrics import classification_report\n",
        "from sklearn.metrics import recall_score, precision_score, f1_score\n",
        "from sklearn.metrics import accuracy_score, confusion_matrix\n",
        "\n",
        "from sklearn.pipeline import Pipeline\n"
      ]
    },
    {
      "cell_type": "code",
      "source": [
        "df = pd.read_csv(\"/content/drive/MyDrive/Data Set/flipkart_com-ecommerce_sample.csv\")"
      ],
      "metadata": {
        "id": "J-fCu77hYjiB"
      },
      "execution_count": null,
      "outputs": []
    },
    {
      "cell_type": "code",
      "source": [
        "df.head()"
      ],
      "metadata": {
        "colab": {
          "base_uri": "https://localhost:8080/",
          "height": 531
        },
        "id": "yg8wy7GTfIwb",
        "outputId": "59bcc066-e008-4f58-dc81-46daa3ce1dab"
      },
      "execution_count": null,
      "outputs": [
        {
          "output_type": "execute_result",
          "data": {
            "text/plain": [
              "                            uniq_id            crawl_timestamp  \\\n",
              "0  c2d766ca982eca8304150849735ffef9  2016-03-25 22:59:23 +0000   \n",
              "1  7f7036a6d550aaa89d34c77bd39a5e48  2016-03-25 22:59:23 +0000   \n",
              "2  f449ec65dcbc041b6ae5e6a32717d01b  2016-03-25 22:59:23 +0000   \n",
              "3  0973b37acd0c664e3de26e97e5571454  2016-03-25 22:59:23 +0000   \n",
              "4  bc940ea42ee6bef5ac7cea3fb5cfbee7  2016-03-25 22:59:23 +0000   \n",
              "\n",
              "                                         product_url  \\\n",
              "0  http://www.flipkart.com/alisha-solid-women-s-c...   \n",
              "1  http://www.flipkart.com/fabhomedecor-fabric-do...   \n",
              "2  http://www.flipkart.com/aw-bellies/p/itmeh4grg...   \n",
              "3  http://www.flipkart.com/alisha-solid-women-s-c...   \n",
              "4  http://www.flipkart.com/sicons-all-purpose-arn...   \n",
              "\n",
              "                            product_name  \\\n",
              "0    Alisha Solid Women's Cycling Shorts   \n",
              "1    FabHomeDecor Fabric Double Sofa Bed   \n",
              "2                             AW Bellies   \n",
              "3    Alisha Solid Women's Cycling Shorts   \n",
              "4  Sicons All Purpose Arnica Dog Shampoo   \n",
              "\n",
              "                               product_category_tree               pid  \\\n",
              "0  [\"Clothing >> Women's Clothing >> Lingerie, Sl...  SRTEH2FF9KEDEFGF   \n",
              "1  [\"Furniture >> Living Room Furniture >> Sofa B...  SBEEH3QGU7MFYJFY   \n",
              "2  [\"Footwear >> Women's Footwear >> Ballerinas >...  SHOEH4GRSUBJGZXE   \n",
              "3  [\"Clothing >> Women's Clothing >> Lingerie, Sl...  SRTEH2F6HUZMQ6SJ   \n",
              "4  [\"Pet Supplies >> Grooming >> Skin & Coat Care...  PSOEH3ZYDMSYARJ5   \n",
              "\n",
              "   retail_price  discounted_price  \\\n",
              "0         999.0             379.0   \n",
              "1       32157.0           22646.0   \n",
              "2         999.0             499.0   \n",
              "3         699.0             267.0   \n",
              "4         220.0             210.0   \n",
              "\n",
              "                                               image is_FK_Advantage_product  \\\n",
              "0  [\"http://img5a.flixcart.com/image/short/u/4/a/...                   False   \n",
              "1  [\"http://img6a.flixcart.com/image/sofa-bed/j/f...                   False   \n",
              "2  [\"http://img5a.flixcart.com/image/shoe/7/z/z/r...                   False   \n",
              "3  [\"http://img5a.flixcart.com/image/short/6/2/h/...                   False   \n",
              "4  [\"http://img5a.flixcart.com/image/pet-shampoo/...                   False   \n",
              "\n",
              "                                         description       product_rating  \\\n",
              "0  Key Features of Alisha Solid Women's Cycling S...  No rating available   \n",
              "1  FabHomeDecor Fabric Double Sofa Bed (Finish Co...  No rating available   \n",
              "2  Key Features of AW Bellies Sandals Wedges Heel...  No rating available   \n",
              "3  Key Features of Alisha Solid Women's Cycling S...  No rating available   \n",
              "4  Specifications of Sicons All Purpose Arnica Do...  No rating available   \n",
              "\n",
              "        overall_rating         brand  \\\n",
              "0  No rating available        Alisha   \n",
              "1  No rating available  FabHomeDecor   \n",
              "2  No rating available            AW   \n",
              "3  No rating available        Alisha   \n",
              "4  No rating available        Sicons   \n",
              "\n",
              "                              product_specifications  \n",
              "0  {\"product_specification\"=>[{\"key\"=>\"Number of ...  \n",
              "1  {\"product_specification\"=>[{\"key\"=>\"Installati...  \n",
              "2  {\"product_specification\"=>[{\"key\"=>\"Ideal For\"...  \n",
              "3  {\"product_specification\"=>[{\"key\"=>\"Number of ...  \n",
              "4  {\"product_specification\"=>[{\"key\"=>\"Pet Type\",...  "
            ],
            "text/html": [
              "\n",
              "  <div id=\"df-7095c42c-39fd-4dc9-a41b-76ec1d0c4720\">\n",
              "    <div class=\"colab-df-container\">\n",
              "      <div>\n",
              "<style scoped>\n",
              "    .dataframe tbody tr th:only-of-type {\n",
              "        vertical-align: middle;\n",
              "    }\n",
              "\n",
              "    .dataframe tbody tr th {\n",
              "        vertical-align: top;\n",
              "    }\n",
              "\n",
              "    .dataframe thead th {\n",
              "        text-align: right;\n",
              "    }\n",
              "</style>\n",
              "<table border=\"1\" class=\"dataframe\">\n",
              "  <thead>\n",
              "    <tr style=\"text-align: right;\">\n",
              "      <th></th>\n",
              "      <th>uniq_id</th>\n",
              "      <th>crawl_timestamp</th>\n",
              "      <th>product_url</th>\n",
              "      <th>product_name</th>\n",
              "      <th>product_category_tree</th>\n",
              "      <th>pid</th>\n",
              "      <th>retail_price</th>\n",
              "      <th>discounted_price</th>\n",
              "      <th>image</th>\n",
              "      <th>is_FK_Advantage_product</th>\n",
              "      <th>description</th>\n",
              "      <th>product_rating</th>\n",
              "      <th>overall_rating</th>\n",
              "      <th>brand</th>\n",
              "      <th>product_specifications</th>\n",
              "    </tr>\n",
              "  </thead>\n",
              "  <tbody>\n",
              "    <tr>\n",
              "      <th>0</th>\n",
              "      <td>c2d766ca982eca8304150849735ffef9</td>\n",
              "      <td>2016-03-25 22:59:23 +0000</td>\n",
              "      <td>http://www.flipkart.com/alisha-solid-women-s-c...</td>\n",
              "      <td>Alisha Solid Women's Cycling Shorts</td>\n",
              "      <td>[\"Clothing &gt;&gt; Women's Clothing &gt;&gt; Lingerie, Sl...</td>\n",
              "      <td>SRTEH2FF9KEDEFGF</td>\n",
              "      <td>999.0</td>\n",
              "      <td>379.0</td>\n",
              "      <td>[\"http://img5a.flixcart.com/image/short/u/4/a/...</td>\n",
              "      <td>False</td>\n",
              "      <td>Key Features of Alisha Solid Women's Cycling S...</td>\n",
              "      <td>No rating available</td>\n",
              "      <td>No rating available</td>\n",
              "      <td>Alisha</td>\n",
              "      <td>{\"product_specification\"=&gt;[{\"key\"=&gt;\"Number of ...</td>\n",
              "    </tr>\n",
              "    <tr>\n",
              "      <th>1</th>\n",
              "      <td>7f7036a6d550aaa89d34c77bd39a5e48</td>\n",
              "      <td>2016-03-25 22:59:23 +0000</td>\n",
              "      <td>http://www.flipkart.com/fabhomedecor-fabric-do...</td>\n",
              "      <td>FabHomeDecor Fabric Double Sofa Bed</td>\n",
              "      <td>[\"Furniture &gt;&gt; Living Room Furniture &gt;&gt; Sofa B...</td>\n",
              "      <td>SBEEH3QGU7MFYJFY</td>\n",
              "      <td>32157.0</td>\n",
              "      <td>22646.0</td>\n",
              "      <td>[\"http://img6a.flixcart.com/image/sofa-bed/j/f...</td>\n",
              "      <td>False</td>\n",
              "      <td>FabHomeDecor Fabric Double Sofa Bed (Finish Co...</td>\n",
              "      <td>No rating available</td>\n",
              "      <td>No rating available</td>\n",
              "      <td>FabHomeDecor</td>\n",
              "      <td>{\"product_specification\"=&gt;[{\"key\"=&gt;\"Installati...</td>\n",
              "    </tr>\n",
              "    <tr>\n",
              "      <th>2</th>\n",
              "      <td>f449ec65dcbc041b6ae5e6a32717d01b</td>\n",
              "      <td>2016-03-25 22:59:23 +0000</td>\n",
              "      <td>http://www.flipkart.com/aw-bellies/p/itmeh4grg...</td>\n",
              "      <td>AW Bellies</td>\n",
              "      <td>[\"Footwear &gt;&gt; Women's Footwear &gt;&gt; Ballerinas &gt;...</td>\n",
              "      <td>SHOEH4GRSUBJGZXE</td>\n",
              "      <td>999.0</td>\n",
              "      <td>499.0</td>\n",
              "      <td>[\"http://img5a.flixcart.com/image/shoe/7/z/z/r...</td>\n",
              "      <td>False</td>\n",
              "      <td>Key Features of AW Bellies Sandals Wedges Heel...</td>\n",
              "      <td>No rating available</td>\n",
              "      <td>No rating available</td>\n",
              "      <td>AW</td>\n",
              "      <td>{\"product_specification\"=&gt;[{\"key\"=&gt;\"Ideal For\"...</td>\n",
              "    </tr>\n",
              "    <tr>\n",
              "      <th>3</th>\n",
              "      <td>0973b37acd0c664e3de26e97e5571454</td>\n",
              "      <td>2016-03-25 22:59:23 +0000</td>\n",
              "      <td>http://www.flipkart.com/alisha-solid-women-s-c...</td>\n",
              "      <td>Alisha Solid Women's Cycling Shorts</td>\n",
              "      <td>[\"Clothing &gt;&gt; Women's Clothing &gt;&gt; Lingerie, Sl...</td>\n",
              "      <td>SRTEH2F6HUZMQ6SJ</td>\n",
              "      <td>699.0</td>\n",
              "      <td>267.0</td>\n",
              "      <td>[\"http://img5a.flixcart.com/image/short/6/2/h/...</td>\n",
              "      <td>False</td>\n",
              "      <td>Key Features of Alisha Solid Women's Cycling S...</td>\n",
              "      <td>No rating available</td>\n",
              "      <td>No rating available</td>\n",
              "      <td>Alisha</td>\n",
              "      <td>{\"product_specification\"=&gt;[{\"key\"=&gt;\"Number of ...</td>\n",
              "    </tr>\n",
              "    <tr>\n",
              "      <th>4</th>\n",
              "      <td>bc940ea42ee6bef5ac7cea3fb5cfbee7</td>\n",
              "      <td>2016-03-25 22:59:23 +0000</td>\n",
              "      <td>http://www.flipkart.com/sicons-all-purpose-arn...</td>\n",
              "      <td>Sicons All Purpose Arnica Dog Shampoo</td>\n",
              "      <td>[\"Pet Supplies &gt;&gt; Grooming &gt;&gt; Skin &amp; Coat Care...</td>\n",
              "      <td>PSOEH3ZYDMSYARJ5</td>\n",
              "      <td>220.0</td>\n",
              "      <td>210.0</td>\n",
              "      <td>[\"http://img5a.flixcart.com/image/pet-shampoo/...</td>\n",
              "      <td>False</td>\n",
              "      <td>Specifications of Sicons All Purpose Arnica Do...</td>\n",
              "      <td>No rating available</td>\n",
              "      <td>No rating available</td>\n",
              "      <td>Sicons</td>\n",
              "      <td>{\"product_specification\"=&gt;[{\"key\"=&gt;\"Pet Type\",...</td>\n",
              "    </tr>\n",
              "  </tbody>\n",
              "</table>\n",
              "</div>\n",
              "      <button class=\"colab-df-convert\" onclick=\"convertToInteractive('df-7095c42c-39fd-4dc9-a41b-76ec1d0c4720')\"\n",
              "              title=\"Convert this dataframe to an interactive table.\"\n",
              "              style=\"display:none;\">\n",
              "        \n",
              "  <svg xmlns=\"http://www.w3.org/2000/svg\" height=\"24px\"viewBox=\"0 0 24 24\"\n",
              "       width=\"24px\">\n",
              "    <path d=\"M0 0h24v24H0V0z\" fill=\"none\"/>\n",
              "    <path d=\"M18.56 5.44l.94 2.06.94-2.06 2.06-.94-2.06-.94-.94-2.06-.94 2.06-2.06.94zm-11 1L8.5 8.5l.94-2.06 2.06-.94-2.06-.94L8.5 2.5l-.94 2.06-2.06.94zm10 10l.94 2.06.94-2.06 2.06-.94-2.06-.94-.94-2.06-.94 2.06-2.06.94z\"/><path d=\"M17.41 7.96l-1.37-1.37c-.4-.4-.92-.59-1.43-.59-.52 0-1.04.2-1.43.59L10.3 9.45l-7.72 7.72c-.78.78-.78 2.05 0 2.83L4 21.41c.39.39.9.59 1.41.59.51 0 1.02-.2 1.41-.59l7.78-7.78 2.81-2.81c.8-.78.8-2.07 0-2.86zM5.41 20L4 18.59l7.72-7.72 1.47 1.35L5.41 20z\"/>\n",
              "  </svg>\n",
              "      </button>\n",
              "      \n",
              "  <style>\n",
              "    .colab-df-container {\n",
              "      display:flex;\n",
              "      flex-wrap:wrap;\n",
              "      gap: 12px;\n",
              "    }\n",
              "\n",
              "    .colab-df-convert {\n",
              "      background-color: #E8F0FE;\n",
              "      border: none;\n",
              "      border-radius: 50%;\n",
              "      cursor: pointer;\n",
              "      display: none;\n",
              "      fill: #1967D2;\n",
              "      height: 32px;\n",
              "      padding: 0 0 0 0;\n",
              "      width: 32px;\n",
              "    }\n",
              "\n",
              "    .colab-df-convert:hover {\n",
              "      background-color: #E2EBFA;\n",
              "      box-shadow: 0px 1px 2px rgba(60, 64, 67, 0.3), 0px 1px 3px 1px rgba(60, 64, 67, 0.15);\n",
              "      fill: #174EA6;\n",
              "    }\n",
              "\n",
              "    [theme=dark] .colab-df-convert {\n",
              "      background-color: #3B4455;\n",
              "      fill: #D2E3FC;\n",
              "    }\n",
              "\n",
              "    [theme=dark] .colab-df-convert:hover {\n",
              "      background-color: #434B5C;\n",
              "      box-shadow: 0px 1px 3px 1px rgba(0, 0, 0, 0.15);\n",
              "      filter: drop-shadow(0px 1px 2px rgba(0, 0, 0, 0.3));\n",
              "      fill: #FFFFFF;\n",
              "    }\n",
              "  </style>\n",
              "\n",
              "      <script>\n",
              "        const buttonEl =\n",
              "          document.querySelector('#df-7095c42c-39fd-4dc9-a41b-76ec1d0c4720 button.colab-df-convert');\n",
              "        buttonEl.style.display =\n",
              "          google.colab.kernel.accessAllowed ? 'block' : 'none';\n",
              "\n",
              "        async function convertToInteractive(key) {\n",
              "          const element = document.querySelector('#df-7095c42c-39fd-4dc9-a41b-76ec1d0c4720');\n",
              "          const dataTable =\n",
              "            await google.colab.kernel.invokeFunction('convertToInteractive',\n",
              "                                                     [key], {});\n",
              "          if (!dataTable) return;\n",
              "\n",
              "          const docLinkHtml = 'Like what you see? Visit the ' +\n",
              "            '<a target=\"_blank\" href=https://colab.research.google.com/notebooks/data_table.ipynb>data table notebook</a>'\n",
              "            + ' to learn more about interactive tables.';\n",
              "          element.innerHTML = '';\n",
              "          dataTable['output_type'] = 'display_data';\n",
              "          await google.colab.output.renderOutput(dataTable, element);\n",
              "          const docLink = document.createElement('div');\n",
              "          docLink.innerHTML = docLinkHtml;\n",
              "          element.appendChild(docLink);\n",
              "        }\n",
              "      </script>\n",
              "    </div>\n",
              "  </div>\n",
              "  "
            ]
          },
          "metadata": {},
          "execution_count": 5
        }
      ]
    },
    {
      "cell_type": "code",
      "source": [
        "df.shape"
      ],
      "metadata": {
        "colab": {
          "base_uri": "https://localhost:8080/"
        },
        "id": "se7ouW3yfIfs",
        "outputId": "e74b360f-e68b-4742-c9af-1c63a34d217c"
      },
      "execution_count": null,
      "outputs": [
        {
          "output_type": "execute_result",
          "data": {
            "text/plain": [
              "(20002, 15)"
            ]
          },
          "metadata": {},
          "execution_count": 6
        }
      ]
    },
    {
      "cell_type": "code",
      "source": [
        "df.columns"
      ],
      "metadata": {
        "colab": {
          "base_uri": "https://localhost:8080/"
        },
        "id": "emECOnFtfPh1",
        "outputId": "571cca8d-56d1-4cf8-b358-223438487efa"
      },
      "execution_count": null,
      "outputs": [
        {
          "output_type": "execute_result",
          "data": {
            "text/plain": [
              "Index(['uniq_id', 'crawl_timestamp', 'product_url', 'product_name',\n",
              "       'product_category_tree', 'pid', 'retail_price', 'discounted_price',\n",
              "       'image', 'is_FK_Advantage_product', 'description', 'product_rating',\n",
              "       'overall_rating', 'brand', 'product_specifications'],\n",
              "      dtype='object')"
            ]
          },
          "metadata": {},
          "execution_count": 7
        }
      ]
    },
    {
      "cell_type": "code",
      "source": [
        "df.describe()"
      ],
      "metadata": {
        "colab": {
          "base_uri": "https://localhost:8080/",
          "height": 300
        },
        "id": "luC_VVFCfUK-",
        "outputId": "08730a1d-3335-46a3-d504-6142f05dc593"
      },
      "execution_count": null,
      "outputs": [
        {
          "output_type": "execute_result",
          "data": {
            "text/plain": [
              "        retail_price  discounted_price\n",
              "count   19922.000000      19922.000000\n",
              "mean     2979.206104       1973.401767\n",
              "std      9009.639341       7333.586040\n",
              "min        35.000000         35.000000\n",
              "25%       666.000000        350.000000\n",
              "50%      1040.000000        550.000000\n",
              "75%      1999.000000        999.000000\n",
              "max    571230.000000     571230.000000"
            ],
            "text/html": [
              "\n",
              "  <div id=\"df-a208bccc-0081-407a-84a0-22aefa82310d\">\n",
              "    <div class=\"colab-df-container\">\n",
              "      <div>\n",
              "<style scoped>\n",
              "    .dataframe tbody tr th:only-of-type {\n",
              "        vertical-align: middle;\n",
              "    }\n",
              "\n",
              "    .dataframe tbody tr th {\n",
              "        vertical-align: top;\n",
              "    }\n",
              "\n",
              "    .dataframe thead th {\n",
              "        text-align: right;\n",
              "    }\n",
              "</style>\n",
              "<table border=\"1\" class=\"dataframe\">\n",
              "  <thead>\n",
              "    <tr style=\"text-align: right;\">\n",
              "      <th></th>\n",
              "      <th>retail_price</th>\n",
              "      <th>discounted_price</th>\n",
              "    </tr>\n",
              "  </thead>\n",
              "  <tbody>\n",
              "    <tr>\n",
              "      <th>count</th>\n",
              "      <td>19922.000000</td>\n",
              "      <td>19922.000000</td>\n",
              "    </tr>\n",
              "    <tr>\n",
              "      <th>mean</th>\n",
              "      <td>2979.206104</td>\n",
              "      <td>1973.401767</td>\n",
              "    </tr>\n",
              "    <tr>\n",
              "      <th>std</th>\n",
              "      <td>9009.639341</td>\n",
              "      <td>7333.586040</td>\n",
              "    </tr>\n",
              "    <tr>\n",
              "      <th>min</th>\n",
              "      <td>35.000000</td>\n",
              "      <td>35.000000</td>\n",
              "    </tr>\n",
              "    <tr>\n",
              "      <th>25%</th>\n",
              "      <td>666.000000</td>\n",
              "      <td>350.000000</td>\n",
              "    </tr>\n",
              "    <tr>\n",
              "      <th>50%</th>\n",
              "      <td>1040.000000</td>\n",
              "      <td>550.000000</td>\n",
              "    </tr>\n",
              "    <tr>\n",
              "      <th>75%</th>\n",
              "      <td>1999.000000</td>\n",
              "      <td>999.000000</td>\n",
              "    </tr>\n",
              "    <tr>\n",
              "      <th>max</th>\n",
              "      <td>571230.000000</td>\n",
              "      <td>571230.000000</td>\n",
              "    </tr>\n",
              "  </tbody>\n",
              "</table>\n",
              "</div>\n",
              "      <button class=\"colab-df-convert\" onclick=\"convertToInteractive('df-a208bccc-0081-407a-84a0-22aefa82310d')\"\n",
              "              title=\"Convert this dataframe to an interactive table.\"\n",
              "              style=\"display:none;\">\n",
              "        \n",
              "  <svg xmlns=\"http://www.w3.org/2000/svg\" height=\"24px\"viewBox=\"0 0 24 24\"\n",
              "       width=\"24px\">\n",
              "    <path d=\"M0 0h24v24H0V0z\" fill=\"none\"/>\n",
              "    <path d=\"M18.56 5.44l.94 2.06.94-2.06 2.06-.94-2.06-.94-.94-2.06-.94 2.06-2.06.94zm-11 1L8.5 8.5l.94-2.06 2.06-.94-2.06-.94L8.5 2.5l-.94 2.06-2.06.94zm10 10l.94 2.06.94-2.06 2.06-.94-2.06-.94-.94-2.06-.94 2.06-2.06.94z\"/><path d=\"M17.41 7.96l-1.37-1.37c-.4-.4-.92-.59-1.43-.59-.52 0-1.04.2-1.43.59L10.3 9.45l-7.72 7.72c-.78.78-.78 2.05 0 2.83L4 21.41c.39.39.9.59 1.41.59.51 0 1.02-.2 1.41-.59l7.78-7.78 2.81-2.81c.8-.78.8-2.07 0-2.86zM5.41 20L4 18.59l7.72-7.72 1.47 1.35L5.41 20z\"/>\n",
              "  </svg>\n",
              "      </button>\n",
              "      \n",
              "  <style>\n",
              "    .colab-df-container {\n",
              "      display:flex;\n",
              "      flex-wrap:wrap;\n",
              "      gap: 12px;\n",
              "    }\n",
              "\n",
              "    .colab-df-convert {\n",
              "      background-color: #E8F0FE;\n",
              "      border: none;\n",
              "      border-radius: 50%;\n",
              "      cursor: pointer;\n",
              "      display: none;\n",
              "      fill: #1967D2;\n",
              "      height: 32px;\n",
              "      padding: 0 0 0 0;\n",
              "      width: 32px;\n",
              "    }\n",
              "\n",
              "    .colab-df-convert:hover {\n",
              "      background-color: #E2EBFA;\n",
              "      box-shadow: 0px 1px 2px rgba(60, 64, 67, 0.3), 0px 1px 3px 1px rgba(60, 64, 67, 0.15);\n",
              "      fill: #174EA6;\n",
              "    }\n",
              "\n",
              "    [theme=dark] .colab-df-convert {\n",
              "      background-color: #3B4455;\n",
              "      fill: #D2E3FC;\n",
              "    }\n",
              "\n",
              "    [theme=dark] .colab-df-convert:hover {\n",
              "      background-color: #434B5C;\n",
              "      box-shadow: 0px 1px 3px 1px rgba(0, 0, 0, 0.15);\n",
              "      filter: drop-shadow(0px 1px 2px rgba(0, 0, 0, 0.3));\n",
              "      fill: #FFFFFF;\n",
              "    }\n",
              "  </style>\n",
              "\n",
              "      <script>\n",
              "        const buttonEl =\n",
              "          document.querySelector('#df-a208bccc-0081-407a-84a0-22aefa82310d button.colab-df-convert');\n",
              "        buttonEl.style.display =\n",
              "          google.colab.kernel.accessAllowed ? 'block' : 'none';\n",
              "\n",
              "        async function convertToInteractive(key) {\n",
              "          const element = document.querySelector('#df-a208bccc-0081-407a-84a0-22aefa82310d');\n",
              "          const dataTable =\n",
              "            await google.colab.kernel.invokeFunction('convertToInteractive',\n",
              "                                                     [key], {});\n",
              "          if (!dataTable) return;\n",
              "\n",
              "          const docLinkHtml = 'Like what you see? Visit the ' +\n",
              "            '<a target=\"_blank\" href=https://colab.research.google.com/notebooks/data_table.ipynb>data table notebook</a>'\n",
              "            + ' to learn more about interactive tables.';\n",
              "          element.innerHTML = '';\n",
              "          dataTable['output_type'] = 'display_data';\n",
              "          await google.colab.output.renderOutput(dataTable, element);\n",
              "          const docLink = document.createElement('div');\n",
              "          docLink.innerHTML = docLinkHtml;\n",
              "          element.appendChild(docLink);\n",
              "        }\n",
              "      </script>\n",
              "    </div>\n",
              "  </div>\n",
              "  "
            ]
          },
          "metadata": {},
          "execution_count": 8
        }
      ]
    },
    {
      "cell_type": "code",
      "source": [
        "df.info()"
      ],
      "metadata": {
        "colab": {
          "base_uri": "https://localhost:8080/"
        },
        "id": "u-XkCk5EfT91",
        "outputId": "a5152683-10ce-4e75-8e85-9dd70ad88684"
      },
      "execution_count": null,
      "outputs": [
        {
          "output_type": "stream",
          "name": "stdout",
          "text": [
            "<class 'pandas.core.frame.DataFrame'>\n",
            "RangeIndex: 20002 entries, 0 to 20001\n",
            "Data columns (total 15 columns):\n",
            " #   Column                   Non-Null Count  Dtype  \n",
            "---  ------                   --------------  -----  \n",
            " 0   uniq_id                  20000 non-null  object \n",
            " 1   crawl_timestamp          20000 non-null  object \n",
            " 2   product_url              20000 non-null  object \n",
            " 3   product_name             20000 non-null  object \n",
            " 4   product_category_tree    20000 non-null  object \n",
            " 5   pid                      20000 non-null  object \n",
            " 6   retail_price             19922 non-null  float64\n",
            " 7   discounted_price         19922 non-null  float64\n",
            " 8   image                    19997 non-null  object \n",
            " 9   is_FK_Advantage_product  20000 non-null  object \n",
            " 10  description              19998 non-null  object \n",
            " 11  product_rating           20000 non-null  object \n",
            " 12  overall_rating           20000 non-null  object \n",
            " 13  brand                    14136 non-null  object \n",
            " 14  product_specifications   19986 non-null  object \n",
            "dtypes: float64(2), object(13)\n",
            "memory usage: 2.3+ MB\n"
          ]
        }
      ]
    },
    {
      "cell_type": "code",
      "source": [
        "df[df['description'].isnull()].index"
      ],
      "metadata": {
        "colab": {
          "base_uri": "https://localhost:8080/"
        },
        "id": "6D47Sx8XfYkP",
        "outputId": "384ec761-68ad-4054-a328-e37dc14dc05c"
      },
      "execution_count": null,
      "outputs": [
        {
          "output_type": "execute_result",
          "data": {
            "text/plain": [
              "Int64Index([553, 17299, 20000, 20001], dtype='int64')"
            ]
          },
          "metadata": {},
          "execution_count": 10
        }
      ]
    },
    {
      "cell_type": "code",
      "source": [],
      "metadata": {
        "id": "DAdg4fPSiOO-"
      },
      "execution_count": null,
      "outputs": []
    },
    {
      "cell_type": "code",
      "source": [
        "print(df['description'][553])"
      ],
      "metadata": {
        "colab": {
          "base_uri": "https://localhost:8080/"
        },
        "id": "9vlXZU4GfqIp",
        "outputId": "7dc1fcac-3b2f-41cc-f31e-47578b7cd53b"
      },
      "execution_count": null,
      "outputs": [
        {
          "output_type": "stream",
          "name": "stdout",
          "text": [
            "nan\n"
          ]
        }
      ]
    },
    {
      "cell_type": "code",
      "source": [
        "print(df['description'][17299])"
      ],
      "metadata": {
        "colab": {
          "base_uri": "https://localhost:8080/"
        },
        "id": "ogy0duY2fu1W",
        "outputId": "8de0906a-8f99-4c10-e179-774817854b3e"
      },
      "execution_count": null,
      "outputs": [
        {
          "output_type": "stream",
          "name": "stdout",
          "text": [
            "nan\n"
          ]
        }
      ]
    },
    {
      "cell_type": "code",
      "source": [
        "print(df['description'][20000])"
      ],
      "metadata": {
        "colab": {
          "base_uri": "https://localhost:8080/"
        },
        "id": "4isKHpuoh9Tg",
        "outputId": "63f254de-b7f3-4c9b-982e-a1837ee798b4"
      },
      "execution_count": null,
      "outputs": [
        {
          "output_type": "stream",
          "name": "stdout",
          "text": [
            "nan\n"
          ]
        }
      ]
    },
    {
      "cell_type": "code",
      "source": [
        "print(df['description'][20001])"
      ],
      "metadata": {
        "colab": {
          "base_uri": "https://localhost:8080/"
        },
        "id": "VYPKlaoniNCM",
        "outputId": "d6e7ae79-3b4b-4aa1-9317-6e6793b4fd6e"
      },
      "execution_count": null,
      "outputs": [
        {
          "output_type": "stream",
          "name": "stdout",
          "text": [
            "nan\n"
          ]
        }
      ]
    },
    {
      "cell_type": "code",
      "source": [
        "df.drop([553, 17299,20000,20001] , inplace = True)"
      ],
      "metadata": {
        "id": "w-mr0ExNiDyh"
      },
      "execution_count": null,
      "outputs": []
    },
    {
      "cell_type": "code",
      "source": [
        "df.shape"
      ],
      "metadata": {
        "colab": {
          "base_uri": "https://localhost:8080/"
        },
        "id": "bay6_mGuiDl1",
        "outputId": "ef5f09f6-d65d-435a-f82e-969140ee903a"
      },
      "execution_count": null,
      "outputs": [
        {
          "output_type": "execute_result",
          "data": {
            "text/plain": [
              "(19998, 15)"
            ]
          },
          "metadata": {},
          "execution_count": 15
        }
      ]
    },
    {
      "cell_type": "code",
      "source": [
        "print(df['description'][39])"
      ],
      "metadata": {
        "colab": {
          "base_uri": "https://localhost:8080/"
        },
        "id": "pps7ie67idND",
        "outputId": "928c78d4-a53b-4537-df0c-29c5f63634ac"
      },
      "execution_count": null,
      "outputs": [
        {
          "output_type": "stream",
          "name": "stdout",
          "text": [
            "Specifications of Oye Boy's Dungaree Top Details Number of Contents in Sales Package Pack of 1 Fabric Cotton Type Dungaree General Details Pattern Solid Ideal For Boy's In the Box 1 Dungaree\n"
          ]
        }
      ]
    },
    {
      "cell_type": "code",
      "source": [
        "def preprocessing_string(str_arg):\n",
        "    '''\n",
        "    input: str_arg --> Takes string to clean\n",
        "    output: cleaned_str --> Gives back cleaned string\n",
        "    This fuction cleans the text in the mentioned ways as comments after the line.This has been copied from some other kernel.\n",
        "\n",
        "    '''\n",
        "    cleaned_str=re.sub('[^a-z\\s]+',' ',str_arg,flags=re.IGNORECASE) #every char except alphabets is replaced\n",
        "    cleaned_str=re.sub('(\\s+)',' ',cleaned_str) #multiple spaces are replaced by single space\n",
        "    cleaned_str=cleaned_str.lower() #converting the cleaned string to lower case\n",
        "    \n",
        "    return cleaned_str # Returning the preprocessed string in tokenized form"
      ],
      "metadata": {
        "id": "wBnZHNpyimgM"
      },
      "execution_count": null,
      "outputs": []
    },
    {
      "cell_type": "code",
      "source": [
        "'''\n",
        "    Lets see how our string look after we appply the \"preprocessing_string\" function on it.\n",
        "'''\n",
        "print(df[\"description\"][0])\n",
        "print('\\n')\n",
        "print(preprocessing_string(df[\"description\"][0]))"
      ],
      "metadata": {
        "colab": {
          "base_uri": "https://localhost:8080/"
        },
        "id": "bhtX-_PIimRx",
        "outputId": "5b3194fc-a653-4296-c96b-b26835ba8768"
      },
      "execution_count": null,
      "outputs": [
        {
          "output_type": "stream",
          "name": "stdout",
          "text": [
            "Key Features of Alisha Solid Women's Cycling Shorts Cotton Lycra Navy, Red, Navy,Specifications of Alisha Solid Women's Cycling Shorts Shorts Details Number of Contents in Sales Package Pack of 3 Fabric Cotton Lycra Type Cycling Shorts General Details Pattern Solid Ideal For Women's Fabric Care Gentle Machine Wash in Lukewarm Water, Do Not Bleach Additional Details Style Code ALTHT_3P_21 In the Box 3 shorts\n",
            "\n",
            "\n",
            "key features of alisha solid women s cycling shorts cotton lycra navy red navy specifications of alisha solid women s cycling shorts shorts details number of contents in sales package pack of fabric cotton lycra type cycling shorts general details pattern solid ideal for women s fabric care gentle machine wash in lukewarm water do not bleach additional details style code altht p in the box shorts\n"
          ]
        }
      ]
    },
    {
      "cell_type": "code",
      "source": [
        "#lets look at the product_category_tree column\n",
        "df['product_category_tree']"
      ],
      "metadata": {
        "colab": {
          "base_uri": "https://localhost:8080/"
        },
        "id": "Va6ViU11jEfO",
        "outputId": "fb70e69a-f439-41de-f099-41d4316ca738"
      },
      "execution_count": null,
      "outputs": [
        {
          "output_type": "execute_result",
          "data": {
            "text/plain": [
              "0        [\"Clothing >> Women's Clothing >> Lingerie, Sl...\n",
              "1        [\"Furniture >> Living Room Furniture >> Sofa B...\n",
              "2        [\"Footwear >> Women's Footwear >> Ballerinas >...\n",
              "3        [\"Clothing >> Women's Clothing >> Lingerie, Sl...\n",
              "4        [\"Pet Supplies >> Grooming >> Skin & Coat Care...\n",
              "                               ...                        \n",
              "19995    [\"Baby Care >> Baby & Kids Gifts >> Stickers >...\n",
              "19996    [\"Baby Care >> Baby & Kids Gifts >> Stickers >...\n",
              "19997    [\"Baby Care >> Baby & Kids Gifts >> Stickers >...\n",
              "19998    [\"Baby Care >> Baby & Kids Gifts >> Stickers >...\n",
              "19999    [\"Baby Care >> Baby & Kids Gifts >> Stickers >...\n",
              "Name: product_category_tree, Length: 19998, dtype: object"
            ]
          },
          "metadata": {},
          "execution_count": 19
        }
      ]
    },
    {
      "cell_type": "code",
      "source": [
        "df['product_category_tree'] = df['product_category_tree'].apply(lambda x : x.split('>>')[0][2:].strip())"
      ],
      "metadata": {
        "id": "r1NPFabTjEPN"
      },
      "execution_count": null,
      "outputs": []
    },
    {
      "cell_type": "code",
      "source": [
        "print(df['product_category_tree'][50])\n",
        "print(df[\"product_category_tree\"][0])"
      ],
      "metadata": {
        "colab": {
          "base_uri": "https://localhost:8080/"
        },
        "id": "W8TnSMY2jwUB",
        "outputId": "a296506c-be03-44da-82cc-37e5dfa07f13"
      },
      "execution_count": null,
      "outputs": [
        {
          "output_type": "stream",
          "name": "stdout",
          "text": [
            "Vishudh Printed Women's Straight Kurta\"]\n",
            "Clothing\n"
          ]
        }
      ]
    },
    {
      "cell_type": "code",
      "source": [
        "#Total number of uniques \"parent\"\n",
        "df['product_category_tree'].nunique()"
      ],
      "metadata": {
        "colab": {
          "base_uri": "https://localhost:8080/"
        },
        "id": "UqC2re0WjwGP",
        "outputId": "7f159c40-6676-4668-8bad-18fe4be835ce"
      },
      "execution_count": null,
      "outputs": [
        {
          "output_type": "execute_result",
          "data": {
            "text/plain": [
              "266"
            ]
          },
          "metadata": {},
          "execution_count": 22
        }
      ]
    },
    {
      "cell_type": "code",
      "source": [
        "#Printing out all the unique categories\n",
        "df['product_category_tree'].unique()"
      ],
      "metadata": {
        "colab": {
          "base_uri": "https://localhost:8080/"
        },
        "id": "u-MR0IKakHPi",
        "outputId": "565e7a9f-0821-42bb-f545-346694b0494b"
      },
      "execution_count": null,
      "outputs": [
        {
          "output_type": "execute_result",
          "data": {
            "text/plain": [
              "array(['Clothing', 'Furniture', 'Footwear', 'Pet Supplies',\n",
              "       'Eternal Gandhi Super Series Crystal Paper Weight...\"]',\n",
              "       'Pens & Stationery', 'Sports & Fitness',\n",
              "       'Beauty and Personal Care',\n",
              "       'Bengal Blooms Rose Artificial Plant  with Pot (3...\"]',\n",
              "       'Bags, Wallets & Belts', 'Home Decor & Festive Needs',\n",
              "       'Automotive', 'Tools & Hardware',\n",
              "       'Vishudh Printed Women\\'s Straight Kurta\"]',\n",
              "       'Vishudh Printed Women\\'s Anarkali Kurta\"]',\n",
              "       'BuildTrack PIR Wireless Motion Sensor - One Swit...\"]',\n",
              "       'Skayvon SUMMERSIBLE SINGLE PHASE PUMP CONTROLLER...\"]',\n",
              "       'MASARA Solid Women\\'s Straight Kurta\"]',\n",
              "       'Skayvon SUBMERSIBBLE THREE PHASE PUMP CONTROLLER...\"]',\n",
              "       'Behringer Xenyx 502 Analog Sound Mixer\"]',\n",
              "       'Noor Embroidered Women\\'s Straight Kurta\"]',\n",
              "       'Libas Printed Women\\'s A-line Kurta\"]',\n",
              "       'Libas Printed Women\\'s Anarkali Kurta\"]', 'Home Furnishing',\n",
              "       'Baby Care', 'Mobiles & Accessories', 'Food & Nutrition',\n",
              "       'Watches', 'Toys & School Supplies', 'Jewellery',\n",
              "       'Cellbazaar Blackberry 8520 WHITE LCD LCD (YIT-562)\"]',\n",
              "       'Dressberry Gold Synthetic  Clutch\"]',\n",
              "       'Mast & Harbour Black Synthetic  Clutch\"]',\n",
              "       'Sisel Printed Poly Cotton Women\\'s Stole\"]',\n",
              "       'Knight Ace Kraasa Sports Running Shoes, Cycling ...\"]',\n",
              "       'Indistar Self Design Viscose Women\\'s Stole\"]',\n",
              "       'Glacier Running Shoes\"]', 'Dressberry Black Synthetic  Clutch\"]',\n",
              "       'Asics Gel-Cumulus 17 Running Shoes\"]',\n",
              "       'Mast & Harbour Gold Synthetic  Clutch\"]',\n",
              "       'Asics Gel-Kayano 22 Running Shoes\"]',\n",
              "       'Dressberry Orange Synthetic  Clutch\"]',\n",
              "       'Dressberry Green Synthetic  Clutch\"]', 'Escan Lace Up\"]',\n",
              "       'Nine Maternity Wear Women\\'s Fit and Flare Dress\"]',\n",
              "       'Sunglasses\"]', 'Kitchen & Dining', 'Home & Kitchen', 'Computers',\n",
              "       'Cameras & Accessories', 'ANAND ARCHIES Girls Flats\"]',\n",
              "       'ANAND ARCHIES Girls Wedges\"]',\n",
              "       'Prime Printed 8 Seater Table Cover (Multicolor, ...\"]',\n",
              "       'Health & Personal Care Appliances',\n",
              "       'Speedwav 240437 Sun Shade For Hyundai i10 (Dashb...\"]',\n",
              "       'Vitamins Solid Baby Girl\\'s Basic Shorts\"]', 'Gaming',\n",
              "       'Home Improvement', 'Sumo Baby Walker (Red)\"]',\n",
              "       'Kombee Girl\\'s Printed Red, Pink Top & Capri Set\"]',\n",
              "       'NEWGEN TECH EO-HS3303 218 Wired Headset (White)\"]',\n",
              "       'Automation & Robotics',\n",
              "       'K&P Dr.Ambedkar Large 04 Showpiece  -  19 cm (Po...\"]',\n",
              "       'K&P Lord Ganesha Large 03 Showpiece  -  19 cm (P...\"]',\n",
              "       'Adidas IND PRO THI GUA Thigh Guard (White, Blue,...\"]',\n",
              "       'Bootwale Bellies\"]',\n",
              "       'clickforsign Avoid Contanimation Wash your Hands...\"]',\n",
              "       'Treppe Bellies\"]', 'Kanvas Bellies\"]',\n",
              "       'Klaur Melbourne Bellies\"]',\n",
              "       'Clickforsign Vehicles parked Illegally will be t...\"]',\n",
              "       'clickforsign Sound horn Before entering Emergenc...\"]',\n",
              "       'kem Flow Gold skinny Fit Baby Girl\\'s Blue Jeans\"]',\n",
              "       'Carbanao Chrome Grill Chevrolet Cruze Car Grill ...\"]',\n",
              "       'Oddy RS 1.5 X 2 100 Sheets Self Stick Reposition...\"]',\n",
              "       'Synergy SFJB0105 Grocery Bag (Blue)\"]',\n",
              "       'SHOPOJ White Paper Sky Lantern (80 cm X 34 cm, P...\"]',\n",
              "       'SUPERMOD Men\\'s Brief\"]', 'Sunglasses',\n",
              "       'Lilliput Top Baby Girl\\'s  Combo\"]',\n",
              "       'Frabjous German silver Rings For Women Alloy Zir...\"]',\n",
              "       'Zevrr Sterling Silver Swarovski Zirconia Platinu...\"]',\n",
              "       'Rasav Jewels Yellow Gold Diamond 18 K Ring\"]',\n",
              "       'Royal Seal Creations 40 ST COLOR Silver Zircon N...\"]',\n",
              "       'Home Entertainment',\n",
              "       'ANASAZI Casual 3/4 Sleeve Solid Women\\'s Top\"]',\n",
              "       'INVENTURE RETAIL Nail Cutter\"]',\n",
              "       'Fabpoppy Printed Women\\'s Jumpsuit\"]',\n",
              "       'Power Smart Quick Charging Pack For PAN CGR-DU-2...\"]',\n",
              "       'Gking Hand Stiched Steering Cover For Maruti Ert...\"]',\n",
              "       'GM Power mate 4 Strip Surge Protector (White)\"]',\n",
              "       'Shrih SH-0192 Wired USB Flexible Keyboard (Red)\"]',\n",
              "       'Threads & Pals Full Sleeve Printed, Solid Men\\'s ...\"]',\n",
              "       'Threads & Pals Full Sleeve Self Design Men\\'s Swe...\"]',\n",
              "       'Gking Hand Stiched Steering Cover For Renault Sc...\"]',\n",
              "       'Power Smart Quick Charging Pack For PAN CGR-D28 ...\"]',\n",
              "       'xy decor Cotton Sofa Cover (white Pack of 6)\"]',\n",
              "       'Favourite BikerZ 3514 RAD air filter Ionic Air F...\"]',\n",
              "       'Disney Printed Baby Boy\\'s Hooded Grey T-Shirt\"]',\n",
              "       'Little Stars Girl\\'s A-line Multicolor Dress\"]',\n",
              "       'Wearable Smart Devices',\n",
              "       'The Crazy Me 1 Compartments Eco-Friendly leather...\"]',\n",
              "       'fourgee Slim Fit Boy\\'s Black Jeans\"]',\n",
              "       'Laser X Checkered Men\\'s Boxer (Pack of 4)\"]',\n",
              "       'INKT INKT A5 Wiro Notebook A5 Notebook Ring Boun...\"]',\n",
              "       'E\\'Hiose Girl\\'s Leggings (Pack of 6)\"]',\n",
              "       'Lucky Thailand GL/ LG30 Glass (300 ml, Clear, Pa...\"]',\n",
              "       'Ocean GP/Pyramid Glass (300 ml, Clear, Pack of 12)\"]',\n",
              "       'Wella Elements Leight Weight Renewing Conditione...\"]',\n",
              "       'Pu-Good Women Flats\"]', 'Olvin Aviator Sunglasses\"]',\n",
              "       'TSG Breeze Printed Women\\'s Round Neck Multicolor...\"]',\n",
              "       'Pout Brass Bangle\"]', 'classyworld Brass Cufflink (Silver-01)\"]',\n",
              "       'HANS Men\\'s Crew Length Socks\"]',\n",
              "       'TIMBERLAKE Slim Fit Fit Women\\'s Brown Jeans\"]',\n",
              "       'Olvin Oval Sunglasses\"]',\n",
              "       'Urban Girl Foundation Brush (Pack of 12)\"]',\n",
              "       'FEET FLOW Women Flats\"]', 'Jazz Eyewears Over-sized Sunglasses\"]',\n",
              "       'Miss Wow Slim Fit Women\\'s Blue Jeans\"]',\n",
              "       'Dilan Jewels Alloy Zircon 18K Yellow Gold Bangle...\"]',\n",
              "       'SMART TRADERS Women Wedges\"]',\n",
              "       'Clovia Women\\'s Full Coverage Bra\"]',\n",
              "       'Olvin Wayfarer Sunglasses\"]',\n",
              "       'PrivateLifes MasterPiece Women\\'s Push-up Bra\"]',\n",
              "       'COIRFIT Single Coir Mattress\"]', 'Clovia Women\\'s T-Shirt Bra\"]',\n",
              "       'Spa Culture Fit Fit Women\\'s Black Jeans\"]',\n",
              "       'run of luck Solid Women\\'s Round Neck Dark Blue T...\"]',\n",
              "       'SAY UV Sterilizer Solid Filter Cartridge (0, Pac...\"]',\n",
              "       'Urban Girl Foundation Brush (Pack of 7)\"]',\n",
              "       'Legmark Slim Fit Women\\'s Light Blue Jeans\"]',\n",
              "       'Siyas Collection Lac Cubic Zirconia Bangle Set (...\"]',\n",
              "       'Dassler Slim Fit Women\\'s Multicolor Jeans\"]',\n",
              "       'piftif Women\\'s Sports Bra\"]', 'REMSON INDIA Women Flats\"]',\n",
              "       'killys Men\\'s Solid No Show Socks\"]', 'INDILEGO Women Flats\"]',\n",
              "       'Firangi Cotton, Polyester Free Floor Mat Firangi...\"]',\n",
              "       'TIMBERLAKE Slim Fit Fit Women\\'s Red Jeans\"]',\n",
              "       'Starsy Solid Women\\'s Round Neck Green T-Shirt\"]',\n",
              "       'Oly Two Fit Fit Women\\'s Black Jeans\"]',\n",
              "       'Olvin Rectangular Sunglasses\"]',\n",
              "       'soie Fashion Women\\'s Sports Bra\"]',\n",
              "       'Auraa Men\\'s, Women\\'s Solid No Show Socks\"]',\n",
              "       'e-Fresh Boy\\'s Brief (Pack of 5)\"]',\n",
              "       'TIMBERLAKE Slim Fit Fit Women\\'s Blue Jeans\"]',\n",
              "       'NEWGEN TECH EO-HS3303 179 Wired Headset (White)\"]',\n",
              "       'Attitude Printed Women\\'s Round Neck Black T-Shirt\"]',\n",
              "       'Kalpaveda Copper Bowl (Gold, Pack of 1)\"]', 'Walkline Slippers\"]',\n",
              "       'D&D Women Flats\"]', 'e-Fresh Baby Boy\\'s Brief (Pack of 10)\"]',\n",
              "       'NEWGEN TECH EO-HS3303 58 Wired Headset (White)\"]',\n",
              "       'Ajaero Slim Fit Women\\'s Dark Blue Jeans\"]',\n",
              "       'Ruhi\\'s Creations Cotton Floral King sized Double...\"]',\n",
              "       'SAY Thread Wounded Candle 10\\\\\" Set of 4 pcs Solid...\"]',\n",
              "       'The Cotton Company Solid Women\\'s Polo Neck Pink ...\"]',\n",
              "       'Samprada Modern art Tapestry (Black, Pink)\"]',\n",
              "       'Naaz Dart game Board Game\"]',\n",
              "       'Oly Two Fit Fit Women\\'s Dark Blue Jeans\"]',\n",
              "       'Camey Men\\'s Quarter Length Socks\"]',\n",
              "       'fourgee Slim Fit Women\\'s Blue Jeans\"]',\n",
              "       'classyworld Brass Cufflink (Grey-02)\"]',\n",
              "       'Viral Girl Women\\'s Full Coverage Bra\"]',\n",
              "       'Wellon Fittings set (16 pieces) for RO Water Pur...\"]',\n",
              "       'Urban Girl Foundation Brush (Pack of 10)\"]',\n",
              "       'Amita Home Furnishing Cotton Printed Single Beds...\"]',\n",
              "       'Impala Alloy Cufflink (White)\"]',\n",
              "       'Ruhi\\'s Creations Polyester Silk Blend Cartoon Ki...\"]',\n",
              "       'Naaz 2 in 1 Paper Quilling Board Game\"]',\n",
              "       'Starsy Printed Women\\'s Round Neck Black T-Shirt\"]',\n",
              "       'Fly U Slim Fit Fit Women\\'s Brown Jeans\"]',\n",
              "       'Crafty Hands Kutchchi Mirrorwork Tapestry (Maroon)\"]',\n",
              "       'tadd Men\\'s, Women\\'s Ankle Length Socks\"]',\n",
              "       'Dolz Slim Fit Fit Women\\'s Brown Jeans\"]',\n",
              "       'Shrih Toe & Foot Protector Pain Relief Pad (Pack...\"]',\n",
              "       'LondonHouze Printed Women\\'s Round Neck Grey T-Shirt\"]',\n",
              "       'Legmark Slim Fit Women\\'s Blue Jeans\"]',\n",
              "       'Linzina Fashions LIN-HOSS-1.5 Faucet Set\"]',\n",
              "       'soie Fashion Women\\'s Full Coverage Bra\"]',\n",
              "       'Clovia Women\\'s Plunge Bra\"]', 'Foot Candy Women Flats\"]',\n",
              "       'Amita Home Furnishing Cotton Floral Single Bedsh...\"]',\n",
              "       '883 Police Full Sleeve Solid Men\\'s Jacket\"]',\n",
              "       'Style World Women Flats\"]', 'Just Wow Women Flats\"]',\n",
              "       'SMART TRADERS Women Flats\"]',\n",
              "       'Ruhi\\'s Creations Cotton Cartoon King sized Doubl...\"]',\n",
              "       'SJ Bushnell 122/1000M Binoculars (36 mm, Black)\"]',\n",
              "       'SJ Barstel 56m / 1000m Binoculars (30 mm, Black)\"]',\n",
              "       'SJ Comet Zoom DPSI Binoculars (30 mm, Black)\"]',\n",
              "       'Pia International 10X70X70 WITH ZOOM SAKURA Bino...\"]',\n",
              "       'SHOPOJ Purple Paper Sky Lantern (80 cm X 34 cm, ...\"]',\n",
              "       'Car vastra 1pcs Car Vastra Honda Beige Backrest ...\"]',\n",
              "       'SHOPOJ Yellow Paper Sky Lantern (80 cm X 34 cm, ...\"]',\n",
              "       'SHOPOJ Multicolor Paper Sky Lantern (80 cm X 34 ...\"]',\n",
              "       'Sj Bushnell 119M / 1000 Binoculars (36 mm, Black)\"]',\n",
              "       'FIFO Bottom Women\\'s  Combo\"]',\n",
              "       'Himmlisch 20503 Car Bottle Holder (Plastic)\"]',\n",
              "       'V&G Professional HD-37 Hair Dryer (Red)\"]',\n",
              "       'Anuradha Art Stylish Hair Clip (Blue)\"]',\n",
              "       'Shonaya Printed Bhagalpuri Art Silk Sari\"]',\n",
              "       'Anuradha Art Stylish Hair Clip (Black)\"]',\n",
              "       'JUSF2 Black Color Hair Band (Multicolor)\"]',\n",
              "       'Sonaxo Men Running Shoes\"]',\n",
              "       'Koie  Battery - For Samsung 7562 Premium Quality...\"]',\n",
              "       'OEM 170774 Bike Side Stand\"]', 'Kittens Boys Flats\"]',\n",
              "       'AutoKraftZ Optimum Locking Device For Bajaj Puls...\"]',\n",
              "       'GALLOWAY skinny Fit Women\\'s Jeans\"]',\n",
              "       'Dremel 2615.023.132 Plastic Friction Work Bench ...\"]', 'Eyewear',\n",
              "       'ABEEZ Boys, Men, Girls (Black, Pack of 1)\"]',\n",
              "       'Joyra Heart Sterling Silver Swarovski Crystal, S...\"]',\n",
              "       'BLM Casual Printed Women\\'s Kurti\"]',\n",
              "       'SMART DENIM Solid Women\\'s White Denim Shorts\"]',\n",
              "       'ATV Pouch for Acer Liquid Z330 (STEEL BLUE)\"]',\n",
              "       'Be 13 Printed Boy\\'s Round Neck T-Shirt (Pack of 2)\"]',\n",
              "       'Taurus Black & white Lace Up\"]',\n",
              "       'Abhinl Fashion Cotton Printed Semi-stitched Salw...\"]',\n",
              "       'UFO Self Design Round Neck Casual Girl\\'s Sweater\"]',\n",
              "       'LGRL Women\\'s Leggings\"]', 'Breakbounce Men\\'s Vest\"]',\n",
              "       'UFO Full Sleeve Solid Girl\\'s Jacket\"]',\n",
              "       'BALAJI EXPORTS Bottled Wine Cooler (9 Bottles)\"]',\n",
              "       'Siemens 5SL Betagard 5SL MCB (1)\"]',\n",
              "       'Remax Rm-10000 Remax Vanguard 10000mah 10000 mAh...\"]',\n",
              "       'Boreal Roller Brush\"]',\n",
              "       'Srajanaa sr114 Travel Shaving Kit (Black)\"]',\n",
              "       'Selfcare Women\\'s Thong Panty (Pack of 3)\"]',\n",
              "       'Sugandh Vatika 24 Natural Masala, Sandal Incense...\"]',\n",
              "       'Arial Morris Women Flats\"]', 'eBooks',\n",
              "       'Zikrak Exim Women Wedges\"]', 'Zixtro Bug (Black, Backpack)\"]',\n",
              "       'New Darling Women\\'s Printed Top & Pyjama Set\"]',\n",
              "       'RajeshFashion Women\\'s Leggings\"]',\n",
              "       'United Colors of Benetton Girl\\'s Trousers\"]',\n",
              "       'SRPC BAOER STARWALKER EXECUTIVE ROLLERBALL Pen G...\"]',\n",
              "       'Kraft Seeds Rosemary Herb (Pack Of 5) Seed (75 p...\"]',\n",
              "       'Autoplus M AP15 Arm Sleeve (Black)\"]',\n",
              "       'Autoplus M AP18 Arm Sleeve (Black)\"]',\n",
              "       'Kraft Seeds Thyme Herbs Seed (200 per packet)\"]',\n",
              "       'Kraft Seeds Dill Herb Seed (50 per packet)\"]',\n",
              "       'Leading lady Women\\'s Camisole\"]', 'Yo Baby Girl\\'s Trousers\"]',\n",
              "       'THERISE MD0005 Wired Headset (Pink)\"]',\n",
              "       'Nut Khut Embroidered Kurta & Churidar\"]',\n",
              "       'Vinenzia Printed Winter Men\\'s Gloves\"]',\n",
              "       'Planet Waves Woodstock Strap (Multicolor)\"]',\n",
              "       'Speedwav 216456 Manual Rear View Mirror (Right, ...\"]',\n",
              "       'Speedwav 216510 Manual Rear View Mirror (Right, ...\"]',\n",
              "       'Speedwav 216552 Manual Rear View Mirror (Right, ...\"]',\n",
              "       'Speedwav 186136 Manual Rear View Mirror (Right, ...\"]',\n",
              "       'Small Toes Bellies\"]',\n",
              "       'EASIES Solid Single Breasted Casual Men\\'s Blazer\"]',\n",
              "       'Clovia Lingerie Set\"]',\n",
              "       'Speedwav 186926 Royal Enfield 350 Twin Spark LED...\"]',\n",
              "       'Speedwav 186879 Bajaj Pulsar 200 NS DTS-i LED In...\"]',\n",
              "       'Household Supplies', 'Pazel Slim Fit Men\\'s Jeans\"]',\n",
              "       'SMART TRADERS Girls Bellies\"]',\n",
              "       'Corcepts Universal Tablet HD Ultra Clear Transpa...\"]',\n",
              "       'Areon Luxurious Fragrance Long Lasting Car,Home,...\"]'],\n",
              "      dtype=object)"
            ]
          },
          "metadata": {},
          "execution_count": 23
        }
      ]
    },
    {
      "cell_type": "code",
      "source": [
        "print(df['product_category_tree'][50])"
      ],
      "metadata": {
        "colab": {
          "base_uri": "https://localhost:8080/"
        },
        "id": "K1a38REYkHCT",
        "outputId": "11305ee2-b91f-45fd-e044-42d7f123c22c"
      },
      "execution_count": null,
      "outputs": [
        {
          "output_type": "stream",
          "name": "stdout",
          "text": [
            "Vishudh Printed Women's Straight Kurta\"]\n"
          ]
        }
      ]
    },
    {
      "cell_type": "code",
      "source": [
        "# Taking only top categories\n",
        "top_cat = list(df.groupby('product_category_tree').count().sort_values(by='uniq_id',ascending=False).head(28).index)"
      ],
      "metadata": {
        "id": "6pBRW0zXkN8u"
      },
      "execution_count": null,
      "outputs": []
    },
    {
      "cell_type": "code",
      "source": [
        "print(top_cat)"
      ],
      "metadata": {
        "colab": {
          "base_uri": "https://localhost:8080/"
        },
        "id": "gG4f4hHekX3j",
        "outputId": "0bc8f10c-dcf1-4ae7-99ce-aa54f7e6e086"
      },
      "execution_count": null,
      "outputs": [
        {
          "output_type": "stream",
          "name": "stdout",
          "text": [
            "['Clothing', 'Jewellery', 'Footwear', 'Mobiles & Accessories', 'Automotive', 'Home Decor & Festive Needs', 'Beauty and Personal Care', 'Home Furnishing', 'Kitchen & Dining', 'Computers', 'Watches', 'Baby Care', 'Tools & Hardware', 'Toys & School Supplies', 'Pens & Stationery', 'Bags, Wallets & Belts', 'Furniture', 'Sports & Fitness', 'Cameras & Accessories', 'Home Improvement', 'Health & Personal Care Appliances', 'Sunglasses', 'Gaming', 'Pet Supplies', 'Home & Kitchen', 'Home Entertainment', 'eBooks', 'Eyewear']\n"
          ]
        }
      ]
    },
    {
      "cell_type": "code",
      "source": [
        "processed_df = df[df['product_category_tree'].isin(top_cat)][['product_category_tree','description']]"
      ],
      "metadata": {
        "id": "Z_3ooEgrkXrD"
      },
      "execution_count": null,
      "outputs": []
    },
    {
      "cell_type": "code",
      "source": [
        "processed_df"
      ],
      "metadata": {
        "colab": {
          "base_uri": "https://localhost:8080/",
          "height": 424
        },
        "id": "5L8SwrpZkekS",
        "outputId": "5dbb7151-bf7a-4807-e391-13bcf67194c1"
      },
      "execution_count": null,
      "outputs": [
        {
          "output_type": "execute_result",
          "data": {
            "text/plain": [
              "      product_category_tree                                        description\n",
              "0                  Clothing  Key Features of Alisha Solid Women's Cycling S...\n",
              "1                 Furniture  FabHomeDecor Fabric Double Sofa Bed (Finish Co...\n",
              "2                  Footwear  Key Features of AW Bellies Sandals Wedges Heel...\n",
              "3                  Clothing  Key Features of Alisha Solid Women's Cycling S...\n",
              "4              Pet Supplies  Specifications of Sicons All Purpose Arnica Do...\n",
              "...                     ...                                                ...\n",
              "19995             Baby Care  Buy WallDesign Small Vinyl Sticker for Rs.730 ...\n",
              "19996             Baby Care  Buy Wallmantra Large Vinyl Stickers Sticker fo...\n",
              "19997             Baby Care  Buy Elite Collection Medium Acrylic Sticker fo...\n",
              "19998             Baby Care  Buy Elite Collection Medium Acrylic Sticker fo...\n",
              "19999             Baby Care  Buy Elite Collection Medium Acrylic Sticker fo...\n",
              "\n",
              "[19661 rows x 2 columns]"
            ],
            "text/html": [
              "\n",
              "  <div id=\"df-a157f42d-fae6-4e16-8838-5907ae891417\">\n",
              "    <div class=\"colab-df-container\">\n",
              "      <div>\n",
              "<style scoped>\n",
              "    .dataframe tbody tr th:only-of-type {\n",
              "        vertical-align: middle;\n",
              "    }\n",
              "\n",
              "    .dataframe tbody tr th {\n",
              "        vertical-align: top;\n",
              "    }\n",
              "\n",
              "    .dataframe thead th {\n",
              "        text-align: right;\n",
              "    }\n",
              "</style>\n",
              "<table border=\"1\" class=\"dataframe\">\n",
              "  <thead>\n",
              "    <tr style=\"text-align: right;\">\n",
              "      <th></th>\n",
              "      <th>product_category_tree</th>\n",
              "      <th>description</th>\n",
              "    </tr>\n",
              "  </thead>\n",
              "  <tbody>\n",
              "    <tr>\n",
              "      <th>0</th>\n",
              "      <td>Clothing</td>\n",
              "      <td>Key Features of Alisha Solid Women's Cycling S...</td>\n",
              "    </tr>\n",
              "    <tr>\n",
              "      <th>1</th>\n",
              "      <td>Furniture</td>\n",
              "      <td>FabHomeDecor Fabric Double Sofa Bed (Finish Co...</td>\n",
              "    </tr>\n",
              "    <tr>\n",
              "      <th>2</th>\n",
              "      <td>Footwear</td>\n",
              "      <td>Key Features of AW Bellies Sandals Wedges Heel...</td>\n",
              "    </tr>\n",
              "    <tr>\n",
              "      <th>3</th>\n",
              "      <td>Clothing</td>\n",
              "      <td>Key Features of Alisha Solid Women's Cycling S...</td>\n",
              "    </tr>\n",
              "    <tr>\n",
              "      <th>4</th>\n",
              "      <td>Pet Supplies</td>\n",
              "      <td>Specifications of Sicons All Purpose Arnica Do...</td>\n",
              "    </tr>\n",
              "    <tr>\n",
              "      <th>...</th>\n",
              "      <td>...</td>\n",
              "      <td>...</td>\n",
              "    </tr>\n",
              "    <tr>\n",
              "      <th>19995</th>\n",
              "      <td>Baby Care</td>\n",
              "      <td>Buy WallDesign Small Vinyl Sticker for Rs.730 ...</td>\n",
              "    </tr>\n",
              "    <tr>\n",
              "      <th>19996</th>\n",
              "      <td>Baby Care</td>\n",
              "      <td>Buy Wallmantra Large Vinyl Stickers Sticker fo...</td>\n",
              "    </tr>\n",
              "    <tr>\n",
              "      <th>19997</th>\n",
              "      <td>Baby Care</td>\n",
              "      <td>Buy Elite Collection Medium Acrylic Sticker fo...</td>\n",
              "    </tr>\n",
              "    <tr>\n",
              "      <th>19998</th>\n",
              "      <td>Baby Care</td>\n",
              "      <td>Buy Elite Collection Medium Acrylic Sticker fo...</td>\n",
              "    </tr>\n",
              "    <tr>\n",
              "      <th>19999</th>\n",
              "      <td>Baby Care</td>\n",
              "      <td>Buy Elite Collection Medium Acrylic Sticker fo...</td>\n",
              "    </tr>\n",
              "  </tbody>\n",
              "</table>\n",
              "<p>19661 rows × 2 columns</p>\n",
              "</div>\n",
              "      <button class=\"colab-df-convert\" onclick=\"convertToInteractive('df-a157f42d-fae6-4e16-8838-5907ae891417')\"\n",
              "              title=\"Convert this dataframe to an interactive table.\"\n",
              "              style=\"display:none;\">\n",
              "        \n",
              "  <svg xmlns=\"http://www.w3.org/2000/svg\" height=\"24px\"viewBox=\"0 0 24 24\"\n",
              "       width=\"24px\">\n",
              "    <path d=\"M0 0h24v24H0V0z\" fill=\"none\"/>\n",
              "    <path d=\"M18.56 5.44l.94 2.06.94-2.06 2.06-.94-2.06-.94-.94-2.06-.94 2.06-2.06.94zm-11 1L8.5 8.5l.94-2.06 2.06-.94-2.06-.94L8.5 2.5l-.94 2.06-2.06.94zm10 10l.94 2.06.94-2.06 2.06-.94-2.06-.94-.94-2.06-.94 2.06-2.06.94z\"/><path d=\"M17.41 7.96l-1.37-1.37c-.4-.4-.92-.59-1.43-.59-.52 0-1.04.2-1.43.59L10.3 9.45l-7.72 7.72c-.78.78-.78 2.05 0 2.83L4 21.41c.39.39.9.59 1.41.59.51 0 1.02-.2 1.41-.59l7.78-7.78 2.81-2.81c.8-.78.8-2.07 0-2.86zM5.41 20L4 18.59l7.72-7.72 1.47 1.35L5.41 20z\"/>\n",
              "  </svg>\n",
              "      </button>\n",
              "      \n",
              "  <style>\n",
              "    .colab-df-container {\n",
              "      display:flex;\n",
              "      flex-wrap:wrap;\n",
              "      gap: 12px;\n",
              "    }\n",
              "\n",
              "    .colab-df-convert {\n",
              "      background-color: #E8F0FE;\n",
              "      border: none;\n",
              "      border-radius: 50%;\n",
              "      cursor: pointer;\n",
              "      display: none;\n",
              "      fill: #1967D2;\n",
              "      height: 32px;\n",
              "      padding: 0 0 0 0;\n",
              "      width: 32px;\n",
              "    }\n",
              "\n",
              "    .colab-df-convert:hover {\n",
              "      background-color: #E2EBFA;\n",
              "      box-shadow: 0px 1px 2px rgba(60, 64, 67, 0.3), 0px 1px 3px 1px rgba(60, 64, 67, 0.15);\n",
              "      fill: #174EA6;\n",
              "    }\n",
              "\n",
              "    [theme=dark] .colab-df-convert {\n",
              "      background-color: #3B4455;\n",
              "      fill: #D2E3FC;\n",
              "    }\n",
              "\n",
              "    [theme=dark] .colab-df-convert:hover {\n",
              "      background-color: #434B5C;\n",
              "      box-shadow: 0px 1px 3px 1px rgba(0, 0, 0, 0.15);\n",
              "      filter: drop-shadow(0px 1px 2px rgba(0, 0, 0, 0.3));\n",
              "      fill: #FFFFFF;\n",
              "    }\n",
              "  </style>\n",
              "\n",
              "      <script>\n",
              "        const buttonEl =\n",
              "          document.querySelector('#df-a157f42d-fae6-4e16-8838-5907ae891417 button.colab-df-convert');\n",
              "        buttonEl.style.display =\n",
              "          google.colab.kernel.accessAllowed ? 'block' : 'none';\n",
              "\n",
              "        async function convertToInteractive(key) {\n",
              "          const element = document.querySelector('#df-a157f42d-fae6-4e16-8838-5907ae891417');\n",
              "          const dataTable =\n",
              "            await google.colab.kernel.invokeFunction('convertToInteractive',\n",
              "                                                     [key], {});\n",
              "          if (!dataTable) return;\n",
              "\n",
              "          const docLinkHtml = 'Like what you see? Visit the ' +\n",
              "            '<a target=\"_blank\" href=https://colab.research.google.com/notebooks/data_table.ipynb>data table notebook</a>'\n",
              "            + ' to learn more about interactive tables.';\n",
              "          element.innerHTML = '';\n",
              "          dataTable['output_type'] = 'display_data';\n",
              "          await google.colab.output.renderOutput(dataTable, element);\n",
              "          const docLink = document.createElement('div');\n",
              "          docLink.innerHTML = docLinkHtml;\n",
              "          element.appendChild(docLink);\n",
              "        }\n",
              "      </script>\n",
              "    </div>\n",
              "  </div>\n",
              "  "
            ]
          },
          "metadata": {},
          "execution_count": 29
        }
      ]
    },
    {
      "cell_type": "code",
      "source": [
        "plt.figure(figsize=(12,8))\n",
        "df['product_category_tree'].value_counts()[:28].sort_values(ascending=True).plot(kind='bar')\n",
        "plt.title('Main Category',fontsize=20)\n",
        "plt.yticks(fontsize=12)\n",
        "plt.xticks(fontsize=12)\n",
        "plt.show()\n",
        "print('Top Main Categories by Sales.\\n')\n",
        "print(df['product_category_tree'].value_counts()[:28])"
      ],
      "metadata": {
        "colab": {
          "base_uri": "https://localhost:8080/",
          "height": 1000
        },
        "id": "XxIP3VUakeW6",
        "outputId": "fe4d6943-9934-4176-d584-32b30d63e139"
      },
      "execution_count": null,
      "outputs": [
        {
          "output_type": "display_data",
          "data": {
            "text/plain": [
              "<Figure size 864x576 with 1 Axes>"
            ],
            "image/png": "[encoded data removed]"
          },
          "metadata": {
            "needs_background": "light"
          }
        },
        {
          "output_type": "stream",
          "name": "stdout",
          "text": [
            "Top Main Categories by Sales.\n",
            "\n",
            "Clothing                             6197\n",
            "Jewellery                            3531\n",
            "Footwear                             1227\n",
            "Mobiles & Accessories                1099\n",
            "Automotive                           1012\n",
            "Home Decor & Festive Needs            929\n",
            "Beauty and Personal Care              710\n",
            "Home Furnishing                       699\n",
            "Kitchen & Dining                      647\n",
            "Computers                             578\n",
            "Watches                               530\n",
            "Baby Care                             483\n",
            "Tools & Hardware                      391\n",
            "Toys & School Supplies                330\n",
            "Pens & Stationery                     313\n",
            "Bags, Wallets & Belts                 265\n",
            "Furniture                             180\n",
            "Sports & Fitness                      166\n",
            "Cameras & Accessories                  82\n",
            "Home Improvement                       81\n",
            "Health & Personal Care Appliances      43\n",
            "Sunglasses                             35\n",
            "Gaming                                 35\n",
            "Pet Supplies                           30\n",
            "Home & Kitchen                         24\n",
            "Home Entertainment                     19\n",
            "eBooks                                 15\n",
            "Eyewear                                10\n",
            "Name: product_category_tree, dtype: int64\n"
          ]
        }
      ]
    },
    {
      "cell_type": "code",
      "source": [
        "\n",
        "# Cleaning strings\n",
        "processed_df['description'] = processed_df['description'].astype('str').apply(preprocessing_string)"
      ],
      "metadata": {
        "id": "6VEjwDDkk7Vz"
      },
      "execution_count": null,
      "outputs": []
    },
    {
      "cell_type": "code",
      "source": [
        "processed_df"
      ],
      "metadata": {
        "colab": {
          "base_uri": "https://localhost:8080/",
          "height": 424
        },
        "id": "8ok5nTOPk7GL",
        "outputId": "4a391c4f-91b8-419c-b962-c3177cb940f3"
      },
      "execution_count": null,
      "outputs": [
        {
          "output_type": "execute_result",
          "data": {
            "text/plain": [
              "      product_category_tree                                        description\n",
              "0                  Clothing  key features of alisha solid women s cycling s...\n",
              "1                 Furniture  fabhomedecor fabric double sofa bed finish col...\n",
              "2                  Footwear  key features of aw bellies sandals wedges heel...\n",
              "3                  Clothing  key features of alisha solid women s cycling s...\n",
              "4              Pet Supplies  specifications of sicons all purpose arnica do...\n",
              "...                     ...                                                ...\n",
              "19995             Baby Care  buy walldesign small vinyl sticker for rs onli...\n",
              "19996             Baby Care  buy wallmantra large vinyl stickers sticker fo...\n",
              "19997             Baby Care  buy elite collection medium acrylic sticker fo...\n",
              "19998             Baby Care  buy elite collection medium acrylic sticker fo...\n",
              "19999             Baby Care  buy elite collection medium acrylic sticker fo...\n",
              "\n",
              "[19661 rows x 2 columns]"
            ],
            "text/html": [
              "\n",
              "  <div id=\"df-e1c63d23-b7bc-45c0-be5f-980f5fa9477d\">\n",
              "    <div class=\"colab-df-container\">\n",
              "      <div>\n",
              "<style scoped>\n",
              "    .dataframe tbody tr th:only-of-type {\n",
              "        vertical-align: middle;\n",
              "    }\n",
              "\n",
              "    .dataframe tbody tr th {\n",
              "        vertical-align: top;\n",
              "    }\n",
              "\n",
              "    .dataframe thead th {\n",
              "        text-align: right;\n",
              "    }\n",
              "</style>\n",
              "<table border=\"1\" class=\"dataframe\">\n",
              "  <thead>\n",
              "    <tr style=\"text-align: right;\">\n",
              "      <th></th>\n",
              "      <th>product_category_tree</th>\n",
              "      <th>description</th>\n",
              "    </tr>\n",
              "  </thead>\n",
              "  <tbody>\n",
              "    <tr>\n",
              "      <th>0</th>\n",
              "      <td>Clothing</td>\n",
              "      <td>key features of alisha solid women s cycling s...</td>\n",
              "    </tr>\n",
              "    <tr>\n",
              "      <th>1</th>\n",
              "      <td>Furniture</td>\n",
              "      <td>fabhomedecor fabric double sofa bed finish col...</td>\n",
              "    </tr>\n",
              "    <tr>\n",
              "      <th>2</th>\n",
              "      <td>Footwear</td>\n",
              "      <td>key features of aw bellies sandals wedges heel...</td>\n",
              "    </tr>\n",
              "    <tr>\n",
              "      <th>3</th>\n",
              "      <td>Clothing</td>\n",
              "      <td>key features of alisha solid women s cycling s...</td>\n",
              "    </tr>\n",
              "    <tr>\n",
              "      <th>4</th>\n",
              "      <td>Pet Supplies</td>\n",
              "      <td>specifications of sicons all purpose arnica do...</td>\n",
              "    </tr>\n",
              "    <tr>\n",
              "      <th>...</th>\n",
              "      <td>...</td>\n",
              "      <td>...</td>\n",
              "    </tr>\n",
              "    <tr>\n",
              "      <th>19995</th>\n",
              "      <td>Baby Care</td>\n",
              "      <td>buy walldesign small vinyl sticker for rs onli...</td>\n",
              "    </tr>\n",
              "    <tr>\n",
              "      <th>19996</th>\n",
              "      <td>Baby Care</td>\n",
              "      <td>buy wallmantra large vinyl stickers sticker fo...</td>\n",
              "    </tr>\n",
              "    <tr>\n",
              "      <th>19997</th>\n",
              "      <td>Baby Care</td>\n",
              "      <td>buy elite collection medium acrylic sticker fo...</td>\n",
              "    </tr>\n",
              "    <tr>\n",
              "      <th>19998</th>\n",
              "      <td>Baby Care</td>\n",
              "      <td>buy elite collection medium acrylic sticker fo...</td>\n",
              "    </tr>\n",
              "    <tr>\n",
              "      <th>19999</th>\n",
              "      <td>Baby Care</td>\n",
              "      <td>buy elite collection medium acrylic sticker fo...</td>\n",
              "    </tr>\n",
              "  </tbody>\n",
              "</table>\n",
              "<p>19661 rows × 2 columns</p>\n",
              "</div>\n",
              "      <button class=\"colab-df-convert\" onclick=\"convertToInteractive('df-e1c63d23-b7bc-45c0-be5f-980f5fa9477d')\"\n",
              "              title=\"Convert this dataframe to an interactive table.\"\n",
              "              style=\"display:none;\">\n",
              "        \n",
              "  <svg xmlns=\"http://www.w3.org/2000/svg\" height=\"24px\"viewBox=\"0 0 24 24\"\n",
              "       width=\"24px\">\n",
              "    <path d=\"M0 0h24v24H0V0z\" fill=\"none\"/>\n",
              "    <path d=\"M18.56 5.44l.94 2.06.94-2.06 2.06-.94-2.06-.94-.94-2.06-.94 2.06-2.06.94zm-11 1L8.5 8.5l.94-2.06 2.06-.94-2.06-.94L8.5 2.5l-.94 2.06-2.06.94zm10 10l.94 2.06.94-2.06 2.06-.94-2.06-.94-.94-2.06-.94 2.06-2.06.94z\"/><path d=\"M17.41 7.96l-1.37-1.37c-.4-.4-.92-.59-1.43-.59-.52 0-1.04.2-1.43.59L10.3 9.45l-7.72 7.72c-.78.78-.78 2.05 0 2.83L4 21.41c.39.39.9.59 1.41.59.51 0 1.02-.2 1.41-.59l7.78-7.78 2.81-2.81c.8-.78.8-2.07 0-2.86zM5.41 20L4 18.59l7.72-7.72 1.47 1.35L5.41 20z\"/>\n",
              "  </svg>\n",
              "      </button>\n",
              "      \n",
              "  <style>\n",
              "    .colab-df-container {\n",
              "      display:flex;\n",
              "      flex-wrap:wrap;\n",
              "      gap: 12px;\n",
              "    }\n",
              "\n",
              "    .colab-df-convert {\n",
              "      background-color: #E8F0FE;\n",
              "      border: none;\n",
              "      border-radius: 50%;\n",
              "      cursor: pointer;\n",
              "      display: none;\n",
              "      fill: #1967D2;\n",
              "      height: 32px;\n",
              "      padding: 0 0 0 0;\n",
              "      width: 32px;\n",
              "    }\n",
              "\n",
              "    .colab-df-convert:hover {\n",
              "      background-color: #E2EBFA;\n",
              "      box-shadow: 0px 1px 2px rgba(60, 64, 67, 0.3), 0px 1px 3px 1px rgba(60, 64, 67, 0.15);\n",
              "      fill: #174EA6;\n",
              "    }\n",
              "\n",
              "    [theme=dark] .colab-df-convert {\n",
              "      background-color: #3B4455;\n",
              "      fill: #D2E3FC;\n",
              "    }\n",
              "\n",
              "    [theme=dark] .colab-df-convert:hover {\n",
              "      background-color: #434B5C;\n",
              "      box-shadow: 0px 1px 3px 1px rgba(0, 0, 0, 0.15);\n",
              "      filter: drop-shadow(0px 1px 2px rgba(0, 0, 0, 0.3));\n",
              "      fill: #FFFFFF;\n",
              "    }\n",
              "  </style>\n",
              "\n",
              "      <script>\n",
              "        const buttonEl =\n",
              "          document.querySelector('#df-e1c63d23-b7bc-45c0-be5f-980f5fa9477d button.colab-df-convert');\n",
              "        buttonEl.style.display =\n",
              "          google.colab.kernel.accessAllowed ? 'block' : 'none';\n",
              "\n",
              "        async function convertToInteractive(key) {\n",
              "          const element = document.querySelector('#df-e1c63d23-b7bc-45c0-be5f-980f5fa9477d');\n",
              "          const dataTable =\n",
              "            await google.colab.kernel.invokeFunction('convertToInteractive',\n",
              "                                                     [key], {});\n",
              "          if (!dataTable) return;\n",
              "\n",
              "          const docLinkHtml = 'Like what you see? Visit the ' +\n",
              "            '<a target=\"_blank\" href=https://colab.research.google.com/notebooks/data_table.ipynb>data table notebook</a>'\n",
              "            + ' to learn more about interactive tables.';\n",
              "          element.innerHTML = '';\n",
              "          dataTable['output_type'] = 'display_data';\n",
              "          await google.colab.output.renderOutput(dataTable, element);\n",
              "          const docLink = document.createElement('div');\n",
              "          docLink.innerHTML = docLinkHtml;\n",
              "          element.appendChild(docLink);\n",
              "        }\n",
              "      </script>\n",
              "    </div>\n",
              "  </div>\n",
              "  "
            ]
          },
          "metadata": {},
          "execution_count": 32
        }
      ]
    },
    {
      "cell_type": "code",
      "source": [
        "# Creating a list of categories for later use\n",
        "cat_list = list(processed_df['product_category_tree'].unique())"
      ],
      "metadata": {
        "id": "TKZzSnTjlEMz"
      },
      "execution_count": null,
      "outputs": []
    },
    {
      "cell_type": "code",
      "source": [
        "# Printing the list of top categories\n",
        "print(cat_list)"
      ],
      "metadata": {
        "colab": {
          "base_uri": "https://localhost:8080/"
        },
        "id": "LQI8pATTlD-u",
        "outputId": "9e3a1d1c-f440-41ff-e79d-e449fa2cd2a3"
      },
      "execution_count": null,
      "outputs": [
        {
          "output_type": "stream",
          "name": "stdout",
          "text": [
            "['Clothing', 'Furniture', 'Footwear', 'Pet Supplies', 'Pens & Stationery', 'Sports & Fitness', 'Beauty and Personal Care', 'Bags, Wallets & Belts', 'Home Decor & Festive Needs', 'Automotive', 'Tools & Hardware', 'Home Furnishing', 'Baby Care', 'Mobiles & Accessories', 'Watches', 'Toys & School Supplies', 'Jewellery', 'Kitchen & Dining', 'Home & Kitchen', 'Computers', 'Cameras & Accessories', 'Health & Personal Care Appliances', 'Gaming', 'Home Improvement', 'Sunglasses', 'Home Entertainment', 'Eyewear', 'eBooks']\n"
          ]
        }
      ]
    },
    {
      "cell_type": "code",
      "source": [
        "# Encoding the product category\n",
        "le = preprocessing.LabelEncoder()\n",
        "category_encoded=le.fit_transform(processed_df['product_category_tree'])\n",
        "processed_df['product_category_tree'] = category_encoded"
      ],
      "metadata": {
        "id": "zMlV__y7lLyl"
      },
      "execution_count": null,
      "outputs": []
    },
    {
      "cell_type": "code",
      "source": [
        "#Printing the encoded value and their corresponding values\n",
        "for i in range(28):\n",
        "    print(str(i) + \"-\" + le.inverse_transform([i]))"
      ],
      "metadata": {
        "colab": {
          "base_uri": "https://localhost:8080/"
        },
        "id": "M2X9kvfgn_5d",
        "outputId": "2b89cc7e-12c7-4a62-dd1c-d3a5f3313af9"
      },
      "execution_count": null,
      "outputs": [
        {
          "output_type": "stream",
          "name": "stdout",
          "text": [
            "['0-Automotive']\n",
            "['1-Baby Care']\n",
            "['2-Bags, Wallets & Belts']\n",
            "['3-Beauty and Personal Care']\n",
            "['4-Cameras & Accessories']\n",
            "['5-Clothing']\n",
            "['6-Computers']\n",
            "['7-Eyewear']\n",
            "['8-Footwear']\n",
            "['9-Furniture']\n",
            "['10-Gaming']\n",
            "['11-Health & Personal Care Appliances']\n",
            "['12-Home & Kitchen']\n",
            "['13-Home Decor & Festive Needs']\n",
            "['14-Home Entertainment']\n",
            "['15-Home Furnishing']\n",
            "['16-Home Improvement']\n",
            "['17-Jewellery']\n",
            "['18-Kitchen & Dining']\n",
            "['19-Mobiles & Accessories']\n",
            "['20-Pens & Stationery']\n",
            "['21-Pet Supplies']\n",
            "['22-Sports & Fitness']\n",
            "['23-Sunglasses']\n",
            "['24-Tools & Hardware']\n",
            "['25-Toys & School Supplies']\n",
            "['26-Watches']\n",
            "['27-eBooks']\n"
          ]
        }
      ]
    },
    {
      "cell_type": "code",
      "source": [
        "processed_df.head()"
      ],
      "metadata": {
        "colab": {
          "base_uri": "https://localhost:8080/",
          "height": 206
        },
        "id": "NYRqjXkJn_o_",
        "outputId": "6ec7a5ca-04bb-4d7d-dda6-2e1822014952"
      },
      "execution_count": null,
      "outputs": [
        {
          "output_type": "execute_result",
          "data": {
            "text/plain": [
              "   product_category_tree                                        description\n",
              "0                      5  key features of alisha solid women s cycling s...\n",
              "1                      9  fabhomedecor fabric double sofa bed finish col...\n",
              "2                      8  key features of aw bellies sandals wedges heel...\n",
              "3                      5  key features of alisha solid women s cycling s...\n",
              "4                     21  specifications of sicons all purpose arnica do..."
            ],
            "text/html": [
              "\n",
              "  <div id=\"df-95279dfb-2252-4f05-8820-d7d9bfd1e30c\">\n",
              "    <div class=\"colab-df-container\">\n",
              "      <div>\n",
              "<style scoped>\n",
              "    .dataframe tbody tr th:only-of-type {\n",
              "        vertical-align: middle;\n",
              "    }\n",
              "\n",
              "    .dataframe tbody tr th {\n",
              "        vertical-align: top;\n",
              "    }\n",
              "\n",
              "    .dataframe thead th {\n",
              "        text-align: right;\n",
              "    }\n",
              "</style>\n",
              "<table border=\"1\" class=\"dataframe\">\n",
              "  <thead>\n",
              "    <tr style=\"text-align: right;\">\n",
              "      <th></th>\n",
              "      <th>product_category_tree</th>\n",
              "      <th>description</th>\n",
              "    </tr>\n",
              "  </thead>\n",
              "  <tbody>\n",
              "    <tr>\n",
              "      <th>0</th>\n",
              "      <td>5</td>\n",
              "      <td>key features of alisha solid women s cycling s...</td>\n",
              "    </tr>\n",
              "    <tr>\n",
              "      <th>1</th>\n",
              "      <td>9</td>\n",
              "      <td>fabhomedecor fabric double sofa bed finish col...</td>\n",
              "    </tr>\n",
              "    <tr>\n",
              "      <th>2</th>\n",
              "      <td>8</td>\n",
              "      <td>key features of aw bellies sandals wedges heel...</td>\n",
              "    </tr>\n",
              "    <tr>\n",
              "      <th>3</th>\n",
              "      <td>5</td>\n",
              "      <td>key features of alisha solid women s cycling s...</td>\n",
              "    </tr>\n",
              "    <tr>\n",
              "      <th>4</th>\n",
              "      <td>21</td>\n",
              "      <td>specifications of sicons all purpose arnica do...</td>\n",
              "    </tr>\n",
              "  </tbody>\n",
              "</table>\n",
              "</div>\n",
              "      <button class=\"colab-df-convert\" onclick=\"convertToInteractive('df-95279dfb-2252-4f05-8820-d7d9bfd1e30c')\"\n",
              "              title=\"Convert this dataframe to an interactive table.\"\n",
              "              style=\"display:none;\">\n",
              "        \n",
              "  <svg xmlns=\"http://www.w3.org/2000/svg\" height=\"24px\"viewBox=\"0 0 24 24\"\n",
              "       width=\"24px\">\n",
              "    <path d=\"M0 0h24v24H0V0z\" fill=\"none\"/>\n",
              "    <path d=\"M18.56 5.44l.94 2.06.94-2.06 2.06-.94-2.06-.94-.94-2.06-.94 2.06-2.06.94zm-11 1L8.5 8.5l.94-2.06 2.06-.94-2.06-.94L8.5 2.5l-.94 2.06-2.06.94zm10 10l.94 2.06.94-2.06 2.06-.94-2.06-.94-.94-2.06-.94 2.06-2.06.94z\"/><path d=\"M17.41 7.96l-1.37-1.37c-.4-.4-.92-.59-1.43-.59-.52 0-1.04.2-1.43.59L10.3 9.45l-7.72 7.72c-.78.78-.78 2.05 0 2.83L4 21.41c.39.39.9.59 1.41.59.51 0 1.02-.2 1.41-.59l7.78-7.78 2.81-2.81c.8-.78.8-2.07 0-2.86zM5.41 20L4 18.59l7.72-7.72 1.47 1.35L5.41 20z\"/>\n",
              "  </svg>\n",
              "      </button>\n",
              "      \n",
              "  <style>\n",
              "    .colab-df-container {\n",
              "      display:flex;\n",
              "      flex-wrap:wrap;\n",
              "      gap: 12px;\n",
              "    }\n",
              "\n",
              "    .colab-df-convert {\n",
              "      background-color: #E8F0FE;\n",
              "      border: none;\n",
              "      border-radius: 50%;\n",
              "      cursor: pointer;\n",
              "      display: none;\n",
              "      fill: #1967D2;\n",
              "      height: 32px;\n",
              "      padding: 0 0 0 0;\n",
              "      width: 32px;\n",
              "    }\n",
              "\n",
              "    .colab-df-convert:hover {\n",
              "      background-color: #E2EBFA;\n",
              "      box-shadow: 0px 1px 2px rgba(60, 64, 67, 0.3), 0px 1px 3px 1px rgba(60, 64, 67, 0.15);\n",
              "      fill: #174EA6;\n",
              "    }\n",
              "\n",
              "    [theme=dark] .colab-df-convert {\n",
              "      background-color: #3B4455;\n",
              "      fill: #D2E3FC;\n",
              "    }\n",
              "\n",
              "    [theme=dark] .colab-df-convert:hover {\n",
              "      background-color: #434B5C;\n",
              "      box-shadow: 0px 1px 3px 1px rgba(0, 0, 0, 0.15);\n",
              "      filter: drop-shadow(0px 1px 2px rgba(0, 0, 0, 0.3));\n",
              "      fill: #FFFFFF;\n",
              "    }\n",
              "  </style>\n",
              "\n",
              "      <script>\n",
              "        const buttonEl =\n",
              "          document.querySelector('#df-95279dfb-2252-4f05-8820-d7d9bfd1e30c button.colab-df-convert');\n",
              "        buttonEl.style.display =\n",
              "          google.colab.kernel.accessAllowed ? 'block' : 'none';\n",
              "\n",
              "        async function convertToInteractive(key) {\n",
              "          const element = document.querySelector('#df-95279dfb-2252-4f05-8820-d7d9bfd1e30c');\n",
              "          const dataTable =\n",
              "            await google.colab.kernel.invokeFunction('convertToInteractive',\n",
              "                                                     [key], {});\n",
              "          if (!dataTable) return;\n",
              "\n",
              "          const docLinkHtml = 'Like what you see? Visit the ' +\n",
              "            '<a target=\"_blank\" href=https://colab.research.google.com/notebooks/data_table.ipynb>data table notebook</a>'\n",
              "            + ' to learn more about interactive tables.';\n",
              "          element.innerHTML = '';\n",
              "          dataTable['output_type'] = 'display_data';\n",
              "          await google.colab.output.renderOutput(dataTable, element);\n",
              "          const docLink = document.createElement('div');\n",
              "          docLink.innerHTML = docLinkHtml;\n",
              "          element.appendChild(docLink);\n",
              "        }\n",
              "      </script>\n",
              "    </div>\n",
              "  </div>\n",
              "  "
            ]
          },
          "metadata": {},
          "execution_count": 37
        }
      ]
    },
    {
      "cell_type": "code",
      "source": [
        "#Shape of processed_df\n",
        "processed_df.shape"
      ],
      "metadata": {
        "colab": {
          "base_uri": "https://localhost:8080/"
        },
        "id": "LNdIFJJNohO2",
        "outputId": "b8633baa-54ec-49d8-dc9e-dd50724a1959"
      },
      "execution_count": null,
      "outputs": [
        {
          "output_type": "execute_result",
          "data": {
            "text/plain": [
              "(19661, 2)"
            ]
          },
          "metadata": {},
          "execution_count": 38
        }
      ]
    },
    {
      "cell_type": "code",
      "source": [
        "X_train, X_test, y_train, y_test = train_test_split(processed_df['description'],processed_df['product_category_tree'],test_size=0.33, random_state=42)"
      ],
      "metadata": {
        "id": "RrL2JUAhog9N"
      },
      "execution_count": null,
      "outputs": []
    },
    {
      "cell_type": "code",
      "source": [
        "print(X_train.shape)\n",
        "print(y_train.shape)\n",
        "print(X_test.shape)\n",
        "print(y_test.shape)"
      ],
      "metadata": {
        "colab": {
          "base_uri": "https://localhost:8080/"
        },
        "id": "3jALaQ9NumkD",
        "outputId": "a1767a3b-0d1d-4519-8058-8cb3c53b61b0"
      },
      "execution_count": null,
      "outputs": [
        {
          "output_type": "stream",
          "name": "stdout",
          "text": [
            "(13172,)\n",
            "(13172,)\n",
            "(6489,)\n",
            "(6489,)\n"
          ]
        }
      ]
    },
    {
      "cell_type": "code",
      "source": [
        "print(X_train.head())"
      ],
      "metadata": {
        "colab": {
          "base_uri": "https://localhost:8080/"
        },
        "id": "QLzOQu6humWz",
        "outputId": "c731a578-8860-4fb9-ed87-0aef642a742a"
      },
      "execution_count": null,
      "outputs": [
        {
          "output_type": "stream",
          "name": "stdout",
          "text": [
            "11158    jazzup women s leggings price rs gift yourself...\n",
            "4261     voylla yellow gold plated alloy necklace buy v...\n",
            "18897    manirathnum star diopside gemstone gemstone si...\n",
            "453      urban fashion bank casual sleeve solid women s...\n",
            "9734     zink london casual short sleeve solid women s ...\n",
            "Name: description, dtype: object\n"
          ]
        }
      ]
    },
    {
      "cell_type": "code",
      "source": [
        "\n",
        "print(y_train.head())"
      ],
      "metadata": {
        "colab": {
          "base_uri": "https://localhost:8080/"
        },
        "id": "2U8xlWWwutpu",
        "outputId": "da084970-5eb1-4978-c93f-198ab3e84e2e"
      },
      "execution_count": null,
      "outputs": [
        {
          "output_type": "stream",
          "name": "stdout",
          "text": [
            "11158     5\n",
            "4261     17\n",
            "18897    17\n",
            "453       5\n",
            "9734      5\n",
            "Name: product_category_tree, dtype: int64\n"
          ]
        }
      ]
    },
    {
      "cell_type": "code",
      "source": [
        "# Instantiating the vectorizer and removing stop words\n",
        "vect = CountVectorizer(analyzer='word', stop_words = 'english')\n",
        "# Converting the train data\n",
        "X_train_matrix = vect.fit_transform(X_train) "
      ],
      "metadata": {
        "id": "hwV35Y_rv3lZ"
      },
      "execution_count": null,
      "outputs": []
    },
    {
      "cell_type": "code",
      "source": [
        "# vect.get_feature_names()\n",
        "X_train_matrix.shape"
      ],
      "metadata": {
        "colab": {
          "base_uri": "https://localhost:8080/"
        },
        "id": "sjx2RrGcv3Vq",
        "outputId": "ab92cc00-bbf8-4b9b-8a57-c42368d7687a"
      },
      "execution_count": null,
      "outputs": [
        {
          "output_type": "execute_result",
          "data": {
            "text/plain": [
              "(13172, 16511)"
            ]
          },
          "metadata": {},
          "execution_count": 44
        }
      ]
    },
    {
      "cell_type": "code",
      "source": [
        "vect.vocabulary_"
      ],
      "metadata": {
        "colab": {
          "base_uri": "https://localhost:8080/"
        },
        "id": "uJivoW02wT05",
        "outputId": "6945aae9-c69c-4b89-dc67-09c4b4b9a4b1"
      },
      "execution_count": null,
      "outputs": [
        {
          "output_type": "execute_result",
          "data": {
            "text/plain": [
              "{'jazzup': 7530,\n",
              " 'women': 16180,\n",
              " 'leggings': 8281,\n",
              " 'price': 11263,\n",
              " 'rs': 12390,\n",
              " 'gift': 6045,\n",
              " 'trendy': 15071,\n",
              " 'comfortable': 2896,\n",
              " 'ease': 4446,\n",
              " 'day': 3627,\n",
              " 'long': 8531,\n",
              " 'time': 14787,\n",
              " 'look': 8542,\n",
              " 'stunning': 14085,\n",
              " 'voylla': 15819,\n",
              " 'yellow': 16356,\n",
              " 'gold': 6163,\n",
              " 'plated': 10902,\n",
              " 'alloy': 470,\n",
              " 'necklace': 9732,\n",
              " 'buy': 2043,\n",
              " 'flipkart': 5550,\n",
              " 'com': 2870,\n",
              " 'genuine': 5995,\n",
              " 'products': 11334,\n",
              " 'replacement': 12028,\n",
              " 'guarantee': 6337,\n",
              " 'free': 5741,\n",
              " 'shipping': 13038,\n",
              " 'cash': 2252,\n",
              " 'delivery': 3760,\n",
              " 'manirathnum': 8831,\n",
              " 'star': 13836,\n",
              " 'diopside': 4026,\n",
              " 'gemstone': 5970,\n",
              " 'silver': 13214,\n",
              " 'ring': 12222,\n",
              " 'sterling': 13901,\n",
              " 'na': 9632,\n",
              " 'brass': 1812,\n",
              " 'urban': 15434,\n",
              " 'fashion': 5224,\n",
              " 'bank': 1189,\n",
              " 'casual': 2267,\n",
              " 'sleeve': 13349,\n",
              " 'solid': 13538,\n",
              " 'blue': 1602,\n",
              " 'black': 1512,\n",
              " 'online': 10119,\n",
              " 'india': 7142,\n",
              " 'shop': 13076,\n",
              " 'apparels': 694,\n",
              " 'huge': 6883,\n",
              " 'collection': 2833,\n",
              " 'branded': 1800,\n",
              " 'clothes': 2729,\n",
              " 'zink': 16457,\n",
              " 'london': 8528,\n",
              " 'short': 13103,\n",
              " 'red': 11844,\n",
              " 'nevi': 9785,\n",
              " 'elegant': 4579,\n",
              " 'white': 16053,\n",
              " 'crystal': 3406,\n",
              " 'swarovski': 14328,\n",
              " 'metal': 9131,\n",
              " 'drop': 4311,\n",
              " 'earring': 4439,\n",
              " 'cubic': 3423,\n",
              " 'zirconia': 16468,\n",
              " 'bangle': 1187,\n",
              " 'set': 12887,\n",
              " 'specifications': 13651,\n",
              " 'aria': 771,\n",
              " 'rhodium': 12183,\n",
              " 'pendant': 10631,\n",
              " 'pearl': 10600,\n",
              " 'features': 5299,\n",
              " 'type': 15268,\n",
              " 'general': 5977,\n",
              " 'body': 1644,\n",
              " 'material': 8944,\n",
              " 'brand': 1798,\n",
              " 'theme': 14692,\n",
              " 'model': 9339,\n",
              " 'number': 9966,\n",
              " 'aarj': 35,\n",
              " 'precious': 11188,\n",
              " 'artificial': 822,\n",
              " 'jewellery': 7575,\n",
              " 'semi': 12821,\n",
              " 'plating': 10908,\n",
              " 'occasion': 10028,\n",
              " 'everyday': 4953,\n",
              " 'love': 8582,\n",
              " 'religious': 11975,\n",
              " 'wedding': 15978,\n",
              " 'engagement': 4730,\n",
              " 'workwear': 16218,\n",
              " 'ideal': 6967,\n",
              " 'girls': 6066,\n",
              " 'chain': 2384,\n",
              " 'included': 7107,\n",
              " 'diamond': 3942,\n",
              " 'weight': 15994,\n",
              " 'cent': 2338,\n",
              " 'diamong': 3945,\n",
              " 'color': 2841,\n",
              " 'grade': 6231,\n",
              " 'cut': 3505,\n",
              " 'clarity': 2646,\n",
              " 'dimensions': 4005,\n",
              " 'width': 16078,\n",
              " 'mm': 9307,\n",
              " 'additional': 218,\n",
              " 'certification': 2362,\n",
              " 'bis': 1502,\n",
              " 'hallmark': 6412,\n",
              " 'radiant': 11629,\n",
              " 'bay': 1258,\n",
              " 'blossom': 1587,\n",
              " 'lure': 8651,\n",
              " 'woods': 16196,\n",
              " 'flats': 5510,\n",
              " 'palatte': 10399,\n",
              " 'hanging': 6466,\n",
              " 'planter': 10890,\n",
              " 'plant': 10888,\n",
              " 'container': 3102,\n",
              " 'best': 1408,\n",
              " 'prices': 11266,\n",
              " 'yepme': 16357,\n",
              " 'graphic': 6258,\n",
              " 'print': 11285,\n",
              " 'round': 12358,\n",
              " 'neck': 9727,\n",
              " 'shirt': 13040,\n",
              " 'funky': 5846,\n",
              " 'new': 9787,\n",
              " 'range': 11699,\n",
              " 'tees': 14586,\n",
              " 'featuring': 5300,\n",
              " 'slim': 13371,\n",
              " 'fit': 5464,\n",
              " 'stylishly': 14107,\n",
              " 'tee': 14578,\n",
              " 'favorites': 5272,\n",
              " 'nominal': 9899,\n",
              " 'really': 11788,\n",
              " 'meant': 9012,\n",
              " 'summers': 14190,\n",
              " 'cotton': 3225,\n",
              " 'jersey': 7556,\n",
              " 'great': 6275,\n",
              " 'quickly': 11581,\n",
              " 'tenda': 14616,\n",
              " 'fh': 5366,\n",
              " 'carlton': 2207,\n",
              " 'boots': 1703,\n",
              " 'cll': 2709,\n",
              " 'purpleyou': 11506,\n",
              " 'embroidered': 4651,\n",
              " 'blouse': 1589,\n",
              " 'harpa': 6512,\n",
              " 'sleeveless': 13351,\n",
              " 'key': 7851,\n",
              " 'aao': 24,\n",
              " 'aviator': 1039,\n",
              " 'sunglasses': 14202,\n",
              " 'face': 5149,\n",
              " 'square': 13772,\n",
              " 'oval': 10294,\n",
              " 'heart': 6581,\n",
              " 'frame': 5724,\n",
              " 'rim': 12219,\n",
              " 'uv': 15481,\n",
              " 'protection': 11397,\n",
              " 'ploarized': 10947,\n",
              " 'lens': 8312,\n",
              " 'ganmetal': 5913,\n",
              " 'size': 13275,\n",
              " 'shape': 12949,\n",
              " 'case': 2247,\n",
              " 'zip': 16458,\n",
              " 'cover': 3257,\n",
              " 'style': 14094,\n",
              " 'code': 2797,\n",
              " 'men': 9082,\n",
              " 'usage': 15447,\n",
              " 'eye': 5107,\n",
              " 'warranty': 15897,\n",
              " 'covered': 3260,\n",
              " 'product': 11331,\n",
              " 'limited': 8410,\n",
              " 'manufacturing': 8853,\n",
              " 'defects': 3716,\n",
              " 'sunglass': 14201,\n",
              " 'sold': 13529,\n",
              " 'functions': 5839,\n",
              " 'polarization': 10997,\n",
              " 'gradient': 6233,\n",
              " 'cr': 3278,\n",
              " 'mirror': 9268,\n",
              " 'finish': 5445,\n",
              " 'box': 1755,\n",
              " 'sales': 12520,\n",
              " 'package': 10351,\n",
              " 'zipp': 16460,\n",
              " 'cleaning': 2673,\n",
              " 'cloth': 2728,\n",
              " 'jewelbox': 7565,\n",
              " 'design': 3827,\n",
              " 'dainty': 3556,\n",
              " 'teamed': 14550,\n",
              " 'traditional': 14984,\n",
              " 'work': 16206,\n",
              " 'wear': 15954,\n",
              " 'intenal': 7326,\n",
              " 'height': 6603,\n",
              " 'cm': 2752,\n",
              " 'gm': 6136,\n",
              " 'locking': 8508,\n",
              " 'opens': 10147,\n",
              " 'gently': 5992,\n",
              " 'pulling': 11455,\n",
              " 'shank': 12942,\n",
              " 'sides': 13176,\n",
              " 'invisible': 7389,\n",
              " 'maintain': 8757,\n",
              " 'uniformity': 15360,\n",
              " 'openable': 10141,\n",
              " 'fits': 5468,\n",
              " 'wrist': 16268,\n",
              " 'sizes': 13277,\n",
              " 'ranging': 11701,\n",
              " 'inches': 7101,\n",
              " 'diametre': 3941,\n",
              " 'american': 528,\n",
              " 'diamonds': 3944,\n",
              " 'handpicked': 6450,\n",
              " 'colour': 2853,\n",
              " 'hiose': 6712,\n",
              " 'girl': 6063,\n",
              " 'green': 6279,\n",
              " 'maroon': 8892,\n",
              " 'navy': 9692,\n",
              " 'purple': 11504,\n",
              " 'royal': 12371,\n",
              " 'pack': 10350,\n",
              " 'details': 3863,\n",
              " 'contents': 3114,\n",
              " 'fabric': 5135,\n",
              " 'pattern': 10542,\n",
              " 'fabpoppy': 5134,\n",
              " 'mesleep': 9118,\n",
              " 'abstract': 96,\n",
              " 'cushions': 3488,\n",
              " 'roadster': 12268,\n",
              " 'turtle': 15229,\n",
              " 'sweater': 14337,\n",
              " 'grey': 6286,\n",
              " 'shawl': 12978,\n",
              " 'button': 2035,\n",
              " 'sleeves': 13352,\n",
              " 'ribbed': 12190,\n",
              " 'hem': 6622,\n",
              " 'perfect': 10660,\n",
              " 'blend': 1546,\n",
              " 'comfort': 2894,\n",
              " 'team': 14549,\n",
              " 'pair': 10383,\n",
              " 'jeans': 7544,\n",
              " 'trousers': 15143,\n",
              " 'smart': 13411,\n",
              " 'nucode': 9961,\n",
              " 'romano': 12314,\n",
              " 'sweatshirt': 14341,\n",
              " 'suitable': 14174,\n",
              " 'fusion': 5866,\n",
              " 'hooded': 6794,\n",
              " 'cold': 2816,\n",
              " 'regular': 11923,\n",
              " 'quality': 11557,\n",
              " 'yes': 16358,\n",
              " 'wool': 16200,\n",
              " 'rtru': 12401,\n",
              " 'care': 2190,\n",
              " 'wash': 15901,\n",
              " 'instruction': 7305,\n",
              " 'machine': 8694,\n",
              " 'mild': 9208,\n",
              " 'cycle': 3524,\n",
              " 'iron': 7416,\n",
              " 'medium': 9037,\n",
              " 'amore': 542,\n",
              " 'store': 13965,\n",
              " 'paper': 10453,\n",
              " 'sticker': 13915,\n",
              " 'debenhams': 3662,\n",
              " 'jasper': 7517,\n",
              " 'conran': 3066,\n",
              " 'camisole': 2112,\n",
              " 'hemden': 6625,\n",
              " 'zipper': 16462,\n",
              " 'cushion': 3485,\n",
              " 'covers': 3262,\n",
              " 'taffeta': 14438,\n",
              " 'silk': 13204,\n",
              " 'washable': 15902,\n",
              " 'inch': 7100,\n",
              " 'premium': 11211,\n",
              " 'amplify': 549,\n",
              " 'aesthetic': 318,\n",
              " 'appeal': 695,\n",
              " 'living': 8474,\n",
              " 'room': 12324,\n",
              " 'stylish': 14105,\n",
              " 'durable': 4377,\n",
              " 'easy': 4455,\n",
              " 'decorate': 3678,\n",
              " 'manner': 8835,\n",
              " 'fills': 5414,\n",
              " 'energy': 4725,\n",
              " 'positivity': 11104,\n",
              " 'enter': 4776,\n",
              " 'item': 7456,\n",
              " 'shown': 13120,\n",
              " 'image': 7018,\n",
              " 'apart': 677,\n",
              " 'content': 3112,\n",
              " 'display': 4086,\n",
              " 'purpose': 11507,\n",
              " 'closure': 2725,\n",
              " 'hmdn': 6736,\n",
              " 'polyester': 11027,\n",
              " 'thread': 14735,\n",
              " 'count': 3231,\n",
              " 'character': 2424,\n",
              " 'length': 8307,\n",
              " 'fashionable': 5225,\n",
              " 'reversible': 12152,\n",
              " 'normal': 9910,\n",
              " 'detergent': 3868,\n",
              " 'warm': 15889,\n",
              " 'water': 15918,\n",
              " 'bleached': 1540,\n",
              " 'strong': 14054,\n",
              " 'detergents': 3869,\n",
              " 'piece': 10791,\n",
              " 'soft': 13506,\n",
              " 'wallmantra': 15866,\n",
              " 'large': 8166,\n",
              " 'vinyl': 15725,\n",
              " 'stickers': 13916,\n",
              " 'jouer': 7654,\n",
              " 'anti': 641,\n",
              " 'aging': 358,\n",
              " 'moisture': 9366,\n",
              " 'primer': 11278,\n",
              " 'ml': 9301,\n",
              " 'traits': 14994,\n",
              " 'texture': 14660,\n",
              " 'cream': 3321,\n",
              " 'organic': 10201,\n",
              " 'natural': 9676,\n",
              " 'quantity': 11561,\n",
              " 'shade': 12919,\n",
              " 'skin': 13302,\n",
              " 'navaksha': 9685,\n",
              " 'necktie': 9737,\n",
              " 'combo': 2883,\n",
              " 'spinz': 13703,\n",
              " 'magic': 8719,\n",
              " 'rejuve': 11944,\n",
              " 'enchante': 4694,\n",
              " 'thelostpuppy': 14690,\n",
              " 'apple': 706,\n",
              " 'ipad': 7403,\n",
              " 'air': 383,\n",
              " 'multicolor': 9545,\n",
              " 'designed': 3829,\n",
              " 'protect': 11393,\n",
              " 'impress': 7072,\n",
              " 'lost': 8566,\n",
              " 'puppy': 11480,\n",
              " 'brings': 1869,\n",
              " 'robust': 12282,\n",
              " 'mobile': 9317,\n",
              " 'special': 13636,\n",
              " 'slip': 13378,\n",
              " 'technology': 14572,\n",
              " 'protects': 11401,\n",
              " 'phone': 10747,\n",
              " 'ways': 15938,\n",
              " 'matte': 8961,\n",
              " 'superior': 14232,\n",
              " 'add': 211,\n",
              " 'elegance': 4578,\n",
              " 'class': 2651,\n",
              " 'sturdiness': 14088,\n",
              " 'dwm': 4402,\n",
              " 'patiala': 10532,\n",
              " 'jain': 7493,\n",
              " 'formal': 5680,\n",
              " 'used': 15452,\n",
              " 'making': 8780,\n",
              " 'high': 6677,\n",
              " 'definitely': 3726,\n",
              " 'accompany': 136,\n",
              " 'period': 10680,\n",
              " 'vaishali': 15495,\n",
              " 'bindi': 1485,\n",
              " 'bangles': 1188,\n",
              " 'coloured': 2855,\n",
              " 'cz': 3536,\n",
              " 'stone': 13954,\n",
              " 'copper': 3172,\n",
              " 'jewel': 7564,\n",
              " 'karatcraft': 7779,\n",
              " 'platzi': 10911,\n",
              " 'rakam': 11683,\n",
              " 'cation': 2281,\n",
              " 'fashnopolism': 5241,\n",
              " 'wedges': 15981,\n",
              " 'zombom': 16483,\n",
              " 'stitched': 13938,\n",
              " 'salwar': 12531,\n",
              " 'suit': 14173,\n",
              " 'dupatta': 4365,\n",
              " 'lace': 8095,\n",
              " 'gorgeous': 6197,\n",
              " 'latest': 8178,\n",
              " 'choice': 2552,\n",
              " 'cart': 2232,\n",
              " 'comes': 2887,\n",
              " 'sell': 12815,\n",
              " 'satisfy': 12605,\n",
              " 'valuable': 15509,\n",
              " 'customer': 3493,\n",
              " 'mtr': 9521,\n",
              " 'santoon': 12565,\n",
              " 'chiffon': 2510,\n",
              " 'bust': 2025,\n",
              " 'view': 15695,\n",
              " 'zbjed': 16425,\n",
              " 'gentle': 5991,\n",
              " 'vidhya': 15693,\n",
              " 'kangan': 7764,\n",
              " 'blacksoul': 1524,\n",
              " 'cranberry': 3305,\n",
              " 'provalley': 11410,\n",
              " 'printed': 11286,\n",
              " 'boy': 1762,\n",
              " 'polo': 11016,\n",
              " 'valusha': 15515,\n",
              " 'petite': 10722,\n",
              " 'sequence': 12861,\n",
              " 'extremely': 5099,\n",
              " 'light': 8375,\n",
              " 'affordable': 331,\n",
              " 'exclusive': 4999,\n",
              " 'good': 6183,\n",
              " 'muchmore': 9526,\n",
              " 'charm': 2445,\n",
              " 'bracelet': 1775,\n",
              " 'gives': 6072,\n",
              " 'shahi': 12931,\n",
              " 'designer': 3830,\n",
              " 'make': 8770,\n",
              " 'feel': 5309,\n",
              " 'complement': 2959,\n",
              " 'outfits': 10272,\n",
              " 'worn': 16223,\n",
              " 'statement': 13854,\n",
              " 'daily': 3549,\n",
              " 'nourish': 9935,\n",
              " 'wheel': 16030,\n",
              " 'pizza': 10864,\n",
              " 'cutter': 3515,\n",
              " 'gungun': 6366,\n",
              " 'stella': 13887,\n",
              " 'vedika': 15583,\n",
              " 'fabulloso': 5143,\n",
              " 'choker': 2555,\n",
              " 'jsr': 7677,\n",
              " 'paris': 10478,\n",
              " 'beauty': 1307,\n",
              " 'seamless': 12749,\n",
              " 'moulded': 9464,\n",
              " 'coverage': 3258,\n",
              " 'bra': 1774,\n",
              " 'hitway': 6730,\n",
              " 'leather': 8249,\n",
              " 'heel': 6598,\n",
              " 'boys': 1764,\n",
              " 'shoe': 13063,\n",
              " 'outer': 10269,\n",
              " 'quechua': 11568,\n",
              " 'forclaz': 5667,\n",
              " 'backpack': 1115,\n",
              " 'bag': 1130,\n",
              " 'capacity': 2149,\n",
              " 'sport': 13733,\n",
              " 'fast': 5246,\n",
              " 'growing': 6323,\n",
              " 'accessories': 122,\n",
              " 'commited': 2916,\n",
              " 'provide': 11414,\n",
              " 'meet': 9046,\n",
              " 'expectations': 5032,\n",
              " 'micro': 9175,\n",
              " 'fiber': 5371,\n",
              " 'pocket': 10976,\n",
              " 'cufflinks': 3430,\n",
              " 'party': 10499,\n",
              " 'chokree': 2556,\n",
              " 'baby': 1098,\n",
              " 'line': 8415,\n",
              " 'dress': 4277,\n",
              " 'pink': 10823,\n",
              " 'maxi': 8979,\n",
              " 'synthetic': 14405,\n",
              " 'playboy': 10915,\n",
              " 'berlin': 1400,\n",
              " 'allure': 472,\n",
              " 'auto': 996,\n",
              " 'car': 2169,\n",
              " 'mat': 8938,\n",
              " 'maruti': 8903,\n",
              " 'baleno': 1157,\n",
              " 'knotty': 7977,\n",
              " 'derby': 3811,\n",
              " 'goyle': 6213,\n",
              " 'ankle': 608,\n",
              " 'shri': 13136,\n",
              " 'shyam': 13160,\n",
              " 'baba': 1092,\n",
              " 'jewellers': 7574,\n",
              " 'panditnmshrimali': 10426,\n",
              " 'parad': 10459,\n",
              " 'shivlingam': 13055,\n",
              " 'showpiece': 13122,\n",
              " 'mercury': 9104,\n",
              " 'shivling': 13053,\n",
              " 'represents': 12046,\n",
              " 'confluence': 3042,\n",
              " 'divine': 4136,\n",
              " 'maya': 8987,\n",
              " 'illusion': 7012,\n",
              " 'congregation': 3051,\n",
              " 'nature': 9679,\n",
              " 'male': 8784,\n",
              " 'union': 15366,\n",
              " 'lord': 8559,\n",
              " 'shiv': 13044,\n",
              " 'goddess': 6150,\n",
              " 'parvati': 10503,\n",
              " 'shivlinga': 13054,\n",
              " 'symbolizes': 14395,\n",
              " 'shiva': 13045,\n",
              " 'mahamrityunjay': 8742,\n",
              " 'conqueror': 3065,\n",
              " 'death': 3659,\n",
              " 'splendor': 13717,\n",
              " 'believed': 1347,\n",
              " 'semen': 12820,\n",
              " 'seed': 12786,\n",
              " 'finds': 5432,\n",
              " 'mention': 9093,\n",
              " 'puranas': 11484,\n",
              " 'shastras': 12968,\n",
              " 'tantra': 14488,\n",
              " 'text': 14655,\n",
              " 'mahashivratri': 8744,\n",
              " 'falling': 5194,\n",
              " 'th': 14670,\n",
              " 'march': 8867,\n",
              " 'celebrated': 2320,\n",
              " 'hindu': 6706,\n",
              " 'festivals': 5350,\n",
              " 'people': 10645,\n",
              " 'observe': 10016,\n",
              " 'order': 10189,\n",
              " 'mahadeva': 8740,\n",
              " 'grand': 6247,\n",
              " 'night': 9829,\n",
              " 'shive': 13050,\n",
              " 'shakti': 12936,\n",
              " 'merge': 9106,\n",
              " 'represented': 12044,\n",
              " 'vedas': 15581,\n",
              " 'pure': 11491,\n",
              " 'auspicious': 979,\n",
              " 'importance': 7065,\n",
              " 'bramha': 1795,\n",
              " 'purana': 11483,\n",
              " 'mentioned': 9094,\n",
              " 'individual': 7169,\n",
              " 'worships': 16234,\n",
              " 'idols': 6981,\n",
              " 'loyally': 8602,\n",
              " 'gets': 6021,\n",
              " 'worldly': 16220,\n",
              " 'pleasures': 10935,\n",
              " 'eventually': 4946,\n",
              " 'attains': 945,\n",
              " 'salvation': 12529,\n",
              " 'able': 68,\n",
              " 'fulfill': 5822,\n",
              " 'goals': 6146,\n",
              " 'religion': 11974,\n",
              " 'health': 6577,\n",
              " 'desire': 3842,\n",
              " 'worshipping': 16233,\n",
              " 'ancient': 574,\n",
              " 'scriptures': 12721,\n",
              " 'ras': 11714,\n",
              " 'ratnakar': 11734,\n",
              " 'chandasu': 2405,\n",
              " 'samhita': 12535,\n",
              " 'rasendara': 11718,\n",
              " 'chudamani': 2581,\n",
              " 'mere': 9105,\n",
              " 'touch': 14929,\n",
              " 'person': 10696,\n",
              " 'benefit': 1386,\n",
              " 'puja': 11449,\n",
              " 'lokas': 8522,\n",
              " 'benefits': 1387,\n",
              " 'purest': 11494,\n",
              " 'regarded': 11913,\n",
              " 'sadhana': 12480,\n",
              " 'concentrates': 3001,\n",
              " 'uses': 15457,\n",
              " 'worship': 16228,\n",
              " 'desires': 3844,\n",
              " 'fulfilled': 5823,\n",
              " 'rishis': 12237,\n",
              " 'relief': 11971,\n",
              " 'disease': 4063,\n",
              " 'necessary': 9724,\n",
              " 'medicine': 9031,\n",
              " 'makes': 8776,\n",
              " 'devotee': 3891,\n",
              " 'fear': 5291,\n",
              " 'issues': 7445,\n",
              " 'dangers': 3583,\n",
              " 'addition': 217,\n",
              " 'worshipper': 16231,\n",
              " 'spiritual': 13708,\n",
              " 'healthy': 6579,\n",
              " 'brave': 1815,\n",
              " 'harmony': 6507,\n",
              " 'weeds': 15983,\n",
              " 'trouble': 15139,\n",
              " 'removes': 11999,\n",
              " 'stress': 14015,\n",
              " 'tension': 14624,\n",
              " 'ego': 4529,\n",
              " 'capable': 2147,\n",
              " 'bring': 1867,\n",
              " 'life': 8364,\n",
              " 'threatening': 14738,\n",
              " 'situation': 13270,\n",
              " 'critical': 3372,\n",
              " 'situations': 13271,\n",
              " 'safeguards': 12487,\n",
              " 'ill': 7004,\n",
              " 'effects': 4517,\n",
              " 'kaal': 7721,\n",
              " 'sarp': 12587,\n",
              " 'dosh': 4226,\n",
              " 'mangalik': 8819,\n",
              " 'planetary': 10885,\n",
              " 'flaws': 5529,\n",
              " 'eliminates': 4599,\n",
              " 'adversity': 298,\n",
              " 'luck': 8626,\n",
              " 'success': 14148,\n",
              " 'reinstates': 11939,\n",
              " 'faith': 5188,\n",
              " 'mental': 9089,\n",
              " 'physical': 10768,\n",
              " 'power': 11139,\n",
              " 'enables': 4685,\n",
              " 'sorrow': 13575,\n",
              " 'struggle': 14060,\n",
              " 'mantra': 8842,\n",
              " 'tatpurushay': 14523,\n",
              " 'vidmahe': 15694,\n",
              " 'mahaadevaaya': 8738,\n",
              " 'dheemahi': 3916,\n",
              " 'tanno': 14487,\n",
              " 'rudrah': 12420,\n",
              " 'prachodayaat': 11162,\n",
              " 'om': 10102,\n",
              " 'triyambakam': 15129,\n",
              " 'yajamahe': 16334,\n",
              " 'sugandhim': 14162,\n",
              " 'pushti': 11515,\n",
              " 'vardhanam': 15536,\n",
              " 'urvarukamiva': 15443,\n",
              " 'bandhanan': 1182,\n",
              " 'mrityor': 9502,\n",
              " 'mukshiya': 9538,\n",
              " 'maamritat': 8688,\n",
              " 'namah': 9645,\n",
              " 'shivay': 13049,\n",
              " 'houm': 6833,\n",
              " 'jum': 7694,\n",
              " 'sah': 12500,\n",
              " 'palaye': 10400,\n",
              " 'pnms': 10974,\n",
              " 'depth': 3810,\n",
              " 'resistant': 12081,\n",
              " 'figurine': 5396,\n",
              " 'laviva': 8197,\n",
              " 'stunnig': 14084,\n",
              " 'fancy': 5206,\n",
              " 'swastik': 14330,\n",
              " 'rakhis': 11685,\n",
              " 'rakhi': 11684,\n",
              " 'pcs': 10578,\n",
              " 'roli': 12303,\n",
              " 'tilak': 14778,\n",
              " 'joy': 7663,\n",
              " 'rakshabandhan': 11687,\n",
              " 'sending': 12827,\n",
              " 'loving': 8593,\n",
              " 'brother': 1905,\n",
              " 'rob': 12275,\n",
              " 'satin': 12599,\n",
              " 'dial': 3936,\n",
              " 'clove': 2734,\n",
              " 'striped': 14044,\n",
              " 'jk': 7612,\n",
              " 'import': 7064,\n",
              " 'rudrash': 12423,\n",
              " 'mala': 8781,\n",
              " 'wood': 16192,\n",
              " 'mens': 9086,\n",
              " 'ch': 2374,\n",
              " 'brown': 1911,\n",
              " 'carat': 2174,\n",
              " 'purity': 11500,\n",
              " 'base': 1216,\n",
              " 'rudraksh': 12421,\n",
              " 'clasp': 2650,\n",
              " 'hook': 6799,\n",
              " 'sonik': 13562,\n",
              " 'motorbike': 9456,\n",
              " 'helmet': 6615,\n",
              " 'xl': 16305,\n",
              " 'sturdy': 14089,\n",
              " 'inner': 7246,\n",
              " 'shell': 13000,\n",
              " 'polystyrene': 11041,\n",
              " 'eps': 4831,\n",
              " 'straps': 13992,\n",
              " 'adjustments': 256,\n",
              " 'adjustable': 250,\n",
              " 'strap': 13989,\n",
              " 'open': 10140,\n",
              " 'liner': 8421,\n",
              " 'isi': 7432,\n",
              " 'polycarbonate': 11022,\n",
              " 'plastic': 10898,\n",
              " 'shiny': 13033,\n",
              " 'visor': 15755,\n",
              " 'mi': 9165,\n",
              " 'dulce': 4346,\n",
              " 'ya': 16329,\n",
              " 'single': 13246,\n",
              " 'breasted': 1829,\n",
              " 'blazer': 1536,\n",
              " 'pockets': 10979,\n",
              " 'vents': 15622,\n",
              " 'vent': 15615,\n",
              " 'lining': 8428,\n",
              " 'similar': 13220,\n",
              " 'colors': 2849,\n",
              " 'ss': 13790,\n",
              " 'ib': 6945,\n",
              " 'wc': 15943,\n",
              " 'clair': 2638,\n",
              " 'micromax': 9183,\n",
              " 'battery': 1253,\n",
              " 'charger': 2436,\n",
              " 'dual': 4337,\n",
              " 'usb': 15449,\n",
              " 'compatible': 2948,\n",
              " 'compact': 2927,\n",
              " 'convenient': 3139,\n",
              " 'way': 15936,\n",
              " 'vehicle': 15596,\n",
              " 'operation': 10152,\n",
              " 'safety': 12491,\n",
              " 'maintenance': 8760,\n",
              " 'user': 15455,\n",
              " 'guide': 6354,\n",
              " 'bilitong': 1480,\n",
              " 'enhancements': 4746,\n",
              " 'enable': 4683,\n",
              " 'possible': 11110,\n",
              " 'check': 2466,\n",
              " 'compatibility': 2946,\n",
              " 'enhancement': 4745,\n",
              " 'dealer': 3651,\n",
              " 'performance': 10671,\n",
              " 'illustration': 7016,\n",
              " 'input': 7259,\n",
              " 'dc': 3641,\n",
              " 'output': 10281,\n",
              " 'channel': 2418,\n",
              " 'keeping': 7834,\n",
              " 'support': 14250,\n",
              " 'charging': 2439,\n",
              " 'simultaneously': 13235,\n",
              " 'efficiency': 4518,\n",
              " 'ic': 6951,\n",
              " 'inside': 7271,\n",
              " 'control': 3131,\n",
              " 'circuit': 2614,\n",
              " 'multi': 9540,\n",
              " 'brief': 1853,\n",
              " 'connector': 3061,\n",
              " 'rock': 12286,\n",
              " 'denim': 3780,\n",
              " 'watch': 15912,\n",
              " 'apparel': 693,\n",
              " 'primary': 11272,\n",
              " 'db': 3635,\n",
              " 'blackrakhi': 1521,\n",
              " 'marvel': 8905,\n",
              " 'bath': 1238,\n",
              " 'towel': 14946,\n",
              " 'snjmart': 13469,\n",
              " 'note': 9922,\n",
              " 'stereo': 13898,\n",
              " 'dynamic': 4414,\n",
              " 'earphone': 4436,\n",
              " 'wired': 16136,\n",
              " 'headphones': 6569,\n",
              " 'canalphone': 2122,\n",
              " 'noise': 9894,\n",
              " 'cancellation': 2125,\n",
              " 'inline': 7242,\n",
              " 'remote': 11992,\n",
              " 'ear': 4427,\n",
              " 'presents': 11228,\n",
              " 'samsung': 12539,\n",
              " 'unbeatable': 15319,\n",
              " 'sound': 13584,\n",
              " 'sweat': 14335,\n",
              " 'proof': 11380,\n",
              " 'big': 1466,\n",
              " 'speakers': 13632,\n",
              " 'just': 7710,\n",
              " 'heavy': 6593,\n",
              " 'magnet': 8726,\n",
              " 'plug': 10951,\n",
              " 'amazing': 511,\n",
              " 'headset': 6572,\n",
              " 'phones': 10749,\n",
              " 'wireless': 16138,\n",
              " 'devices': 3885,\n",
              " 'tablet': 14421,\n",
              " 'headphone': 6568,\n",
              " 'id': 6963,\n",
              " 'manufacture': 8848,\n",
              " 'defect': 3713,\n",
              " 'summary': 14188,\n",
              " 'days': 3628,\n",
              " 'service': 12880,\n",
              " 'seller': 12816,\n",
              " 'damage': 3564,\n",
              " 'broken': 1896,\n",
              " 'connectivity': 3060,\n",
              " 'jack': 7477,\n",
              " 'cord': 3179,\n",
              " 'flatwire': 5516,\n",
              " 'foldable': 5625,\n",
              " 'collapsible': 2822,\n",
              " 'fifa': 5384,\n",
              " 'laptop': 8164,\n",
              " 'lab': 8085,\n",
              " 'analog': 561,\n",
              " 'dia': 3932,\n",
              " 'wall': 15861,\n",
              " 'clock': 2711,\n",
              " 'glass': 6091,\n",
              " 'follow': 5635,\n",
              " 'intuition': 7376,\n",
              " 'home': 6774,\n",
              " 'magnificent': 8730,\n",
              " 'appealing': 696,\n",
              " 'works': 16215,\n",
              " 'quartz': 11566,\n",
              " 'movement': 9481,\n",
              " 'provides': 11417,\n",
              " 'lasting': 8174,\n",
              " 'artistically': 829,\n",
              " 'decorated': 3679,\n",
              " 'surrounding': 14282,\n",
              " 'aesthetically': 319,\n",
              " 'pleasant': 10931,\n",
              " 'beautiful': 1302,\n",
              " 'walls': 15869,\n",
              " 'requires': 12060,\n",
              " 'aa': 0,\n",
              " 'mechanism': 9021,\n",
              " 'cs': 3409,\n",
              " 'gr': 6220,\n",
              " 'diameter': 3939,\n",
              " 'batteries': 1251,\n",
              " 'source': 13590,\n",
              " 'powered': 11142,\n",
              " 'luxury': 8667,\n",
              " 'ensures': 4773,\n",
              " 'longevity': 8537,\n",
              " 'adds': 225,\n",
              " 'showing': 13119,\n",
              " 'bezel': 1424,\n",
              " 'hands': 6453,\n",
              " 'estyle': 4894,\n",
              " 'kurta': 8062,\n",
              " 'cap': 2144,\n",
              " 'flare': 5498,\n",
              " 'orange': 10182,\n",
              " 'sneha': 13466,\n",
              " 'unique': 15367,\n",
              " 'walldesign': 15863,\n",
              " 'small': 13408,\n",
              " 'shibha': 13009,\n",
              " 'footwear': 5662,\n",
              " 'ballerina': 1159,\n",
              " 'loafers': 8497,\n",
              " 'getabhi': 6017,\n",
              " 'tie': 14762,\n",
              " 'adroitz': 282,\n",
              " 'barbie': 1200,\n",
              " 'doll': 4188,\n",
              " 'sunshade': 14215,\n",
              " 'curtain': 3477,\n",
              " 'alto': 496,\n",
              " 'sun': 14195,\n",
              " 'install': 7290,\n",
              " 'remove': 11995,\n",
              " 'highly': 6687,\n",
              " 'simple': 13224,\n",
              " 'use': 15451,\n",
              " 'ac': 105,\n",
              " 'effective': 4514,\n",
              " 'window': 16097,\n",
              " 'birbie': 1494,\n",
              " 'scorching': 12694,\n",
              " 'sunrays': 14211,\n",
              " 'privacy': 11301,\n",
              " 'peeping': 10618,\n",
              " 'tom': 14865,\n",
              " 'interior': 7345,\n",
              " 'cool': 3160,\n",
              " 'shades': 12921,\n",
              " 'perform': 10670,\n",
              " 'perfectly': 10668,\n",
              " 'giving': 6073,\n",
              " 'sunshades': 14216,\n",
              " 'create': 3328,\n",
              " 'mesh': 9117,\n",
              " 'layer': 8206,\n",
              " 'stops': 13961,\n",
              " 'heat': 6585,\n",
              " 'allowing': 468,\n",
              " 'aircondition': 384,\n",
              " 'block': 1575,\n",
              " 'rays': 11750,\n",
              " 'keeps': 7835,\n",
              " 'universal': 15376,\n",
              " 'kindly': 7912,\n",
              " 'specification': 13650,\n",
              " 'ordering': 10191,\n",
              " 'attachment': 938,\n",
              " 'suction': 14153,\n",
              " 'cup': 3448,\n",
              " 'placement': 10874,\n",
              " 'position': 11097,\n",
              " 'era': 4844,\n",
              " 'police': 11000,\n",
              " 'lycra': 8678,\n",
              " 'dnx': 4167,\n",
              " 'washed': 15904,\n",
              " 'envy': 4814,\n",
              " 'dark': 3596,\n",
              " 'electric': 4568,\n",
              " 'jewelizer': 7570,\n",
              " 'bohemian': 1653,\n",
              " 'opal': 10135,\n",
              " 'talk': 14464,\n",
              " 'actually': 191,\n",
              " 'need': 9741,\n",
              " ...}"
            ]
          },
          "metadata": {},
          "execution_count": 45
        }
      ]
    },
    {
      "cell_type": "code",
      "source": [
        "# Instantiate a Multinomial Naive Bayes model\n",
        "model=MultinomialNB()\n",
        "\n",
        "# Train the model\n",
        "model.fit(X_train_matrix, y_train)\n",
        "\n",
        "# Scoring the trained model\n",
        "print(\"Accuracy of model on training data:\" , model.score(X_train_matrix, y_train))"
      ],
      "metadata": {
        "colab": {
          "base_uri": "https://localhost:8080/"
        },
        "id": "CqlFQW3B2Aez",
        "outputId": "b6c536de-2f2d-4f9a-8c86-c893c419ae7e"
      },
      "execution_count": null,
      "outputs": [
        {
          "output_type": "stream",
          "name": "stdout",
          "text": [
            "Accuracy of model on training data: 0.9489067719404798\n"
          ]
        }
      ]
    },
    {
      "cell_type": "code",
      "source": [
        "'''\n",
        "This code block is for predicting & scoring test data\n",
        "\n",
        "'''\n",
        "\n",
        "# Converting the test data\n",
        "X_test_matrix = vect.transform(X_test) \n",
        "\n",
        "# Scoring for the test data\n",
        "print (\"Accuracy of model on testing data:\", model.score(X_test_matrix, y_test))"
      ],
      "metadata": {
        "colab": {
          "base_uri": "https://localhost:8080/"
        },
        "id": "YKPwgw6D2A5a",
        "outputId": "bf68b79d-e530-4307-9204-0496ee865e8d"
      },
      "execution_count": null,
      "outputs": [
        {
          "output_type": "stream",
          "name": "stdout",
          "text": [
            "Accuracy of model on testing data: 0.9281861611958699\n"
          ]
        }
      ]
    },
    {
      "cell_type": "code",
      "source": [
        "'''\n",
        "Time taken by our model for traing \n",
        "'''\n",
        "%time model.fit(X_train_matrix, y_train)"
      ],
      "metadata": {
        "colab": {
          "base_uri": "https://localhost:8080/"
        },
        "id": "YoM9U-XW32Iv",
        "outputId": "d1dd8910-9f1b-4cfa-d2b3-67ca49c6101f"
      },
      "execution_count": null,
      "outputs": [
        {
          "output_type": "stream",
          "name": "stdout",
          "text": [
            "CPU times: user 21.7 ms, sys: 4.03 ms, total: 25.7 ms\n",
            "Wall time: 26.1 ms\n"
          ]
        },
        {
          "output_type": "execute_result",
          "data": {
            "text/plain": [
              "MultinomialNB()"
            ]
          },
          "metadata": {},
          "execution_count": 48
        }
      ]
    },
    {
      "cell_type": "code",
      "source": [
        "# Printing score \n",
        "predicted_result=model.predict(X_test_matrix)\n",
        "print(classification_report(y_test,predicted_result))"
      ],
      "metadata": {
        "colab": {
          "base_uri": "https://localhost:8080/"
        },
        "id": "MkraLXGf31ze",
        "outputId": "c28cf9a1-60d8-4f55-a3bc-3cc1b1e87986"
      },
      "execution_count": null,
      "outputs": [
        {
          "output_type": "stream",
          "name": "stdout",
          "text": [
            "              precision    recall  f1-score   support\n",
            "\n",
            "           0       0.91      1.00      0.95       333\n",
            "           1       0.89      0.60      0.71       174\n",
            "           2       0.79      0.64      0.71        85\n",
            "           3       0.80      0.91      0.85       215\n",
            "           4       1.00      0.12      0.21        34\n",
            "           5       0.98      0.99      0.99      1999\n",
            "           6       0.88      0.78      0.83       216\n",
            "           7       1.00      1.00      1.00         4\n",
            "           8       0.97      0.98      0.97       396\n",
            "           9       0.98      0.98      0.98        65\n",
            "          10       0.80      0.89      0.84         9\n",
            "          11       1.00      0.71      0.83        14\n",
            "          12       1.00      0.27      0.43        11\n",
            "          13       0.90      0.99      0.94       288\n",
            "          14       1.00      0.14      0.25         7\n",
            "          15       0.93      0.98      0.95       244\n",
            "          16       1.00      0.42      0.59        24\n",
            "          17       0.87      1.00      0.93      1194\n",
            "          18       0.96      0.90      0.93       200\n",
            "          19       0.97      0.90      0.93       359\n",
            "          20       0.95      0.47      0.63       110\n",
            "          21       1.00      0.56      0.72        16\n",
            "          22       0.78      0.30      0.43        60\n",
            "          23       1.00      1.00      1.00        11\n",
            "          24       0.91      0.93      0.92       127\n",
            "          25       0.82      0.85      0.83       113\n",
            "          26       0.97      0.98      0.98       175\n",
            "          27       1.00      0.17      0.29         6\n",
            "\n",
            "    accuracy                           0.93      6489\n",
            "   macro avg       0.93      0.73      0.77      6489\n",
            "weighted avg       0.93      0.93      0.92      6489\n",
            "\n"
          ]
        }
      ]
    },
    {
      "cell_type": "code",
      "source": [
        "'''\n",
        "This code block is for converting the training data to Tf-Idf form\n",
        "\n",
        "'''\n",
        "# Removing stop words\n",
        "vectorizer = TfidfVectorizer(analyzer = 'word' , stop_words = 'english')\n",
        "# Converting the train data\n",
        "X_train_tfidf = vectorizer.fit_transform(X_train)"
      ],
      "metadata": {
        "id": "Y8gsyLg84NDE"
      },
      "execution_count": null,
      "outputs": []
    },
    {
      "cell_type": "code",
      "source": [
        "'''\n",
        "This code block is for training\n",
        "\n",
        "'''\n",
        "# Instantiate a Multinomial Naive Bayes model\n",
        "model2=MultinomialNB()\n",
        "\n",
        "# Fitting to multinomial NB model\n",
        "model2.fit(X_train_tfidf, y_train)\n",
        "\n",
        "# Scoring the trained model (Expected to be above 95 percent)\n",
        "print(\"Accuracy of model on training data:\" , model2.score(X_train_tfidf, y_train))"
      ],
      "metadata": {
        "colab": {
          "base_uri": "https://localhost:8080/"
        },
        "id": "wTPSW6vr4M1J",
        "outputId": "c58adaee-fb6e-44f5-abe1-98905e03506a"
      },
      "execution_count": null,
      "outputs": [
        {
          "output_type": "stream",
          "name": "stdout",
          "text": [
            "Accuracy of model on training data: 0.8761767385362891\n"
          ]
        }
      ]
    },
    {
      "cell_type": "code",
      "source": [
        "'''\n",
        "This code block is for predicting & scoring test data\n",
        "\n",
        "'''\n",
        "# Converting the test data\n",
        "X_test_tfidf = vectorizer.transform(X_test) \n",
        "\n",
        "# Printing score\n",
        "print (\"Accuracy of model on testing data:\" , model2.score(X_test_tfidf, y_test))"
      ],
      "metadata": {
        "colab": {
          "base_uri": "https://localhost:8080/"
        },
        "id": "DRGfGH4U4gAj",
        "outputId": "67d3d427-e645-4aa3-aeca-5a40c24e88a1"
      },
      "execution_count": null,
      "outputs": [
        {
          "output_type": "stream",
          "name": "stdout",
          "text": [
            "Accuracy of model on testing data: 0.849283402681461\n"
          ]
        }
      ]
    },
    {
      "cell_type": "code",
      "source": [
        "logreg = Pipeline([('vect', CountVectorizer()),\n",
        "                ('tfidf', TfidfTransformer()),\n",
        "                ('clf', LogisticRegression()),\n",
        "               ])\n",
        "logreg.fit(X_train, y_train)\n",
        "\n",
        "y_pred = logreg.predict(X_test)\n",
        "\n",
        "print('Accuracy %s' % accuracy_score(y_pred, y_test))\n",
        "print (\"Accuracy of model on training data:\" , logreg.score(X_train, y_train))\n",
        "print(classification_report(y_test, y_pred,target_names=top_cat))"
      ],
      "metadata": {
        "colab": {
          "base_uri": "https://localhost:8080/"
        },
        "id": "OyIsix4Q5c88",
        "outputId": "1162adbb-be2d-4539-e4ea-972f0fe848fa"
      },
      "execution_count": null,
      "outputs": [
        {
          "output_type": "stream",
          "name": "stdout",
          "text": [
            "Accuracy 0.9537679149329634\n",
            "Accuracy of model on training data: 0.9726692985119951\n",
            "                                   precision    recall  f1-score   support\n",
            "\n",
            "                         Clothing       0.95      0.98      0.96       333\n",
            "                        Jewellery       0.97      0.72      0.83       174\n",
            "                         Footwear       0.87      0.84      0.85        85\n",
            "            Mobiles & Accessories       0.94      0.92      0.93       215\n",
            "                       Automotive       1.00      0.71      0.83        34\n",
            "       Home Decor & Festive Needs       0.96      1.00      0.98      1999\n",
            "         Beauty and Personal Care       0.94      0.94      0.94       216\n",
            "                  Home Furnishing       0.00      0.00      0.00         4\n",
            "                 Kitchen & Dining       0.96      1.00      0.98       396\n",
            "                        Computers       0.98      0.88      0.93        65\n",
            "                          Watches       1.00      0.67      0.80         9\n",
            "                        Baby Care       1.00      0.50      0.67        14\n",
            "                 Tools & Hardware       0.00      0.00      0.00        11\n",
            "           Toys & School Supplies       0.91      0.98      0.94       288\n",
            "                Pens & Stationery       0.00      0.00      0.00         7\n",
            "            Bags, Wallets & Belts       0.93      0.95      0.94       244\n",
            "                        Furniture       1.00      0.67      0.80        24\n",
            "                 Sports & Fitness       0.99      1.00      0.99      1194\n",
            "            Cameras & Accessories       0.92      0.95      0.94       200\n",
            "                 Home Improvement       0.92      0.98      0.95       359\n",
            "Health & Personal Care Appliances       0.99      0.65      0.78       110\n",
            "                       Sunglasses       1.00      0.56      0.72        16\n",
            "                           Gaming       0.93      0.72      0.81        60\n",
            "                     Pet Supplies       0.79      1.00      0.88        11\n",
            "                   Home & Kitchen       1.00      0.91      0.95       127\n",
            "               Home Entertainment       0.82      0.86      0.84       113\n",
            "                           eBooks       1.00      0.98      0.99       175\n",
            "                          Eyewear       0.00      0.00      0.00         6\n",
            "\n",
            "                         accuracy                           0.95      6489\n",
            "                        macro avg       0.81      0.73      0.76      6489\n",
            "                     weighted avg       0.95      0.95      0.95      6489\n",
            "\n"
          ]
        },
        {
          "output_type": "stream",
          "name": "stderr",
          "text": [
            "/usr/local/lib/python3.8/dist-packages/sklearn/metrics/_classification.py:1318: UndefinedMetricWarning: Precision and F-score are ill-defined and being set to 0.0 in labels with no predicted samples. Use `zero_division` parameter to control this behavior.\n",
            "  _warn_prf(average, modifier, msg_start, len(result))\n",
            "/usr/local/lib/python3.8/dist-packages/sklearn/metrics/_classification.py:1318: UndefinedMetricWarning: Precision and F-score are ill-defined and being set to 0.0 in labels with no predicted samples. Use `zero_division` parameter to control this behavior.\n",
            "  _warn_prf(average, modifier, msg_start, len(result))\n",
            "/usr/local/lib/python3.8/dist-packages/sklearn/metrics/_classification.py:1318: UndefinedMetricWarning: Precision and F-score are ill-defined and being set to 0.0 in labels with no predicted samples. Use `zero_division` parameter to control this behavior.\n",
            "  _warn_prf(average, modifier, msg_start, len(result))\n"
          ]
        }
      ]
    },
    {
      "cell_type": "code",
      "source": [
        "sgd = Pipeline([('vect', CountVectorizer()),\n",
        "                ('tfidf', TfidfTransformer()),\n",
        "                ('clf', SGDClassifier(loss='hinge', penalty='l2',alpha=1e-3, random_state=42, max_iter=5, tol=None)),\n",
        "               ])\n",
        "sgd.fit(X_train, y_train)\n",
        "\n",
        "y_pred = sgd.predict(X_test)\n",
        "\n",
        "print('Accuracy %s' % accuracy_score(y_pred, y_test))\n",
        "print (\"Accuracy of model on training data:\" , sgd.score(X_train, y_train))\n",
        "print(classification_report(y_test, y_pred,target_names=top_cat))"
      ],
      "metadata": {
        "colab": {
          "base_uri": "https://localhost:8080/"
        },
        "id": "RTTp4RBI9vaS",
        "outputId": "d70d15b0-6087-4699-cdb3-2441c3d2cec2"
      },
      "execution_count": null,
      "outputs": [
        {
          "output_type": "stream",
          "name": "stdout",
          "text": [
            "Accuracy 0.9419016797657574\n",
            "Accuracy of model on training data: 0.9604464014576374\n",
            "                                   precision    recall  f1-score   support\n",
            "\n",
            "                         Clothing       0.92      0.98      0.94       333\n",
            "                        Jewellery       0.90      0.49      0.64       174\n",
            "                         Footwear       0.81      0.82      0.82        85\n",
            "            Mobiles & Accessories       0.94      0.89      0.91       215\n",
            "                       Automotive       1.00      0.74      0.85        34\n",
            "       Home Decor & Festive Needs       0.95      1.00      0.97      1999\n",
            "         Beauty and Personal Care       0.94      0.92      0.93       216\n",
            "                  Home Furnishing       1.00      0.25      0.40         4\n",
            "                 Kitchen & Dining       0.94      0.99      0.97       396\n",
            "                        Computers       0.95      0.95      0.95        65\n",
            "                          Watches       1.00      0.78      0.88         9\n",
            "                        Baby Care       1.00      0.86      0.92        14\n",
            "                 Tools & Hardware       1.00      0.09      0.17        11\n",
            "           Toys & School Supplies       0.94      0.93      0.93       288\n",
            "                Pens & Stationery       0.00      0.00      0.00         7\n",
            "            Bags, Wallets & Belts       0.91      0.96      0.94       244\n",
            "                        Furniture       0.94      0.71      0.81        24\n",
            "                 Sports & Fitness       0.97      1.00      0.99      1194\n",
            "            Cameras & Accessories       0.93      0.94      0.93       200\n",
            "                 Home Improvement       0.93      0.97      0.95       359\n",
            "Health & Personal Care Appliances       0.96      0.50      0.66       110\n",
            "                       Sunglasses       0.92      0.69      0.79        16\n",
            "                           Gaming       0.97      0.60      0.74        60\n",
            "                     Pet Supplies       0.79      1.00      0.88        11\n",
            "                   Home & Kitchen       0.96      0.90      0.93       127\n",
            "               Home Entertainment       0.76      0.85      0.80       113\n",
            "                           eBooks       0.99      0.99      0.99       175\n",
            "                          Eyewear       0.00      0.00      0.00         6\n",
            "\n",
            "                         accuracy                           0.94      6489\n",
            "                        macro avg       0.87      0.74      0.77      6489\n",
            "                     weighted avg       0.94      0.94      0.94      6489\n",
            "\n"
          ]
        },
        {
          "output_type": "stream",
          "name": "stderr",
          "text": [
            "/usr/local/lib/python3.8/dist-packages/sklearn/metrics/_classification.py:1318: UndefinedMetricWarning: Precision and F-score are ill-defined and being set to 0.0 in labels with no predicted samples. Use `zero_division` parameter to control this behavior.\n",
            "  _warn_prf(average, modifier, msg_start, len(result))\n",
            "/usr/local/lib/python3.8/dist-packages/sklearn/metrics/_classification.py:1318: UndefinedMetricWarning: Precision and F-score are ill-defined and being set to 0.0 in labels with no predicted samples. Use `zero_division` parameter to control this behavior.\n",
            "  _warn_prf(average, modifier, msg_start, len(result))\n",
            "/usr/local/lib/python3.8/dist-packages/sklearn/metrics/_classification.py:1318: UndefinedMetricWarning: Precision and F-score are ill-defined and being set to 0.0 in labels with no predicted samples. Use `zero_division` parameter to control this behavior.\n",
            "  _warn_prf(average, modifier, msg_start, len(result))\n"
          ]
        }
      ]
    },
    {
      "cell_type": "code",
      "source": [
        "svmsvc = Pipeline([('vect', CountVectorizer()),\n",
        "                ('tfidf', TfidfTransformer()),\n",
        "                ('clf', svm.SVC(C=1.0, kernel='linear', degree=3, gamma='auto')),\n",
        "               ])\n",
        "svmsvc.fit(X_train, y_train)\n",
        "\n",
        "y_pred = svmsvc.predict(X_test)\n",
        "\n",
        "print('Accuracy %s' % accuracy_score(y_pred, y_test))\n",
        "print (\"Accuracy of model on training data:\" , svmsvc.score(X_train, y_train))\n",
        "print(classification_report(y_test, y_pred,target_names=top_cat))"
      ],
      "metadata": {
        "id": "FdYh53rX91aE",
        "outputId": "16aab13b-1e26-43ce-afe9-de498b87736f",
        "colab": {
          "base_uri": "https://localhost:8080/"
        }
      },
      "execution_count": null,
      "outputs": [
        {
          "output_type": "stream",
          "name": "stdout",
          "text": [
            "Accuracy 0.9730312837108953\n",
            "Accuracy of model on training data: 0.9916489523231097\n",
            "                                   precision    recall  f1-score   support\n",
            "\n",
            "                         Clothing       0.98      0.99      0.99       333\n",
            "                        Jewellery       0.95      0.83      0.89       174\n",
            "                         Footwear       0.89      0.95      0.92        85\n",
            "            Mobiles & Accessories       0.96      0.94      0.95       215\n",
            "                       Automotive       1.00      0.91      0.95        34\n",
            "       Home Decor & Festive Needs       0.99      1.00      0.99      1999\n",
            "         Beauty and Personal Care       0.95      0.95      0.95       216\n",
            "                  Home Furnishing       1.00      1.00      1.00         4\n",
            "                 Kitchen & Dining       1.00      1.00      1.00       396\n",
            "                        Computers       0.98      0.95      0.97        65\n",
            "                          Watches       0.80      0.89      0.84         9\n",
            "                        Baby Care       1.00      0.93      0.96        14\n",
            "                 Tools & Hardware       1.00      0.55      0.71        11\n",
            "           Toys & School Supplies       0.94      0.99      0.96       288\n",
            "                Pens & Stationery       0.50      0.14      0.22         7\n",
            "            Bags, Wallets & Belts       0.96      0.98      0.97       244\n",
            "                        Furniture       0.95      0.88      0.91        24\n",
            "                 Sports & Fitness       1.00      1.00      1.00      1194\n",
            "            Cameras & Accessories       0.91      0.96      0.94       200\n",
            "                 Home Improvement       0.96      0.99      0.98       359\n",
            "Health & Personal Care Appliances       0.93      0.75      0.83       110\n",
            "                       Sunglasses       1.00      0.75      0.86        16\n",
            "                           Gaming       0.96      0.83      0.89        60\n",
            "                     Pet Supplies       1.00      1.00      1.00        11\n",
            "                   Home & Kitchen       0.99      0.94      0.96       127\n",
            "               Home Entertainment       0.81      0.91      0.86       113\n",
            "                           eBooks       1.00      0.99      1.00       175\n",
            "                          Eyewear       0.00      0.00      0.00         6\n",
            "\n",
            "                         accuracy                           0.97      6489\n",
            "                        macro avg       0.91      0.86      0.87      6489\n",
            "                     weighted avg       0.97      0.97      0.97      6489\n",
            "\n"
          ]
        },
        {
          "output_type": "stream",
          "name": "stderr",
          "text": [
            "/usr/local/lib/python3.8/dist-packages/sklearn/metrics/_classification.py:1318: UndefinedMetricWarning: Precision and F-score are ill-defined and being set to 0.0 in labels with no predicted samples. Use `zero_division` parameter to control this behavior.\n",
            "  _warn_prf(average, modifier, msg_start, len(result))\n",
            "/usr/local/lib/python3.8/dist-packages/sklearn/metrics/_classification.py:1318: UndefinedMetricWarning: Precision and F-score are ill-defined and being set to 0.0 in labels with no predicted samples. Use `zero_division` parameter to control this behavior.\n",
            "  _warn_prf(average, modifier, msg_start, len(result))\n",
            "/usr/local/lib/python3.8/dist-packages/sklearn/metrics/_classification.py:1318: UndefinedMetricWarning: Precision and F-score are ill-defined and being set to 0.0 in labels with no predicted samples. Use `zero_division` parameter to control this behavior.\n",
            "  _warn_prf(average, modifier, msg_start, len(result))\n"
          ]
        }
      ]
    },
    {
      "cell_type": "code",
      "source": [
        "#In this codeblock we are calculating the total no.of correct predictions made by our model using svm algorithm\n",
        "nr_correct = (y_test == svmsvc.predict((X_test))).sum()\n",
        "print(nr_correct)"
      ],
      "metadata": {
        "colab": {
          "base_uri": "https://localhost:8080/"
        },
        "id": "-xt5lIBWPOvE",
        "outputId": "0973976b-fc6e-46aa-bbb0-8060e91f054b"
      },
      "execution_count": null,
      "outputs": [
        {
          "output_type": "stream",
          "name": "stdout",
          "text": [
            "6314\n"
          ]
        }
      ]
    },
    {
      "cell_type": "code",
      "source": [
        "test_desc = X_test[2344]\n",
        "test_desc"
      ],
      "metadata": {
        "colab": {
          "base_uri": "https://localhost:8080/",
          "height": 70
        },
        "id": "uh8BdBmnPOdF",
        "outputId": "9db83d87-55ff-429e-98a1-fe528abdfbca"
      },
      "execution_count": null,
      "outputs": [
        {
          "output_type": "execute_result",
          "data": {
            "text/plain": [
              "'hemali pink women s t shirt bra price rs hemali multi color t shirt bra comes in pure cotton material in b cup size available in combo of assorted colors hemali multi color t shirt bra comes in pure cotton material in b cup size available in combo of assorted colors'"
            ],
            "application/vnd.google.colaboratory.intrinsic+json": {
              "type": "string"
            }
          },
          "metadata": {},
          "execution_count": 70
        }
      ]
    },
    {
      "cell_type": "code",
      "source": [
        "'''\n",
        "Multinomial Naive Bayes\n",
        "'''\n",
        "le.inverse_transform(model.predict(vect.transform([test_desc])))"
      ],
      "metadata": {
        "colab": {
          "base_uri": "https://localhost:8080/"
        },
        "id": "eyd0OU7fMGFb",
        "outputId": "2bb18675-12f6-4cbb-caf8-9ab977a55558"
      },
      "execution_count": null,
      "outputs": [
        {
          "output_type": "execute_result",
          "data": {
            "text/plain": [
              "array(['Clothing'], dtype=object)"
            ]
          },
          "metadata": {},
          "execution_count": 71
        }
      ]
    },
    {
      "cell_type": "code",
      "source": [
        "'''\n",
        "Logistic Regression\n",
        "'''\n",
        "le.inverse_transform(logreg.predict([test_desc]))"
      ],
      "metadata": {
        "colab": {
          "base_uri": "https://localhost:8080/"
        },
        "id": "XJLeBSh7PwCe",
        "outputId": "d5de49e6-a837-4f34-8da3-08e0bcaadffa"
      },
      "execution_count": null,
      "outputs": [
        {
          "output_type": "execute_result",
          "data": {
            "text/plain": [
              "array(['Clothing'], dtype=object)"
            ]
          },
          "metadata": {},
          "execution_count": 72
        }
      ]
    },
    {
      "cell_type": "code",
      "source": [
        "'''\n",
        "Stochastic Gradient Descent (SGD)\n",
        "'''\n",
        "le.inverse_transform(sgd.predict([test_desc]))"
      ],
      "metadata": {
        "colab": {
          "base_uri": "https://localhost:8080/"
        },
        "id": "Xa0wt1a2Pvwj",
        "outputId": "8acaf6d7-0976-48cf-c01b-ca8cbfe77ea5"
      },
      "execution_count": null,
      "outputs": [
        {
          "output_type": "execute_result",
          "data": {
            "text/plain": [
              "array(['Clothing'], dtype=object)"
            ]
          },
          "metadata": {},
          "execution_count": 73
        }
      ]
    },
    {
      "cell_type": "code",
      "source": [
        "pip install streamlit"
      ],
      "metadata": {
        "colab": {
          "base_uri": "https://localhost:8080/"
        },
        "id": "efL5jlar2814",
        "outputId": "da5b7b4b-ee4c-4b7c-cd37-5563b589591c"
      },
      "execution_count": 76,
      "outputs": [
        {
          "output_type": "stream",
          "name": "stdout",
          "text": [
            "Looking in indexes: https://pypi.org/simple, https://us-python.pkg.dev/colab-wheels/public/simple/\n",
            "Collecting streamlit\n",
            "  Downloading streamlit-1.18.1-py2.py3-none-any.whl (9.6 MB)\n",
            "\u001b[2K     \u001b[90m━━━━━━━━━━━━━━━━━━━━━━━━━━━━━━━━━━━━━━━━\u001b[0m \u001b[32m9.6/9.6 MB\u001b[0m \u001b[31m52.5 MB/s\u001b[0m eta \u001b[36m0:00:00\u001b[0m\n",
            "\u001b[?25hRequirement already satisfied: numpy in /usr/local/lib/python3.8/dist-packages (from streamlit) (1.21.6)\n",
            "Requirement already satisfied: typing-extensions>=3.10.0.0 in /usr/local/lib/python3.8/dist-packages (from streamlit) (4.4.0)\n",
            "Requirement already satisfied: toml in /usr/local/lib/python3.8/dist-packages (from streamlit) (0.10.2)\n",
            "Collecting blinker>=1.0.0\n",
            "  Downloading blinker-1.5-py2.py3-none-any.whl (12 kB)\n",
            "Requirement already satisfied: pandas>=0.25 in /usr/local/lib/python3.8/dist-packages (from streamlit) (1.3.5)\n",
            "Collecting semver\n",
            "  Downloading semver-2.13.0-py2.py3-none-any.whl (12 kB)\n",
            "Requirement already satisfied: python-dateutil in /usr/local/lib/python3.8/dist-packages (from streamlit) (2.8.2)\n",
            "Requirement already satisfied: pillow>=6.2.0 in /usr/local/lib/python3.8/dist-packages (from streamlit) (7.1.2)\n",
            "Collecting watchdog\n",
            "  Downloading watchdog-2.2.1-py3-none-manylinux2014_x86_64.whl (78 kB)\n",
            "\u001b[2K     \u001b[90m━━━━━━━━━━━━━━━━━━━━━━━━━━━━━━━━━━━━━━━━\u001b[0m \u001b[32m79.0/79.0 KB\u001b[0m \u001b[31m11.8 MB/s\u001b[0m eta \u001b[36m0:00:00\u001b[0m\n",
            "\u001b[?25hCollecting pympler>=0.9\n",
            "  Downloading Pympler-1.0.1-py3-none-any.whl (164 kB)\n",
            "\u001b[2K     \u001b[90m━━━━━━━━━━━━━━━━━━━━━━━━━━━━━━━━━━━━━━\u001b[0m \u001b[32m164.8/164.8 KB\u001b[0m \u001b[31m23.1 MB/s\u001b[0m eta \u001b[36m0:00:00\u001b[0m\n",
            "\u001b[?25hRequirement already satisfied: importlib-metadata>=1.4 in /usr/local/lib/python3.8/dist-packages (from streamlit) (6.0.0)\n",
            "Requirement already satisfied: protobuf<4,>=3.12 in /usr/local/lib/python3.8/dist-packages (from streamlit) (3.19.6)\n",
            "Collecting rich>=10.11.0\n",
            "  Downloading rich-13.3.1-py3-none-any.whl (239 kB)\n",
            "\u001b[2K     \u001b[90m━━━━━━━━━━━━━━━━━━━━━━━━━━━━━━━━━━━━━━\u001b[0m \u001b[32m239.0/239.0 KB\u001b[0m \u001b[31m29.7 MB/s\u001b[0m eta \u001b[36m0:00:00\u001b[0m\n",
            "\u001b[?25hRequirement already satisfied: pyarrow>=4.0 in /usr/local/lib/python3.8/dist-packages (from streamlit) (9.0.0)\n",
            "Requirement already satisfied: tornado>=6.0.3 in /usr/local/lib/python3.8/dist-packages (from streamlit) (6.0.4)\n",
            "Requirement already satisfied: requests>=2.4 in /usr/local/lib/python3.8/dist-packages (from streamlit) (2.25.1)\n",
            "Requirement already satisfied: cachetools>=4.0 in /usr/local/lib/python3.8/dist-packages (from streamlit) (5.3.0)\n",
            "Collecting validators>=0.2\n",
            "  Downloading validators-0.20.0.tar.gz (30 kB)\n",
            "  Preparing metadata (setup.py) ... \u001b[?25l\u001b[?25hdone\n",
            "Requirement already satisfied: packaging>=14.1 in /usr/local/lib/python3.8/dist-packages (from streamlit) (23.0)\n",
            "Collecting pydeck>=0.1.dev5\n",
            "  Downloading pydeck-0.8.0-py2.py3-none-any.whl (4.7 MB)\n",
            "\u001b[2K     \u001b[90m━━━━━━━━━━━━━━━━━━━━━━━━━━━━━━━━━━━━━━━━\u001b[0m \u001b[32m4.7/4.7 MB\u001b[0m \u001b[31m87.3 MB/s\u001b[0m eta \u001b[36m0:00:00\u001b[0m\n",
            "\u001b[?25hRequirement already satisfied: altair>=3.2.0 in /usr/local/lib/python3.8/dist-packages (from streamlit) (4.2.2)\n",
            "Requirement already satisfied: click>=7.0 in /usr/local/lib/python3.8/dist-packages (from streamlit) (7.1.2)\n",
            "Collecting gitpython!=3.1.19\n",
            "  Downloading GitPython-3.1.30-py3-none-any.whl (184 kB)\n",
            "\u001b[2K     \u001b[90m━━━━━━━━━━━━━━━━━━━━━━━━━━━━━━━━━━━━━━\u001b[0m \u001b[32m184.0/184.0 KB\u001b[0m \u001b[31m21.8 MB/s\u001b[0m eta \u001b[36m0:00:00\u001b[0m\n",
            "\u001b[?25hRequirement already satisfied: tzlocal>=1.1 in /usr/local/lib/python3.8/dist-packages (from streamlit) (1.5.1)\n",
            "Requirement already satisfied: jsonschema>=3.0 in /usr/local/lib/python3.8/dist-packages (from altair>=3.2.0->streamlit) (4.3.3)\n",
            "Requirement already satisfied: jinja2 in /usr/local/lib/python3.8/dist-packages (from altair>=3.2.0->streamlit) (2.11.3)\n",
            "Requirement already satisfied: entrypoints in /usr/local/lib/python3.8/dist-packages (from altair>=3.2.0->streamlit) (0.4)\n",
            "Requirement already satisfied: toolz in /usr/local/lib/python3.8/dist-packages (from altair>=3.2.0->streamlit) (0.12.0)\n",
            "Collecting gitdb<5,>=4.0.1\n",
            "  Downloading gitdb-4.0.10-py3-none-any.whl (62 kB)\n",
            "\u001b[2K     \u001b[90m━━━━━━━━━━━━━━━━━━━━━━━━━━━━━━━━━━━━━━━━\u001b[0m \u001b[32m62.7/62.7 KB\u001b[0m \u001b[31m6.5 MB/s\u001b[0m eta \u001b[36m0:00:00\u001b[0m\n",
            "\u001b[?25hRequirement already satisfied: zipp>=0.5 in /usr/local/lib/python3.8/dist-packages (from importlib-metadata>=1.4->streamlit) (3.12.1)\n",
            "Requirement already satisfied: pytz>=2017.3 in /usr/local/lib/python3.8/dist-packages (from pandas>=0.25->streamlit) (2022.7.1)\n",
            "Requirement already satisfied: six>=1.5 in /usr/local/lib/python3.8/dist-packages (from python-dateutil->streamlit) (1.15.0)\n",
            "Requirement already satisfied: certifi>=2017.4.17 in /usr/local/lib/python3.8/dist-packages (from requests>=2.4->streamlit) (2022.12.7)\n",
            "Requirement already satisfied: chardet<5,>=3.0.2 in /usr/local/lib/python3.8/dist-packages (from requests>=2.4->streamlit) (4.0.0)\n",
            "Requirement already satisfied: urllib3<1.27,>=1.21.1 in /usr/local/lib/python3.8/dist-packages (from requests>=2.4->streamlit) (1.24.3)\n",
            "Requirement already satisfied: idna<3,>=2.5 in /usr/local/lib/python3.8/dist-packages (from requests>=2.4->streamlit) (2.10)\n",
            "Collecting pygments<3.0.0,>=2.14.0\n",
            "  Downloading Pygments-2.14.0-py3-none-any.whl (1.1 MB)\n",
            "\u001b[2K     \u001b[90m━━━━━━━━━━━━━━━━━━━━━━━━━━━━━━━━━━━━━━━━\u001b[0m \u001b[32m1.1/1.1 MB\u001b[0m \u001b[31m68.0 MB/s\u001b[0m eta \u001b[36m0:00:00\u001b[0m\n",
            "\u001b[?25hCollecting markdown-it-py<3.0.0,>=2.1.0\n",
            "  Downloading markdown_it_py-2.1.0-py3-none-any.whl (84 kB)\n",
            "\u001b[2K     \u001b[90m━━━━━━━━━━━━━━━━━━━━━━━━━━━━━━━━━━━━━━━━\u001b[0m \u001b[32m84.5/84.5 KB\u001b[0m \u001b[31m10.6 MB/s\u001b[0m eta \u001b[36m0:00:00\u001b[0m\n",
            "\u001b[?25hRequirement already satisfied: decorator>=3.4.0 in /usr/local/lib/python3.8/dist-packages (from validators>=0.2->streamlit) (4.4.2)\n",
            "Collecting smmap<6,>=3.0.1\n",
            "  Downloading smmap-5.0.0-py3-none-any.whl (24 kB)\n",
            "Requirement already satisfied: MarkupSafe>=0.23 in /usr/local/lib/python3.8/dist-packages (from jinja2->altair>=3.2.0->streamlit) (2.0.1)\n",
            "Requirement already satisfied: attrs>=17.4.0 in /usr/local/lib/python3.8/dist-packages (from jsonschema>=3.0->altair>=3.2.0->streamlit) (22.2.0)\n",
            "Requirement already satisfied: importlib-resources>=1.4.0 in /usr/local/lib/python3.8/dist-packages (from jsonschema>=3.0->altair>=3.2.0->streamlit) (5.10.2)\n",
            "Requirement already satisfied: pyrsistent!=0.17.0,!=0.17.1,!=0.17.2,>=0.14.0 in /usr/local/lib/python3.8/dist-packages (from jsonschema>=3.0->altair>=3.2.0->streamlit) (0.19.3)\n",
            "Collecting mdurl~=0.1\n",
            "  Downloading mdurl-0.1.2-py3-none-any.whl (10.0 kB)\n",
            "Building wheels for collected packages: validators\n",
            "  Building wheel for validators (setup.py) ... \u001b[?25l\u001b[?25hdone\n",
            "  Created wheel for validators: filename=validators-0.20.0-py3-none-any.whl size=19581 sha256=a9d7a256ac39b29eb5cf08524b43780aefa0c3aea4894748ec481a5ebc87f08e\n",
            "  Stored in directory: /root/.cache/pip/wheels/19/09/72/3eb74d236bb48bd0f3c6c3c83e4e0c5bbfcbcad7c6c3539db8\n",
            "Successfully built validators\n",
            "Installing collected packages: watchdog, validators, smmap, semver, pympler, pygments, mdurl, blinker, pydeck, markdown-it-py, gitdb, rich, gitpython, streamlit\n",
            "  Attempting uninstall: pygments\n",
            "    Found existing installation: Pygments 2.6.1\n",
            "    Uninstalling Pygments-2.6.1:\n",
            "      Successfully uninstalled Pygments-2.6.1\n",
            "\u001b[31mERROR: pip's dependency resolver does not currently take into account all the packages that are installed. This behaviour is the source of the following dependency conflicts.\n",
            "ipython 7.9.0 requires jedi>=0.10, which is not installed.\u001b[0m\u001b[31m\n",
            "\u001b[0mSuccessfully installed blinker-1.5 gitdb-4.0.10 gitpython-3.1.30 markdown-it-py-2.1.0 mdurl-0.1.2 pydeck-0.8.0 pygments-2.14.0 pympler-1.0.1 rich-13.3.1 semver-2.13.0 smmap-5.0.0 streamlit-1.18.1 validators-0.20.0 watchdog-2.2.1\n"
          ]
        }
      ]
    }
  ]
}