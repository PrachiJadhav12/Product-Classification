{
  "nbformat": 4,
  "nbformat_minor": 0,
  "metadata": {
    "colab": {
      "provenance": [],
      "mount_file_id": "1aDGMclfXoD5rVoU2mPKfypPVmuZA1rcH",
      "authorship_tag": "ABX9TyPJoMKCaigjx+XYX0i5WqpD",
      "include_colab_link": true
    },
    "kernelspec": {
      "name": "python3",
      "display_name": "Python 3"
    },
    "language_info": {
      "name": "python"
    }
  },
  "cells": [
    {
      "cell_type": "markdown",
      "metadata": {
        "id": "view-in-github",
        "colab_type": "text"
      },
      "source": [
        "<a href=\"https://colab.research.google.com/github/PrachiJadhav12/Product-Classification/blob/main/Product_Classification_pynb.ipynb\" target=\"_parent\"><img src=\"https://colab.research.google.com/assets/colab-badge.svg\" alt=\"Open In Colab\"/></a>"
      ]
    },
    {
      "cell_type": "code",
      "execution_count": null,
      "metadata": {
        "id": "uhFabse8T68X"
      },
      "outputs": [],
      "source": [
        "#Importing all the necessary libraries and modules \n",
        "import pandas as pd\n",
        "import re \n",
        "import nltk \n",
        "import matplotlib.pyplot as plt\n",
        "from sklearn import preprocessing\n",
        "from sklearn.model_selection import train_test_split\n",
        "\n",
        "from sklearn.feature_extraction.text import CountVectorizer\n",
        "from sklearn.feature_extraction.text import TfidfVectorizer\n",
        "from sklearn.feature_extraction.text import TfidfTransformer\n",
        "\n",
        "from sklearn.naive_bayes import MultinomialNB\n",
        "from sklearn.linear_model import LogisticRegression\n",
        "from sklearn.linear_model import SGDClassifier\n",
        "from sklearn import model_selection, naive_bayes, svm\n",
        "\n",
        "from sklearn.metrics import classification_report\n",
        "from sklearn.metrics import recall_score, precision_score, f1_score\n",
        "from sklearn.metrics import accuracy_score, confusion_matrix\n",
        "\n",
        "from sklearn.pipeline import Pipeline\n"
      ]
    },
    {
      "cell_type": "code",
      "source": [
        "#Reading the csv file using pandas read_csv\n",
        "df = pd.read_csv(\"/content/drive/MyDrive/Data Set/flipkart_com-ecommerce_sample.csv\")"
      ],
      "metadata": {
        "id": "J-fCu77hYjiB"
      },
      "execution_count": null,
      "outputs": []
    },
    {
      "cell_type": "code",
      "source": [
        "#To view the first five rows of the dataframe\n",
        "df.head()"
      ],
      "metadata": {
        "colab": {
          "base_uri": "https://localhost:8080/",
          "height": 531
        },
        "id": "yg8wy7GTfIwb",
        "outputId": "ad050b0d-6182-4567-c257-6cc7da97f5ca"
      },
      "execution_count": null,
      "outputs": [
        {
          "output_type": "execute_result",
          "data": {
            "text/plain": [
              "                            uniq_id            crawl_timestamp  \\\n",
              "0  c2d766ca982eca8304150849735ffef9  2016-03-25 22:59:23 +0000   \n",
              "1  7f7036a6d550aaa89d34c77bd39a5e48  2016-03-25 22:59:23 +0000   \n",
              "2  f449ec65dcbc041b6ae5e6a32717d01b  2016-03-25 22:59:23 +0000   \n",
              "3  0973b37acd0c664e3de26e97e5571454  2016-03-25 22:59:23 +0000   \n",
              "4  bc940ea42ee6bef5ac7cea3fb5cfbee7  2016-03-25 22:59:23 +0000   \n",
              "\n",
              "                                         product_url  \\\n",
              "0  http://www.flipkart.com/alisha-solid-women-s-c...   \n",
              "1  http://www.flipkart.com/fabhomedecor-fabric-do...   \n",
              "2  http://www.flipkart.com/aw-bellies/p/itmeh4grg...   \n",
              "3  http://www.flipkart.com/alisha-solid-women-s-c...   \n",
              "4  http://www.flipkart.com/sicons-all-purpose-arn...   \n",
              "\n",
              "                            product_name  \\\n",
              "0    Alisha Solid Women's Cycling Shorts   \n",
              "1    FabHomeDecor Fabric Double Sofa Bed   \n",
              "2                             AW Bellies   \n",
              "3    Alisha Solid Women's Cycling Shorts   \n",
              "4  Sicons All Purpose Arnica Dog Shampoo   \n",
              "\n",
              "                               product_category_tree               pid  \\\n",
              "0  [\"Clothing >> Women's Clothing >> Lingerie, Sl...  SRTEH2FF9KEDEFGF   \n",
              "1  [\"Furniture >> Living Room Furniture >> Sofa B...  SBEEH3QGU7MFYJFY   \n",
              "2  [\"Footwear >> Women's Footwear >> Ballerinas >...  SHOEH4GRSUBJGZXE   \n",
              "3  [\"Clothing >> Women's Clothing >> Lingerie, Sl...  SRTEH2F6HUZMQ6SJ   \n",
              "4  [\"Pet Supplies >> Grooming >> Skin & Coat Care...  PSOEH3ZYDMSYARJ5   \n",
              "\n",
              "   retail_price  discounted_price  \\\n",
              "0         999.0             379.0   \n",
              "1       32157.0           22646.0   \n",
              "2         999.0             499.0   \n",
              "3         699.0             267.0   \n",
              "4         220.0             210.0   \n",
              "\n",
              "                                               image is_FK_Advantage_product  \\\n",
              "0  [\"http://img5a.flixcart.com/image/short/u/4/a/...                   False   \n",
              "1  [\"http://img6a.flixcart.com/image/sofa-bed/j/f...                   False   \n",
              "2  [\"http://img5a.flixcart.com/image/shoe/7/z/z/r...                   False   \n",
              "3  [\"http://img5a.flixcart.com/image/short/6/2/h/...                   False   \n",
              "4  [\"http://img5a.flixcart.com/image/pet-shampoo/...                   False   \n",
              "\n",
              "                                         description       product_rating  \\\n",
              "0  Key Features of Alisha Solid Women's Cycling S...  No rating available   \n",
              "1  FabHomeDecor Fabric Double Sofa Bed (Finish Co...  No rating available   \n",
              "2  Key Features of AW Bellies Sandals Wedges Heel...  No rating available   \n",
              "3  Key Features of Alisha Solid Women's Cycling S...  No rating available   \n",
              "4  Specifications of Sicons All Purpose Arnica Do...  No rating available   \n",
              "\n",
              "        overall_rating         brand  \\\n",
              "0  No rating available        Alisha   \n",
              "1  No rating available  FabHomeDecor   \n",
              "2  No rating available            AW   \n",
              "3  No rating available        Alisha   \n",
              "4  No rating available        Sicons   \n",
              "\n",
              "                              product_specifications  \n",
              "0  {\"product_specification\"=>[{\"key\"=>\"Number of ...  \n",
              "1  {\"product_specification\"=>[{\"key\"=>\"Installati...  \n",
              "2  {\"product_specification\"=>[{\"key\"=>\"Ideal For\"...  \n",
              "3  {\"product_specification\"=>[{\"key\"=>\"Number of ...  \n",
              "4  {\"product_specification\"=>[{\"key\"=>\"Pet Type\",...  "
            ],
            "text/html": [
              "\n",
              "  <div id=\"df-33272022-eb3a-4e9a-90c6-c9dcd09f3802\">\n",
              "    <div class=\"colab-df-container\">\n",
              "      <div>\n",
              "<style scoped>\n",
              "    .dataframe tbody tr th:only-of-type {\n",
              "        vertical-align: middle;\n",
              "    }\n",
              "\n",
              "    .dataframe tbody tr th {\n",
              "        vertical-align: top;\n",
              "    }\n",
              "\n",
              "    .dataframe thead th {\n",
              "        text-align: right;\n",
              "    }\n",
              "</style>\n",
              "<table border=\"1\" class=\"dataframe\">\n",
              "  <thead>\n",
              "    <tr style=\"text-align: right;\">\n",
              "      <th></th>\n",
              "      <th>uniq_id</th>\n",
              "      <th>crawl_timestamp</th>\n",
              "      <th>product_url</th>\n",
              "      <th>product_name</th>\n",
              "      <th>product_category_tree</th>\n",
              "      <th>pid</th>\n",
              "      <th>retail_price</th>\n",
              "      <th>discounted_price</th>\n",
              "      <th>image</th>\n",
              "      <th>is_FK_Advantage_product</th>\n",
              "      <th>description</th>\n",
              "      <th>product_rating</th>\n",
              "      <th>overall_rating</th>\n",
              "      <th>brand</th>\n",
              "      <th>product_specifications</th>\n",
              "    </tr>\n",
              "  </thead>\n",
              "  <tbody>\n",
              "    <tr>\n",
              "      <th>0</th>\n",
              "      <td>c2d766ca982eca8304150849735ffef9</td>\n",
              "      <td>2016-03-25 22:59:23 +0000</td>\n",
              "      <td>http://www.flipkart.com/alisha-solid-women-s-c...</td>\n",
              "      <td>Alisha Solid Women's Cycling Shorts</td>\n",
              "      <td>[\"Clothing &gt;&gt; Women's Clothing &gt;&gt; Lingerie, Sl...</td>\n",
              "      <td>SRTEH2FF9KEDEFGF</td>\n",
              "      <td>999.0</td>\n",
              "      <td>379.0</td>\n",
              "      <td>[\"http://img5a.flixcart.com/image/short/u/4/a/...</td>\n",
              "      <td>False</td>\n",
              "      <td>Key Features of Alisha Solid Women's Cycling S...</td>\n",
              "      <td>No rating available</td>\n",
              "      <td>No rating available</td>\n",
              "      <td>Alisha</td>\n",
              "      <td>{\"product_specification\"=&gt;[{\"key\"=&gt;\"Number of ...</td>\n",
              "    </tr>\n",
              "    <tr>\n",
              "      <th>1</th>\n",
              "      <td>7f7036a6d550aaa89d34c77bd39a5e48</td>\n",
              "      <td>2016-03-25 22:59:23 +0000</td>\n",
              "      <td>http://www.flipkart.com/fabhomedecor-fabric-do...</td>\n",
              "      <td>FabHomeDecor Fabric Double Sofa Bed</td>\n",
              "      <td>[\"Furniture &gt;&gt; Living Room Furniture &gt;&gt; Sofa B...</td>\n",
              "      <td>SBEEH3QGU7MFYJFY</td>\n",
              "      <td>32157.0</td>\n",
              "      <td>22646.0</td>\n",
              "      <td>[\"http://img6a.flixcart.com/image/sofa-bed/j/f...</td>\n",
              "      <td>False</td>\n",
              "      <td>FabHomeDecor Fabric Double Sofa Bed (Finish Co...</td>\n",
              "      <td>No rating available</td>\n",
              "      <td>No rating available</td>\n",
              "      <td>FabHomeDecor</td>\n",
              "      <td>{\"product_specification\"=&gt;[{\"key\"=&gt;\"Installati...</td>\n",
              "    </tr>\n",
              "    <tr>\n",
              "      <th>2</th>\n",
              "      <td>f449ec65dcbc041b6ae5e6a32717d01b</td>\n",
              "      <td>2016-03-25 22:59:23 +0000</td>\n",
              "      <td>http://www.flipkart.com/aw-bellies/p/itmeh4grg...</td>\n",
              "      <td>AW Bellies</td>\n",
              "      <td>[\"Footwear &gt;&gt; Women's Footwear &gt;&gt; Ballerinas &gt;...</td>\n",
              "      <td>SHOEH4GRSUBJGZXE</td>\n",
              "      <td>999.0</td>\n",
              "      <td>499.0</td>\n",
              "      <td>[\"http://img5a.flixcart.com/image/shoe/7/z/z/r...</td>\n",
              "      <td>False</td>\n",
              "      <td>Key Features of AW Bellies Sandals Wedges Heel...</td>\n",
              "      <td>No rating available</td>\n",
              "      <td>No rating available</td>\n",
              "      <td>AW</td>\n",
              "      <td>{\"product_specification\"=&gt;[{\"key\"=&gt;\"Ideal For\"...</td>\n",
              "    </tr>\n",
              "    <tr>\n",
              "      <th>3</th>\n",
              "      <td>0973b37acd0c664e3de26e97e5571454</td>\n",
              "      <td>2016-03-25 22:59:23 +0000</td>\n",
              "      <td>http://www.flipkart.com/alisha-solid-women-s-c...</td>\n",
              "      <td>Alisha Solid Women's Cycling Shorts</td>\n",
              "      <td>[\"Clothing &gt;&gt; Women's Clothing &gt;&gt; Lingerie, Sl...</td>\n",
              "      <td>SRTEH2F6HUZMQ6SJ</td>\n",
              "      <td>699.0</td>\n",
              "      <td>267.0</td>\n",
              "      <td>[\"http://img5a.flixcart.com/image/short/6/2/h/...</td>\n",
              "      <td>False</td>\n",
              "      <td>Key Features of Alisha Solid Women's Cycling S...</td>\n",
              "      <td>No rating available</td>\n",
              "      <td>No rating available</td>\n",
              "      <td>Alisha</td>\n",
              "      <td>{\"product_specification\"=&gt;[{\"key\"=&gt;\"Number of ...</td>\n",
              "    </tr>\n",
              "    <tr>\n",
              "      <th>4</th>\n",
              "      <td>bc940ea42ee6bef5ac7cea3fb5cfbee7</td>\n",
              "      <td>2016-03-25 22:59:23 +0000</td>\n",
              "      <td>http://www.flipkart.com/sicons-all-purpose-arn...</td>\n",
              "      <td>Sicons All Purpose Arnica Dog Shampoo</td>\n",
              "      <td>[\"Pet Supplies &gt;&gt; Grooming &gt;&gt; Skin &amp; Coat Care...</td>\n",
              "      <td>PSOEH3ZYDMSYARJ5</td>\n",
              "      <td>220.0</td>\n",
              "      <td>210.0</td>\n",
              "      <td>[\"http://img5a.flixcart.com/image/pet-shampoo/...</td>\n",
              "      <td>False</td>\n",
              "      <td>Specifications of Sicons All Purpose Arnica Do...</td>\n",
              "      <td>No rating available</td>\n",
              "      <td>No rating available</td>\n",
              "      <td>Sicons</td>\n",
              "      <td>{\"product_specification\"=&gt;[{\"key\"=&gt;\"Pet Type\",...</td>\n",
              "    </tr>\n",
              "  </tbody>\n",
              "</table>\n",
              "</div>\n",
              "      <button class=\"colab-df-convert\" onclick=\"convertToInteractive('df-33272022-eb3a-4e9a-90c6-c9dcd09f3802')\"\n",
              "              title=\"Convert this dataframe to an interactive table.\"\n",
              "              style=\"display:none;\">\n",
              "        \n",
              "  <svg xmlns=\"http://www.w3.org/2000/svg\" height=\"24px\"viewBox=\"0 0 24 24\"\n",
              "       width=\"24px\">\n",
              "    <path d=\"M0 0h24v24H0V0z\" fill=\"none\"/>\n",
              "    <path d=\"M18.56 5.44l.94 2.06.94-2.06 2.06-.94-2.06-.94-.94-2.06-.94 2.06-2.06.94zm-11 1L8.5 8.5l.94-2.06 2.06-.94-2.06-.94L8.5 2.5l-.94 2.06-2.06.94zm10 10l.94 2.06.94-2.06 2.06-.94-2.06-.94-.94-2.06-.94 2.06-2.06.94z\"/><path d=\"M17.41 7.96l-1.37-1.37c-.4-.4-.92-.59-1.43-.59-.52 0-1.04.2-1.43.59L10.3 9.45l-7.72 7.72c-.78.78-.78 2.05 0 2.83L4 21.41c.39.39.9.59 1.41.59.51 0 1.02-.2 1.41-.59l7.78-7.78 2.81-2.81c.8-.78.8-2.07 0-2.86zM5.41 20L4 18.59l7.72-7.72 1.47 1.35L5.41 20z\"/>\n",
              "  </svg>\n",
              "      </button>\n",
              "      \n",
              "  <style>\n",
              "    .colab-df-container {\n",
              "      display:flex;\n",
              "      flex-wrap:wrap;\n",
              "      gap: 12px;\n",
              "    }\n",
              "\n",
              "    .colab-df-convert {\n",
              "      background-color: #E8F0FE;\n",
              "      border: none;\n",
              "      border-radius: 50%;\n",
              "      cursor: pointer;\n",
              "      display: none;\n",
              "      fill: #1967D2;\n",
              "      height: 32px;\n",
              "      padding: 0 0 0 0;\n",
              "      width: 32px;\n",
              "    }\n",
              "\n",
              "    .colab-df-convert:hover {\n",
              "      background-color: #E2EBFA;\n",
              "      box-shadow: 0px 1px 2px rgba(60, 64, 67, 0.3), 0px 1px 3px 1px rgba(60, 64, 67, 0.15);\n",
              "      fill: #174EA6;\n",
              "    }\n",
              "\n",
              "    [theme=dark] .colab-df-convert {\n",
              "      background-color: #3B4455;\n",
              "      fill: #D2E3FC;\n",
              "    }\n",
              "\n",
              "    [theme=dark] .colab-df-convert:hover {\n",
              "      background-color: #434B5C;\n",
              "      box-shadow: 0px 1px 3px 1px rgba(0, 0, 0, 0.15);\n",
              "      filter: drop-shadow(0px 1px 2px rgba(0, 0, 0, 0.3));\n",
              "      fill: #FFFFFF;\n",
              "    }\n",
              "  </style>\n",
              "\n",
              "      <script>\n",
              "        const buttonEl =\n",
              "          document.querySelector('#df-33272022-eb3a-4e9a-90c6-c9dcd09f3802 button.colab-df-convert');\n",
              "        buttonEl.style.display =\n",
              "          google.colab.kernel.accessAllowed ? 'block' : 'none';\n",
              "\n",
              "        async function convertToInteractive(key) {\n",
              "          const element = document.querySelector('#df-33272022-eb3a-4e9a-90c6-c9dcd09f3802');\n",
              "          const dataTable =\n",
              "            await google.colab.kernel.invokeFunction('convertToInteractive',\n",
              "                                                     [key], {});\n",
              "          if (!dataTable) return;\n",
              "\n",
              "          const docLinkHtml = 'Like what you see? Visit the ' +\n",
              "            '<a target=\"_blank\" href=https://colab.research.google.com/notebooks/data_table.ipynb>data table notebook</a>'\n",
              "            + ' to learn more about interactive tables.';\n",
              "          element.innerHTML = '';\n",
              "          dataTable['output_type'] = 'display_data';\n",
              "          await google.colab.output.renderOutput(dataTable, element);\n",
              "          const docLink = document.createElement('div');\n",
              "          docLink.innerHTML = docLinkHtml;\n",
              "          element.appendChild(docLink);\n",
              "        }\n",
              "      </script>\n",
              "    </div>\n",
              "  </div>\n",
              "  "
            ]
          },
          "metadata": {},
          "execution_count": 81
        }
      ]
    },
    {
      "cell_type": "code",
      "source": [
        "#Outputs the number of rows and columns in the dataframe\n",
        "df.shape"
      ],
      "metadata": {
        "colab": {
          "base_uri": "https://localhost:8080/"
        },
        "id": "se7ouW3yfIfs",
        "outputId": "ed9d3220-da7f-49b2-a62f-e3f2103346f4"
      },
      "execution_count": null,
      "outputs": [
        {
          "output_type": "execute_result",
          "data": {
            "text/plain": [
              "(20002, 15)"
            ]
          },
          "metadata": {},
          "execution_count": 82
        }
      ]
    },
    {
      "cell_type": "code",
      "source": [
        "#Name of all the columns in our dataframe\n",
        "df.columns"
      ],
      "metadata": {
        "colab": {
          "base_uri": "https://localhost:8080/"
        },
        "id": "emECOnFtfPh1",
        "outputId": "203f4424-b76d-4b35-f886-63dbbb2ceb08"
      },
      "execution_count": null,
      "outputs": [
        {
          "output_type": "execute_result",
          "data": {
            "text/plain": [
              "Index(['uniq_id', 'crawl_timestamp', 'product_url', 'product_name',\n",
              "       'product_category_tree', 'pid', 'retail_price', 'discounted_price',\n",
              "       'image', 'is_FK_Advantage_product', 'description', 'product_rating',\n",
              "       'overall_rating', 'brand', 'product_specifications'],\n",
              "      dtype='object')"
            ]
          },
          "metadata": {},
          "execution_count": 83
        }
      ]
    },
    {
      "cell_type": "code",
      "source": [
        "#Outputs the statistical features of only numerical columns\n",
        "df.describe()"
      ],
      "metadata": {
        "colab": {
          "base_uri": "https://localhost:8080/",
          "height": 300
        },
        "id": "luC_VVFCfUK-",
        "outputId": "94f3fb1b-53f7-4236-f0ff-aa14cfc77fb0"
      },
      "execution_count": null,
      "outputs": [
        {
          "output_type": "execute_result",
          "data": {
            "text/plain": [
              "        retail_price  discounted_price\n",
              "count   19922.000000      19922.000000\n",
              "mean     2979.206104       1973.401767\n",
              "std      9009.639341       7333.586040\n",
              "min        35.000000         35.000000\n",
              "25%       666.000000        350.000000\n",
              "50%      1040.000000        550.000000\n",
              "75%      1999.000000        999.000000\n",
              "max    571230.000000     571230.000000"
            ],
            "text/html": [
              "\n",
              "  <div id=\"df-283b1db3-76b9-4f15-baf1-4753d2f43fec\">\n",
              "    <div class=\"colab-df-container\">\n",
              "      <div>\n",
              "<style scoped>\n",
              "    .dataframe tbody tr th:only-of-type {\n",
              "        vertical-align: middle;\n",
              "    }\n",
              "\n",
              "    .dataframe tbody tr th {\n",
              "        vertical-align: top;\n",
              "    }\n",
              "\n",
              "    .dataframe thead th {\n",
              "        text-align: right;\n",
              "    }\n",
              "</style>\n",
              "<table border=\"1\" class=\"dataframe\">\n",
              "  <thead>\n",
              "    <tr style=\"text-align: right;\">\n",
              "      <th></th>\n",
              "      <th>retail_price</th>\n",
              "      <th>discounted_price</th>\n",
              "    </tr>\n",
              "  </thead>\n",
              "  <tbody>\n",
              "    <tr>\n",
              "      <th>count</th>\n",
              "      <td>19922.000000</td>\n",
              "      <td>19922.000000</td>\n",
              "    </tr>\n",
              "    <tr>\n",
              "      <th>mean</th>\n",
              "      <td>2979.206104</td>\n",
              "      <td>1973.401767</td>\n",
              "    </tr>\n",
              "    <tr>\n",
              "      <th>std</th>\n",
              "      <td>9009.639341</td>\n",
              "      <td>7333.586040</td>\n",
              "    </tr>\n",
              "    <tr>\n",
              "      <th>min</th>\n",
              "      <td>35.000000</td>\n",
              "      <td>35.000000</td>\n",
              "    </tr>\n",
              "    <tr>\n",
              "      <th>25%</th>\n",
              "      <td>666.000000</td>\n",
              "      <td>350.000000</td>\n",
              "    </tr>\n",
              "    <tr>\n",
              "      <th>50%</th>\n",
              "      <td>1040.000000</td>\n",
              "      <td>550.000000</td>\n",
              "    </tr>\n",
              "    <tr>\n",
              "      <th>75%</th>\n",
              "      <td>1999.000000</td>\n",
              "      <td>999.000000</td>\n",
              "    </tr>\n",
              "    <tr>\n",
              "      <th>max</th>\n",
              "      <td>571230.000000</td>\n",
              "      <td>571230.000000</td>\n",
              "    </tr>\n",
              "  </tbody>\n",
              "</table>\n",
              "</div>\n",
              "      <button class=\"colab-df-convert\" onclick=\"convertToInteractive('df-283b1db3-76b9-4f15-baf1-4753d2f43fec')\"\n",
              "              title=\"Convert this dataframe to an interactive table.\"\n",
              "              style=\"display:none;\">\n",
              "        \n",
              "  <svg xmlns=\"http://www.w3.org/2000/svg\" height=\"24px\"viewBox=\"0 0 24 24\"\n",
              "       width=\"24px\">\n",
              "    <path d=\"M0 0h24v24H0V0z\" fill=\"none\"/>\n",
              "    <path d=\"M18.56 5.44l.94 2.06.94-2.06 2.06-.94-2.06-.94-.94-2.06-.94 2.06-2.06.94zm-11 1L8.5 8.5l.94-2.06 2.06-.94-2.06-.94L8.5 2.5l-.94 2.06-2.06.94zm10 10l.94 2.06.94-2.06 2.06-.94-2.06-.94-.94-2.06-.94 2.06-2.06.94z\"/><path d=\"M17.41 7.96l-1.37-1.37c-.4-.4-.92-.59-1.43-.59-.52 0-1.04.2-1.43.59L10.3 9.45l-7.72 7.72c-.78.78-.78 2.05 0 2.83L4 21.41c.39.39.9.59 1.41.59.51 0 1.02-.2 1.41-.59l7.78-7.78 2.81-2.81c.8-.78.8-2.07 0-2.86zM5.41 20L4 18.59l7.72-7.72 1.47 1.35L5.41 20z\"/>\n",
              "  </svg>\n",
              "      </button>\n",
              "      \n",
              "  <style>\n",
              "    .colab-df-container {\n",
              "      display:flex;\n",
              "      flex-wrap:wrap;\n",
              "      gap: 12px;\n",
              "    }\n",
              "\n",
              "    .colab-df-convert {\n",
              "      background-color: #E8F0FE;\n",
              "      border: none;\n",
              "      border-radius: 50%;\n",
              "      cursor: pointer;\n",
              "      display: none;\n",
              "      fill: #1967D2;\n",
              "      height: 32px;\n",
              "      padding: 0 0 0 0;\n",
              "      width: 32px;\n",
              "    }\n",
              "\n",
              "    .colab-df-convert:hover {\n",
              "      background-color: #E2EBFA;\n",
              "      box-shadow: 0px 1px 2px rgba(60, 64, 67, 0.3), 0px 1px 3px 1px rgba(60, 64, 67, 0.15);\n",
              "      fill: #174EA6;\n",
              "    }\n",
              "\n",
              "    [theme=dark] .colab-df-convert {\n",
              "      background-color: #3B4455;\n",
              "      fill: #D2E3FC;\n",
              "    }\n",
              "\n",
              "    [theme=dark] .colab-df-convert:hover {\n",
              "      background-color: #434B5C;\n",
              "      box-shadow: 0px 1px 3px 1px rgba(0, 0, 0, 0.15);\n",
              "      filter: drop-shadow(0px 1px 2px rgba(0, 0, 0, 0.3));\n",
              "      fill: #FFFFFF;\n",
              "    }\n",
              "  </style>\n",
              "\n",
              "      <script>\n",
              "        const buttonEl =\n",
              "          document.querySelector('#df-283b1db3-76b9-4f15-baf1-4753d2f43fec button.colab-df-convert');\n",
              "        buttonEl.style.display =\n",
              "          google.colab.kernel.accessAllowed ? 'block' : 'none';\n",
              "\n",
              "        async function convertToInteractive(key) {\n",
              "          const element = document.querySelector('#df-283b1db3-76b9-4f15-baf1-4753d2f43fec');\n",
              "          const dataTable =\n",
              "            await google.colab.kernel.invokeFunction('convertToInteractive',\n",
              "                                                     [key], {});\n",
              "          if (!dataTable) return;\n",
              "\n",
              "          const docLinkHtml = 'Like what you see? Visit the ' +\n",
              "            '<a target=\"_blank\" href=https://colab.research.google.com/notebooks/data_table.ipynb>data table notebook</a>'\n",
              "            + ' to learn more about interactive tables.';\n",
              "          element.innerHTML = '';\n",
              "          dataTable['output_type'] = 'display_data';\n",
              "          await google.colab.output.renderOutput(dataTable, element);\n",
              "          const docLink = document.createElement('div');\n",
              "          docLink.innerHTML = docLinkHtml;\n",
              "          element.appendChild(docLink);\n",
              "        }\n",
              "      </script>\n",
              "    </div>\n",
              "  </div>\n",
              "  "
            ]
          },
          "metadata": {},
          "execution_count": 84
        }
      ]
    },
    {
      "cell_type": "code",
      "source": [
        "#Used to ouput total number of non-null values in each row, data type of each column\n",
        "df.info()"
      ],
      "metadata": {
        "colab": {
          "base_uri": "https://localhost:8080/"
        },
        "id": "u-XkCk5EfT91",
        "outputId": "f1017982-48df-4e3a-bee4-2099d1ebf813"
      },
      "execution_count": null,
      "outputs": [
        {
          "output_type": "stream",
          "name": "stdout",
          "text": [
            "<class 'pandas.core.frame.DataFrame'>\n",
            "RangeIndex: 20002 entries, 0 to 20001\n",
            "Data columns (total 15 columns):\n",
            " #   Column                   Non-Null Count  Dtype  \n",
            "---  ------                   --------------  -----  \n",
            " 0   uniq_id                  20000 non-null  object \n",
            " 1   crawl_timestamp          20000 non-null  object \n",
            " 2   product_url              20000 non-null  object \n",
            " 3   product_name             20000 non-null  object \n",
            " 4   product_category_tree    20000 non-null  object \n",
            " 5   pid                      20000 non-null  object \n",
            " 6   retail_price             19922 non-null  float64\n",
            " 7   discounted_price         19922 non-null  float64\n",
            " 8   image                    19997 non-null  object \n",
            " 9   is_FK_Advantage_product  20000 non-null  object \n",
            " 10  description              19998 non-null  object \n",
            " 11  product_rating           20000 non-null  object \n",
            " 12  overall_rating           20000 non-null  object \n",
            " 13  brand                    14136 non-null  object \n",
            " 14  product_specifications   19986 non-null  object \n",
            "dtypes: float64(2), object(13)\n",
            "memory usage: 2.3+ MB\n"
          ]
        }
      ]
    },
    {
      "cell_type": "markdown",
      "source": [
        "In this task we will take the **\"description\"** column as our main feature.\n",
        "We can see that we have two null values in description column, in the code cell below we are trying to get the index of these instances."
      ],
      "metadata": {
        "id": "DlScFIzqDu-H"
      }
    },
    {
      "cell_type": "code",
      "source": [
        "df[df['description'].isnull()].index"
      ],
      "metadata": {
        "colab": {
          "base_uri": "https://localhost:8080/"
        },
        "id": "6D47Sx8XfYkP",
        "outputId": "fef24e30-3c83-4186-c2d9-cce3c5cb652a"
      },
      "execution_count": null,
      "outputs": [
        {
          "output_type": "execute_result",
          "data": {
            "text/plain": [
              "Int64Index([553, 17299, 20000, 20001], dtype='int64')"
            ]
          },
          "metadata": {},
          "execution_count": 86
        }
      ]
    },
    {
      "cell_type": "code",
      "source": [
        "#Printing out the description of the index 553,17299, 20000 and 20001\n",
        "print(df['description'][553])\n",
        "print(df['description'][17299])\n",
        "print(df['description'][20000])\n",
        "print(df['description'][20001])"
      ],
      "metadata": {
        "id": "DAdg4fPSiOO-",
        "colab": {
          "base_uri": "https://localhost:8080/"
        },
        "outputId": "b195cb69-e9fc-4183-9ef7-ffefd32cc1dc"
      },
      "execution_count": null,
      "outputs": [
        {
          "output_type": "stream",
          "name": "stdout",
          "text": [
            "nan\n",
            "nan\n",
            "nan\n",
            "nan\n"
          ]
        }
      ]
    },
    {
      "cell_type": "markdown",
      "source": [
        "If we have decided to take description column as the main feature, we can drop the above mentioned instances from our data frame as it doesn't have any description and thus it can't be used for either training or testing our model."
      ],
      "metadata": {
        "id": "o6giGWE7ERjr"
      }
    },
    {
      "cell_type": "code",
      "source": [
        "df.drop([553, 17299,20000,20001] , inplace = True)"
      ],
      "metadata": {
        "id": "w-mr0ExNiDyh"
      },
      "execution_count": null,
      "outputs": []
    },
    {
      "cell_type": "code",
      "source": [
        "# We have dropped two rows\n",
        "df.shape"
      ],
      "metadata": {
        "colab": {
          "base_uri": "https://localhost:8080/"
        },
        "id": "bay6_mGuiDl1",
        "outputId": "18923e87-728e-449c-bda2-3623ac3671ab"
      },
      "execution_count": null,
      "outputs": [
        {
          "output_type": "execute_result",
          "data": {
            "text/plain": [
              "(19998, 15)"
            ]
          },
          "metadata": {},
          "execution_count": 90
        }
      ]
    },
    {
      "cell_type": "code",
      "source": [
        "#Let's print out one random description to see what does our features look like \n",
        "print(df['description'][42])"
      ],
      "metadata": {
        "colab": {
          "base_uri": "https://localhost:8080/"
        },
        "id": "pps7ie67idND",
        "outputId": "79aadc1d-54e3-40b2-c15f-0df24a159c2d"
      },
      "execution_count": null,
      "outputs": [
        {
          "output_type": "stream",
          "name": "stdout",
          "text": [
            "Himmlisch ST381 Magnetic Sun Shade For Maruti Alto (Side Window) Price: Rs. 1,899 Beat the heat this summer and feel like a VIP with Himmlisch Car Window Magnetic Sunshades. These magnetic sunshades create a mesh layer to stops the heat. Magnet border gets easily stick to your car window door edges (No need of Suction cups) Features: Block UV Rays Keeps Car Cool Easy to install and remove Durable and Exact Fit Provides Complete privacy Resists Heat Mesh Type Sunshade Package Contents: 1 x Set Of 4 Magnetic Sunshades,Specifications of Himmlisch ST381 Magnetic Sun Shade For Maruti Alto (Side Window) General Brand Himmlisch Model Number ST381 Magnetic Placement Position Side Window Color Black Dimensions Weight 4000 g Depth 1.1 cm In the Box Sales Package 4 Sun Shade Pack of 4\n"
          ]
        }
      ]
    },
    {
      "cell_type": "markdown",
      "source": [
        "We see that there are many characters in the description which are not useful for us. Thus the next step that we adopt is of cleaning the strings of the desription column. We can clean these strings with the help of regex library."
      ],
      "metadata": {
        "id": "hAoNZNutbhNV"
      }
    },
    {
      "cell_type": "code",
      "source": [
        "def preprocessing_string(str_arg):\n",
        "    '''\n",
        "    input: str_arg --> Takes string to clean\n",
        "    output: cleaned_str --> Gives back cleaned string\n",
        "    This fuction cleans the text in the mentioned ways as comments after the line.\n",
        "\n",
        "    '''\n",
        "    cleaned_str=re.sub('[^a-z\\s]+',' ',str_arg,flags=re.IGNORECASE) #every char except alphabets is replaced\n",
        "    cleaned_str=re.sub('(\\s+)',' ',cleaned_str) #multiple spaces are replaced by single space\n",
        "    cleaned_str=cleaned_str.lower() #converting the cleaned string to lower case\n",
        "    \n",
        "    return cleaned_str # Returning the preprocessed string in tokenized form"
      ],
      "metadata": {
        "id": "wBnZHNpyimgM"
      },
      "execution_count": null,
      "outputs": []
    },
    {
      "cell_type": "code",
      "source": [
        "'''\n",
        "    Lets see how our string look after we appply the \"preprocessing_string\" function on it.\n",
        "'''\n",
        "print(df[\"description\"][10])\n",
        "print('\\n')\n",
        "print(preprocessing_string(df[\"description\"][10]))"
      ],
      "metadata": {
        "colab": {
          "base_uri": "https://localhost:8080/"
        },
        "id": "bhtX-_PIimRx",
        "outputId": "546b81ea-214f-4052-bf73-daa2d4f52f20"
      },
      "execution_count": null,
      "outputs": [
        {
          "output_type": "stream",
          "name": "stdout",
          "text": [
            "Key Features of Ladela Bellies Brand: LADELA Color : Black,Ladela Bellies Price: Rs. 950 Experience the best bellies from the house of Ladela. Providing the best material to keep your feet cozy and active for the whole day.,Specifications of Ladela Bellies General Occasion Casual Ideal For Women Shoe Details Heel Height 0 inch Outer Material PU Color Black\n",
            "\n",
            "\n",
            "key features of ladela bellies brand ladela color black ladela bellies price rs experience the best bellies from the house of ladela providing the best material to keep your feet cozy and active for the whole day specifications of ladela bellies general occasion casual ideal for women shoe details heel height inch outer material pu color black\n"
          ]
        }
      ]
    },
    {
      "cell_type": "markdown",
      "source": [
        "As mentioned in the task, the main goal is to find the category of product. The **\"product_category_tree\"** column in dataframe is our target."
      ],
      "metadata": {
        "id": "NPKzOyNwdrzn"
      }
    },
    {
      "cell_type": "code",
      "source": [
        "#lets look at the product_category_tree column\n",
        "df['product_category_tree']"
      ],
      "metadata": {
        "colab": {
          "base_uri": "https://localhost:8080/"
        },
        "id": "Va6ViU11jEfO",
        "outputId": "319fef80-cd2c-4946-fcbf-ac9fb68bd876"
      },
      "execution_count": null,
      "outputs": [
        {
          "output_type": "execute_result",
          "data": {
            "text/plain": [
              "0            Clothing\n",
              "1           Furniture\n",
              "2            Footwear\n",
              "3            Clothing\n",
              "4        Pet Supplies\n",
              "             ...     \n",
              "19995       Baby Care\n",
              "19996       Baby Care\n",
              "19997       Baby Care\n",
              "19998       Baby Care\n",
              "19999       Baby Care\n",
              "Name: product_category_tree, Length: 19998, dtype: object"
            ]
          },
          "metadata": {},
          "execution_count": 100
        }
      ]
    },
    {
      "cell_type": "markdown",
      "source": [
        "We can see that there are numerous categories in the dataframe, also we can notice that in each category there are some sub categories, as per the task requirement we only need focus on the \"main\" or so called **\"parent\"** categories."
      ],
      "metadata": {
        "id": "w5zFDdXqd8eB"
      }
    },
    {
      "cell_type": "markdown",
      "source": [
        "For this purpose we need to process these categories in order to extract the \"main\" category of the product."
      ],
      "metadata": {
        "id": "59NE9kg0eIge"
      }
    },
    {
      "cell_type": "code",
      "source": [
        "# Category processing\n",
        "df['product_category_tree'] = df['product_category_tree'].apply(lambda x : x.split('>>')[0][2:].strip())"
      ],
      "metadata": {
        "id": "r1NPFabTjEPN"
      },
      "execution_count": null,
      "outputs": []
    },
    {
      "cell_type": "code",
      "source": [
        "#lets look at some of the main categories extracted by the help of the lambda, split and strip.\n",
        "print(df['product_category_tree'][78])\n",
        "print(df[\"product_category_tree\"][0])"
      ],
      "metadata": {
        "colab": {
          "base_uri": "https://localhost:8080/"
        },
        "id": "W8TnSMY2jwUB",
        "outputId": "b3b8392b-9c80-490e-95ed-96129076b95b"
      },
      "execution_count": null,
      "outputs": [
        {
          "output_type": "stream",
          "name": "stdout",
          "text": [
            "Mobiles & Accessories\n",
            "Clothing\n"
          ]
        }
      ]
    },
    {
      "cell_type": "code",
      "source": [
        "#Total number of uniques \"parent\"\n",
        "df['product_category_tree'].nunique()"
      ],
      "metadata": {
        "colab": {
          "base_uri": "https://localhost:8080/"
        },
        "id": "UqC2re0WjwGP",
        "outputId": "cef155a1-7613-4194-bb13-2c83a53a32c6"
      },
      "execution_count": null,
      "outputs": [
        {
          "output_type": "execute_result",
          "data": {
            "text/plain": [
              "266"
            ]
          },
          "metadata": {},
          "execution_count": 103
        }
      ]
    },
    {
      "cell_type": "code",
      "source": [
        "#Printing out all the unique categories\n",
        "df['product_category_tree'].unique()"
      ],
      "metadata": {
        "colab": {
          "base_uri": "https://localhost:8080/"
        },
        "id": "u-MR0IKakHPi",
        "outputId": "91fded2d-0427-4950-a7cc-e88d897416ac"
      },
      "execution_count": null,
      "outputs": [
        {
          "output_type": "execute_result",
          "data": {
            "text/plain": [
              "array(['Clothing', 'Furniture', 'Footwear', 'Pet Supplies',\n",
              "       'Eternal Gandhi Super Series Crystal Paper Weight...\"]',\n",
              "       'Pens & Stationery', 'Sports & Fitness',\n",
              "       'Beauty and Personal Care',\n",
              "       'Bengal Blooms Rose Artificial Plant  with Pot (3...\"]',\n",
              "       'Bags, Wallets & Belts', 'Home Decor & Festive Needs',\n",
              "       'Automotive', 'Tools & Hardware',\n",
              "       'Vishudh Printed Women\\'s Straight Kurta\"]',\n",
              "       'Vishudh Printed Women\\'s Anarkali Kurta\"]',\n",
              "       'BuildTrack PIR Wireless Motion Sensor - One Swit...\"]',\n",
              "       'Skayvon SUMMERSIBLE SINGLE PHASE PUMP CONTROLLER...\"]',\n",
              "       'MASARA Solid Women\\'s Straight Kurta\"]',\n",
              "       'Skayvon SUBMERSIBBLE THREE PHASE PUMP CONTROLLER...\"]',\n",
              "       'Behringer Xenyx 502 Analog Sound Mixer\"]',\n",
              "       'Noor Embroidered Women\\'s Straight Kurta\"]',\n",
              "       'Libas Printed Women\\'s A-line Kurta\"]',\n",
              "       'Libas Printed Women\\'s Anarkali Kurta\"]', 'Home Furnishing',\n",
              "       'Baby Care', 'Mobiles & Accessories', 'Food & Nutrition',\n",
              "       'Watches', 'Toys & School Supplies', 'Jewellery',\n",
              "       'Cellbazaar Blackberry 8520 WHITE LCD LCD (YIT-562)\"]',\n",
              "       'Dressberry Gold Synthetic  Clutch\"]',\n",
              "       'Mast & Harbour Black Synthetic  Clutch\"]',\n",
              "       'Sisel Printed Poly Cotton Women\\'s Stole\"]',\n",
              "       'Knight Ace Kraasa Sports Running Shoes, Cycling ...\"]',\n",
              "       'Indistar Self Design Viscose Women\\'s Stole\"]',\n",
              "       'Glacier Running Shoes\"]', 'Dressberry Black Synthetic  Clutch\"]',\n",
              "       'Asics Gel-Cumulus 17 Running Shoes\"]',\n",
              "       'Mast & Harbour Gold Synthetic  Clutch\"]',\n",
              "       'Asics Gel-Kayano 22 Running Shoes\"]',\n",
              "       'Dressberry Orange Synthetic  Clutch\"]',\n",
              "       'Dressberry Green Synthetic  Clutch\"]', 'Escan Lace Up\"]',\n",
              "       'Nine Maternity Wear Women\\'s Fit and Flare Dress\"]',\n",
              "       'Sunglasses\"]', 'Kitchen & Dining', 'Home & Kitchen', 'Computers',\n",
              "       'Cameras & Accessories', 'ANAND ARCHIES Girls Flats\"]',\n",
              "       'ANAND ARCHIES Girls Wedges\"]',\n",
              "       'Prime Printed 8 Seater Table Cover (Multicolor, ...\"]',\n",
              "       'Health & Personal Care Appliances',\n",
              "       'Speedwav 240437 Sun Shade For Hyundai i10 (Dashb...\"]',\n",
              "       'Vitamins Solid Baby Girl\\'s Basic Shorts\"]', 'Gaming',\n",
              "       'Home Improvement', 'Sumo Baby Walker (Red)\"]',\n",
              "       'Kombee Girl\\'s Printed Red, Pink Top & Capri Set\"]',\n",
              "       'NEWGEN TECH EO-HS3303 218 Wired Headset (White)\"]',\n",
              "       'Automation & Robotics',\n",
              "       'K&P Dr.Ambedkar Large 04 Showpiece  -  19 cm (Po...\"]',\n",
              "       'K&P Lord Ganesha Large 03 Showpiece  -  19 cm (P...\"]',\n",
              "       'Adidas IND PRO THI GUA Thigh Guard (White, Blue,...\"]',\n",
              "       'Bootwale Bellies\"]',\n",
              "       'clickforsign Avoid Contanimation Wash your Hands...\"]',\n",
              "       'Treppe Bellies\"]', 'Kanvas Bellies\"]',\n",
              "       'Klaur Melbourne Bellies\"]',\n",
              "       'Clickforsign Vehicles parked Illegally will be t...\"]',\n",
              "       'clickforsign Sound horn Before entering Emergenc...\"]',\n",
              "       'kem Flow Gold skinny Fit Baby Girl\\'s Blue Jeans\"]',\n",
              "       'Carbanao Chrome Grill Chevrolet Cruze Car Grill ...\"]',\n",
              "       'Oddy RS 1.5 X 2 100 Sheets Self Stick Reposition...\"]',\n",
              "       'Synergy SFJB0105 Grocery Bag (Blue)\"]',\n",
              "       'SHOPOJ White Paper Sky Lantern (80 cm X 34 cm, P...\"]',\n",
              "       'SUPERMOD Men\\'s Brief\"]', 'Sunglasses',\n",
              "       'Lilliput Top Baby Girl\\'s  Combo\"]',\n",
              "       'Frabjous German silver Rings For Women Alloy Zir...\"]',\n",
              "       'Zevrr Sterling Silver Swarovski Zirconia Platinu...\"]',\n",
              "       'Rasav Jewels Yellow Gold Diamond 18 K Ring\"]',\n",
              "       'Royal Seal Creations 40 ST COLOR Silver Zircon N...\"]',\n",
              "       'Home Entertainment',\n",
              "       'ANASAZI Casual 3/4 Sleeve Solid Women\\'s Top\"]',\n",
              "       'INVENTURE RETAIL Nail Cutter\"]',\n",
              "       'Fabpoppy Printed Women\\'s Jumpsuit\"]',\n",
              "       'Power Smart Quick Charging Pack For PAN CGR-DU-2...\"]',\n",
              "       'Gking Hand Stiched Steering Cover For Maruti Ert...\"]',\n",
              "       'GM Power mate 4 Strip Surge Protector (White)\"]',\n",
              "       'Shrih SH-0192 Wired USB Flexible Keyboard (Red)\"]',\n",
              "       'Threads & Pals Full Sleeve Printed, Solid Men\\'s ...\"]',\n",
              "       'Threads & Pals Full Sleeve Self Design Men\\'s Swe...\"]',\n",
              "       'Gking Hand Stiched Steering Cover For Renault Sc...\"]',\n",
              "       'Power Smart Quick Charging Pack For PAN CGR-D28 ...\"]',\n",
              "       'xy decor Cotton Sofa Cover (white Pack of 6)\"]',\n",
              "       'Favourite BikerZ 3514 RAD air filter Ionic Air F...\"]',\n",
              "       'Disney Printed Baby Boy\\'s Hooded Grey T-Shirt\"]',\n",
              "       'Little Stars Girl\\'s A-line Multicolor Dress\"]',\n",
              "       'Wearable Smart Devices',\n",
              "       'The Crazy Me 1 Compartments Eco-Friendly leather...\"]',\n",
              "       'fourgee Slim Fit Boy\\'s Black Jeans\"]',\n",
              "       'Laser X Checkered Men\\'s Boxer (Pack of 4)\"]',\n",
              "       'INKT INKT A5 Wiro Notebook A5 Notebook Ring Boun...\"]',\n",
              "       'E\\'Hiose Girl\\'s Leggings (Pack of 6)\"]',\n",
              "       'Lucky Thailand GL/ LG30 Glass (300 ml, Clear, Pa...\"]',\n",
              "       'Ocean GP/Pyramid Glass (300 ml, Clear, Pack of 12)\"]',\n",
              "       'Wella Elements Leight Weight Renewing Conditione...\"]',\n",
              "       'Pu-Good Women Flats\"]', 'Olvin Aviator Sunglasses\"]',\n",
              "       'TSG Breeze Printed Women\\'s Round Neck Multicolor...\"]',\n",
              "       'Pout Brass Bangle\"]', 'classyworld Brass Cufflink (Silver-01)\"]',\n",
              "       'HANS Men\\'s Crew Length Socks\"]',\n",
              "       'TIMBERLAKE Slim Fit Fit Women\\'s Brown Jeans\"]',\n",
              "       'Olvin Oval Sunglasses\"]',\n",
              "       'Urban Girl Foundation Brush (Pack of 12)\"]',\n",
              "       'FEET FLOW Women Flats\"]', 'Jazz Eyewears Over-sized Sunglasses\"]',\n",
              "       'Miss Wow Slim Fit Women\\'s Blue Jeans\"]',\n",
              "       'Dilan Jewels Alloy Zircon 18K Yellow Gold Bangle...\"]',\n",
              "       'SMART TRADERS Women Wedges\"]',\n",
              "       'Clovia Women\\'s Full Coverage Bra\"]',\n",
              "       'Olvin Wayfarer Sunglasses\"]',\n",
              "       'PrivateLifes MasterPiece Women\\'s Push-up Bra\"]',\n",
              "       'COIRFIT Single Coir Mattress\"]', 'Clovia Women\\'s T-Shirt Bra\"]',\n",
              "       'Spa Culture Fit Fit Women\\'s Black Jeans\"]',\n",
              "       'run of luck Solid Women\\'s Round Neck Dark Blue T...\"]',\n",
              "       'SAY UV Sterilizer Solid Filter Cartridge (0, Pac...\"]',\n",
              "       'Urban Girl Foundation Brush (Pack of 7)\"]',\n",
              "       'Legmark Slim Fit Women\\'s Light Blue Jeans\"]',\n",
              "       'Siyas Collection Lac Cubic Zirconia Bangle Set (...\"]',\n",
              "       'Dassler Slim Fit Women\\'s Multicolor Jeans\"]',\n",
              "       'piftif Women\\'s Sports Bra\"]', 'REMSON INDIA Women Flats\"]',\n",
              "       'killys Men\\'s Solid No Show Socks\"]', 'INDILEGO Women Flats\"]',\n",
              "       'Firangi Cotton, Polyester Free Floor Mat Firangi...\"]',\n",
              "       'TIMBERLAKE Slim Fit Fit Women\\'s Red Jeans\"]',\n",
              "       'Starsy Solid Women\\'s Round Neck Green T-Shirt\"]',\n",
              "       'Oly Two Fit Fit Women\\'s Black Jeans\"]',\n",
              "       'Olvin Rectangular Sunglasses\"]',\n",
              "       'soie Fashion Women\\'s Sports Bra\"]',\n",
              "       'Auraa Men\\'s, Women\\'s Solid No Show Socks\"]',\n",
              "       'e-Fresh Boy\\'s Brief (Pack of 5)\"]',\n",
              "       'TIMBERLAKE Slim Fit Fit Women\\'s Blue Jeans\"]',\n",
              "       'NEWGEN TECH EO-HS3303 179 Wired Headset (White)\"]',\n",
              "       'Attitude Printed Women\\'s Round Neck Black T-Shirt\"]',\n",
              "       'Kalpaveda Copper Bowl (Gold, Pack of 1)\"]', 'Walkline Slippers\"]',\n",
              "       'D&D Women Flats\"]', 'e-Fresh Baby Boy\\'s Brief (Pack of 10)\"]',\n",
              "       'NEWGEN TECH EO-HS3303 58 Wired Headset (White)\"]',\n",
              "       'Ajaero Slim Fit Women\\'s Dark Blue Jeans\"]',\n",
              "       'Ruhi\\'s Creations Cotton Floral King sized Double...\"]',\n",
              "       'SAY Thread Wounded Candle 10\\\\\" Set of 4 pcs Solid...\"]',\n",
              "       'The Cotton Company Solid Women\\'s Polo Neck Pink ...\"]',\n",
              "       'Samprada Modern art Tapestry (Black, Pink)\"]',\n",
              "       'Naaz Dart game Board Game\"]',\n",
              "       'Oly Two Fit Fit Women\\'s Dark Blue Jeans\"]',\n",
              "       'Camey Men\\'s Quarter Length Socks\"]',\n",
              "       'fourgee Slim Fit Women\\'s Blue Jeans\"]',\n",
              "       'classyworld Brass Cufflink (Grey-02)\"]',\n",
              "       'Viral Girl Women\\'s Full Coverage Bra\"]',\n",
              "       'Wellon Fittings set (16 pieces) for RO Water Pur...\"]',\n",
              "       'Urban Girl Foundation Brush (Pack of 10)\"]',\n",
              "       'Amita Home Furnishing Cotton Printed Single Beds...\"]',\n",
              "       'Impala Alloy Cufflink (White)\"]',\n",
              "       'Ruhi\\'s Creations Polyester Silk Blend Cartoon Ki...\"]',\n",
              "       'Naaz 2 in 1 Paper Quilling Board Game\"]',\n",
              "       'Starsy Printed Women\\'s Round Neck Black T-Shirt\"]',\n",
              "       'Fly U Slim Fit Fit Women\\'s Brown Jeans\"]',\n",
              "       'Crafty Hands Kutchchi Mirrorwork Tapestry (Maroon)\"]',\n",
              "       'tadd Men\\'s, Women\\'s Ankle Length Socks\"]',\n",
              "       'Dolz Slim Fit Fit Women\\'s Brown Jeans\"]',\n",
              "       'Shrih Toe & Foot Protector Pain Relief Pad (Pack...\"]',\n",
              "       'LondonHouze Printed Women\\'s Round Neck Grey T-Shirt\"]',\n",
              "       'Legmark Slim Fit Women\\'s Blue Jeans\"]',\n",
              "       'Linzina Fashions LIN-HOSS-1.5 Faucet Set\"]',\n",
              "       'soie Fashion Women\\'s Full Coverage Bra\"]',\n",
              "       'Clovia Women\\'s Plunge Bra\"]', 'Foot Candy Women Flats\"]',\n",
              "       'Amita Home Furnishing Cotton Floral Single Bedsh...\"]',\n",
              "       '883 Police Full Sleeve Solid Men\\'s Jacket\"]',\n",
              "       'Style World Women Flats\"]', 'Just Wow Women Flats\"]',\n",
              "       'SMART TRADERS Women Flats\"]',\n",
              "       'Ruhi\\'s Creations Cotton Cartoon King sized Doubl...\"]',\n",
              "       'SJ Bushnell 122/1000M Binoculars (36 mm, Black)\"]',\n",
              "       'SJ Barstel 56m / 1000m Binoculars (30 mm, Black)\"]',\n",
              "       'SJ Comet Zoom DPSI Binoculars (30 mm, Black)\"]',\n",
              "       'Pia International 10X70X70 WITH ZOOM SAKURA Bino...\"]',\n",
              "       'SHOPOJ Purple Paper Sky Lantern (80 cm X 34 cm, ...\"]',\n",
              "       'Car vastra 1pcs Car Vastra Honda Beige Backrest ...\"]',\n",
              "       'SHOPOJ Yellow Paper Sky Lantern (80 cm X 34 cm, ...\"]',\n",
              "       'SHOPOJ Multicolor Paper Sky Lantern (80 cm X 34 ...\"]',\n",
              "       'Sj Bushnell 119M / 1000 Binoculars (36 mm, Black)\"]',\n",
              "       'FIFO Bottom Women\\'s  Combo\"]',\n",
              "       'Himmlisch 20503 Car Bottle Holder (Plastic)\"]',\n",
              "       'V&G Professional HD-37 Hair Dryer (Red)\"]',\n",
              "       'Anuradha Art Stylish Hair Clip (Blue)\"]',\n",
              "       'Shonaya Printed Bhagalpuri Art Silk Sari\"]',\n",
              "       'Anuradha Art Stylish Hair Clip (Black)\"]',\n",
              "       'JUSF2 Black Color Hair Band (Multicolor)\"]',\n",
              "       'Sonaxo Men Running Shoes\"]',\n",
              "       'Koie  Battery - For Samsung 7562 Premium Quality...\"]',\n",
              "       'OEM 170774 Bike Side Stand\"]', 'Kittens Boys Flats\"]',\n",
              "       'AutoKraftZ Optimum Locking Device For Bajaj Puls...\"]',\n",
              "       'GALLOWAY skinny Fit Women\\'s Jeans\"]',\n",
              "       'Dremel 2615.023.132 Plastic Friction Work Bench ...\"]', 'Eyewear',\n",
              "       'ABEEZ Boys, Men, Girls (Black, Pack of 1)\"]',\n",
              "       'Joyra Heart Sterling Silver Swarovski Crystal, S...\"]',\n",
              "       'BLM Casual Printed Women\\'s Kurti\"]',\n",
              "       'SMART DENIM Solid Women\\'s White Denim Shorts\"]',\n",
              "       'ATV Pouch for Acer Liquid Z330 (STEEL BLUE)\"]',\n",
              "       'Be 13 Printed Boy\\'s Round Neck T-Shirt (Pack of 2)\"]',\n",
              "       'Taurus Black & white Lace Up\"]',\n",
              "       'Abhinl Fashion Cotton Printed Semi-stitched Salw...\"]',\n",
              "       'UFO Self Design Round Neck Casual Girl\\'s Sweater\"]',\n",
              "       'LGRL Women\\'s Leggings\"]', 'Breakbounce Men\\'s Vest\"]',\n",
              "       'UFO Full Sleeve Solid Girl\\'s Jacket\"]',\n",
              "       'BALAJI EXPORTS Bottled Wine Cooler (9 Bottles)\"]',\n",
              "       'Siemens 5SL Betagard 5SL MCB (1)\"]',\n",
              "       'Remax Rm-10000 Remax Vanguard 10000mah 10000 mAh...\"]',\n",
              "       'Boreal Roller Brush\"]',\n",
              "       'Srajanaa sr114 Travel Shaving Kit (Black)\"]',\n",
              "       'Selfcare Women\\'s Thong Panty (Pack of 3)\"]',\n",
              "       'Sugandh Vatika 24 Natural Masala, Sandal Incense...\"]',\n",
              "       'Arial Morris Women Flats\"]', 'eBooks',\n",
              "       'Zikrak Exim Women Wedges\"]', 'Zixtro Bug (Black, Backpack)\"]',\n",
              "       'New Darling Women\\'s Printed Top & Pyjama Set\"]',\n",
              "       'RajeshFashion Women\\'s Leggings\"]',\n",
              "       'United Colors of Benetton Girl\\'s Trousers\"]',\n",
              "       'SRPC BAOER STARWALKER EXECUTIVE ROLLERBALL Pen G...\"]',\n",
              "       'Kraft Seeds Rosemary Herb (Pack Of 5) Seed (75 p...\"]',\n",
              "       'Autoplus M AP15 Arm Sleeve (Black)\"]',\n",
              "       'Autoplus M AP18 Arm Sleeve (Black)\"]',\n",
              "       'Kraft Seeds Thyme Herbs Seed (200 per packet)\"]',\n",
              "       'Kraft Seeds Dill Herb Seed (50 per packet)\"]',\n",
              "       'Leading lady Women\\'s Camisole\"]', 'Yo Baby Girl\\'s Trousers\"]',\n",
              "       'THERISE MD0005 Wired Headset (Pink)\"]',\n",
              "       'Nut Khut Embroidered Kurta & Churidar\"]',\n",
              "       'Vinenzia Printed Winter Men\\'s Gloves\"]',\n",
              "       'Planet Waves Woodstock Strap (Multicolor)\"]',\n",
              "       'Speedwav 216456 Manual Rear View Mirror (Right, ...\"]',\n",
              "       'Speedwav 216510 Manual Rear View Mirror (Right, ...\"]',\n",
              "       'Speedwav 216552 Manual Rear View Mirror (Right, ...\"]',\n",
              "       'Speedwav 186136 Manual Rear View Mirror (Right, ...\"]',\n",
              "       'Small Toes Bellies\"]',\n",
              "       'EASIES Solid Single Breasted Casual Men\\'s Blazer\"]',\n",
              "       'Clovia Lingerie Set\"]',\n",
              "       'Speedwav 186926 Royal Enfield 350 Twin Spark LED...\"]',\n",
              "       'Speedwav 186879 Bajaj Pulsar 200 NS DTS-i LED In...\"]',\n",
              "       'Household Supplies', 'Pazel Slim Fit Men\\'s Jeans\"]',\n",
              "       'SMART TRADERS Girls Bellies\"]',\n",
              "       'Corcepts Universal Tablet HD Ultra Clear Transpa...\"]',\n",
              "       'Areon Luxurious Fragrance Long Lasting Car,Home,...\"]'],\n",
              "      dtype=object)"
            ]
          },
          "metadata": {},
          "execution_count": 104
        }
      ]
    },
    {
      "cell_type": "markdown",
      "source": [
        "As we can notice there are many examples where the product doesn't have a definite category."
      ],
      "metadata": {
        "id": "5stZQhcmiEDI"
      }
    },
    {
      "cell_type": "markdown",
      "source": [
        "For example instead of categorising the product under clothing, it's rather filled the product detail as the category.\n",
        "See the code cell below, which shows a example of indefinite category."
      ],
      "metadata": {
        "id": "1HkHnm0-iJws"
      }
    },
    {
      "cell_type": "code",
      "source": [
        "# Taking only top categories\n",
        "top_cat = list(df.groupby('product_category_tree').count().sort_values(by='uniq_id',ascending=False).head(28).index)"
      ],
      "metadata": {
        "id": "6pBRW0zXkN8u"
      },
      "execution_count": null,
      "outputs": []
    },
    {
      "cell_type": "code",
      "source": [
        "print(df['product_category_tree'][50])"
      ],
      "metadata": {
        "colab": {
          "base_uri": "https://localhost:8080/"
        },
        "id": "trST7hvliPXC",
        "outputId": "cf11a759-2fda-4bb5-c3fb-fd0b8f302b42"
      },
      "execution_count": null,
      "outputs": [
        {
          "output_type": "stream",
          "name": "stdout",
          "text": [
            "Vishudh Printed Women's Straight Kurta\"]\n"
          ]
        }
      ]
    },
    {
      "cell_type": "markdown",
      "source": [
        "In order to prevent such instances where the product category is not definite we will chose only those categories which have a definite property such as clothing, footwear, camera and acessories etc."
      ],
      "metadata": {
        "id": "MPhvIWiliWoP"
      }
    },
    {
      "cell_type": "markdown",
      "source": [
        "We have chosen the first 28 categories. We can run the following code to determine the index until which we have a definite product category\n",
        "We can run the following python code to get a list all the definite categories in descending order by \"uniq_id\", then understand why we chose first 28 categories, \n",
        "\n",
        "list(df.groupby('product_category_tree').count().sort_values(by='uniq_id',ascending=False).head(30).index)"
      ],
      "metadata": {
        "id": "jRiu9HL1ii4l"
      }
    },
    {
      "cell_type": "code",
      "source": [
        "# Taking only top categories\n",
        "top_cat = list(df.groupby('product_category_tree').count().sort_values(by='uniq_id',ascending=False).head(28).index)"
      ],
      "metadata": {
        "id": "W-ebHUnOiUlA"
      },
      "execution_count": null,
      "outputs": []
    },
    {
      "cell_type": "code",
      "source": [
        "print(top_cat)"
      ],
      "metadata": {
        "colab": {
          "base_uri": "https://localhost:8080/"
        },
        "id": "gG4f4hHekX3j",
        "outputId": "ae91c68a-e8ac-48e2-ce86-17c5d48ffb0d"
      },
      "execution_count": null,
      "outputs": [
        {
          "output_type": "stream",
          "name": "stdout",
          "text": [
            "['Clothing', 'Jewellery', 'Footwear', 'Mobiles & Accessories', 'Automotive', 'Home Decor & Festive Needs', 'Beauty and Personal Care', 'Home Furnishing', 'Kitchen & Dining', 'Computers', 'Watches', 'Baby Care', 'Tools & Hardware', 'Toys & School Supplies', 'Pens & Stationery', 'Bags, Wallets & Belts', 'Furniture', 'Sports & Fitness', 'Cameras & Accessories', 'Home Improvement', 'Health & Personal Care Appliances', 'Sunglasses', 'Gaming', 'Pet Supplies', 'Home & Kitchen', 'Home Entertainment', 'eBooks', 'Eyewear']\n"
          ]
        }
      ]
    },
    {
      "cell_type": "code",
      "source": [
        "# Selecting only relevant columns\n",
        "processed_df = df[df['product_category_tree'].isin(top_cat)][['product_category_tree','description']]"
      ],
      "metadata": {
        "id": "Z_3ooEgrkXrD"
      },
      "execution_count": null,
      "outputs": []
    },
    {
      "cell_type": "code",
      "source": [
        "processed_df"
      ],
      "metadata": {
        "colab": {
          "base_uri": "https://localhost:8080/",
          "height": 424
        },
        "id": "5L8SwrpZkekS",
        "outputId": "0d2721c6-32d3-4925-8de0-608952371f20"
      },
      "execution_count": null,
      "outputs": [
        {
          "output_type": "execute_result",
          "data": {
            "text/plain": [
              "      product_category_tree                                        description\n",
              "0                  Clothing  Key Features of Alisha Solid Women's Cycling S...\n",
              "1                 Furniture  FabHomeDecor Fabric Double Sofa Bed (Finish Co...\n",
              "2                  Footwear  Key Features of AW Bellies Sandals Wedges Heel...\n",
              "3                  Clothing  Key Features of Alisha Solid Women's Cycling S...\n",
              "4              Pet Supplies  Specifications of Sicons All Purpose Arnica Do...\n",
              "...                     ...                                                ...\n",
              "19995             Baby Care  Buy WallDesign Small Vinyl Sticker for Rs.730 ...\n",
              "19996             Baby Care  Buy Wallmantra Large Vinyl Stickers Sticker fo...\n",
              "19997             Baby Care  Buy Elite Collection Medium Acrylic Sticker fo...\n",
              "19998             Baby Care  Buy Elite Collection Medium Acrylic Sticker fo...\n",
              "19999             Baby Care  Buy Elite Collection Medium Acrylic Sticker fo...\n",
              "\n",
              "[19661 rows x 2 columns]"
            ],
            "text/html": [
              "\n",
              "  <div id=\"df-26676089-0ac2-41c9-89c6-79e73924aadb\">\n",
              "    <div class=\"colab-df-container\">\n",
              "      <div>\n",
              "<style scoped>\n",
              "    .dataframe tbody tr th:only-of-type {\n",
              "        vertical-align: middle;\n",
              "    }\n",
              "\n",
              "    .dataframe tbody tr th {\n",
              "        vertical-align: top;\n",
              "    }\n",
              "\n",
              "    .dataframe thead th {\n",
              "        text-align: right;\n",
              "    }\n",
              "</style>\n",
              "<table border=\"1\" class=\"dataframe\">\n",
              "  <thead>\n",
              "    <tr style=\"text-align: right;\">\n",
              "      <th></th>\n",
              "      <th>product_category_tree</th>\n",
              "      <th>description</th>\n",
              "    </tr>\n",
              "  </thead>\n",
              "  <tbody>\n",
              "    <tr>\n",
              "      <th>0</th>\n",
              "      <td>Clothing</td>\n",
              "      <td>Key Features of Alisha Solid Women's Cycling S...</td>\n",
              "    </tr>\n",
              "    <tr>\n",
              "      <th>1</th>\n",
              "      <td>Furniture</td>\n",
              "      <td>FabHomeDecor Fabric Double Sofa Bed (Finish Co...</td>\n",
              "    </tr>\n",
              "    <tr>\n",
              "      <th>2</th>\n",
              "      <td>Footwear</td>\n",
              "      <td>Key Features of AW Bellies Sandals Wedges Heel...</td>\n",
              "    </tr>\n",
              "    <tr>\n",
              "      <th>3</th>\n",
              "      <td>Clothing</td>\n",
              "      <td>Key Features of Alisha Solid Women's Cycling S...</td>\n",
              "    </tr>\n",
              "    <tr>\n",
              "      <th>4</th>\n",
              "      <td>Pet Supplies</td>\n",
              "      <td>Specifications of Sicons All Purpose Arnica Do...</td>\n",
              "    </tr>\n",
              "    <tr>\n",
              "      <th>...</th>\n",
              "      <td>...</td>\n",
              "      <td>...</td>\n",
              "    </tr>\n",
              "    <tr>\n",
              "      <th>19995</th>\n",
              "      <td>Baby Care</td>\n",
              "      <td>Buy WallDesign Small Vinyl Sticker for Rs.730 ...</td>\n",
              "    </tr>\n",
              "    <tr>\n",
              "      <th>19996</th>\n",
              "      <td>Baby Care</td>\n",
              "      <td>Buy Wallmantra Large Vinyl Stickers Sticker fo...</td>\n",
              "    </tr>\n",
              "    <tr>\n",
              "      <th>19997</th>\n",
              "      <td>Baby Care</td>\n",
              "      <td>Buy Elite Collection Medium Acrylic Sticker fo...</td>\n",
              "    </tr>\n",
              "    <tr>\n",
              "      <th>19998</th>\n",
              "      <td>Baby Care</td>\n",
              "      <td>Buy Elite Collection Medium Acrylic Sticker fo...</td>\n",
              "    </tr>\n",
              "    <tr>\n",
              "      <th>19999</th>\n",
              "      <td>Baby Care</td>\n",
              "      <td>Buy Elite Collection Medium Acrylic Sticker fo...</td>\n",
              "    </tr>\n",
              "  </tbody>\n",
              "</table>\n",
              "<p>19661 rows × 2 columns</p>\n",
              "</div>\n",
              "      <button class=\"colab-df-convert\" onclick=\"convertToInteractive('df-26676089-0ac2-41c9-89c6-79e73924aadb')\"\n",
              "              title=\"Convert this dataframe to an interactive table.\"\n",
              "              style=\"display:none;\">\n",
              "        \n",
              "  <svg xmlns=\"http://www.w3.org/2000/svg\" height=\"24px\"viewBox=\"0 0 24 24\"\n",
              "       width=\"24px\">\n",
              "    <path d=\"M0 0h24v24H0V0z\" fill=\"none\"/>\n",
              "    <path d=\"M18.56 5.44l.94 2.06.94-2.06 2.06-.94-2.06-.94-.94-2.06-.94 2.06-2.06.94zm-11 1L8.5 8.5l.94-2.06 2.06-.94-2.06-.94L8.5 2.5l-.94 2.06-2.06.94zm10 10l.94 2.06.94-2.06 2.06-.94-2.06-.94-.94-2.06-.94 2.06-2.06.94z\"/><path d=\"M17.41 7.96l-1.37-1.37c-.4-.4-.92-.59-1.43-.59-.52 0-1.04.2-1.43.59L10.3 9.45l-7.72 7.72c-.78.78-.78 2.05 0 2.83L4 21.41c.39.39.9.59 1.41.59.51 0 1.02-.2 1.41-.59l7.78-7.78 2.81-2.81c.8-.78.8-2.07 0-2.86zM5.41 20L4 18.59l7.72-7.72 1.47 1.35L5.41 20z\"/>\n",
              "  </svg>\n",
              "      </button>\n",
              "      \n",
              "  <style>\n",
              "    .colab-df-container {\n",
              "      display:flex;\n",
              "      flex-wrap:wrap;\n",
              "      gap: 12px;\n",
              "    }\n",
              "\n",
              "    .colab-df-convert {\n",
              "      background-color: #E8F0FE;\n",
              "      border: none;\n",
              "      border-radius: 50%;\n",
              "      cursor: pointer;\n",
              "      display: none;\n",
              "      fill: #1967D2;\n",
              "      height: 32px;\n",
              "      padding: 0 0 0 0;\n",
              "      width: 32px;\n",
              "    }\n",
              "\n",
              "    .colab-df-convert:hover {\n",
              "      background-color: #E2EBFA;\n",
              "      box-shadow: 0px 1px 2px rgba(60, 64, 67, 0.3), 0px 1px 3px 1px rgba(60, 64, 67, 0.15);\n",
              "      fill: #174EA6;\n",
              "    }\n",
              "\n",
              "    [theme=dark] .colab-df-convert {\n",
              "      background-color: #3B4455;\n",
              "      fill: #D2E3FC;\n",
              "    }\n",
              "\n",
              "    [theme=dark] .colab-df-convert:hover {\n",
              "      background-color: #434B5C;\n",
              "      box-shadow: 0px 1px 3px 1px rgba(0, 0, 0, 0.15);\n",
              "      filter: drop-shadow(0px 1px 2px rgba(0, 0, 0, 0.3));\n",
              "      fill: #FFFFFF;\n",
              "    }\n",
              "  </style>\n",
              "\n",
              "      <script>\n",
              "        const buttonEl =\n",
              "          document.querySelector('#df-26676089-0ac2-41c9-89c6-79e73924aadb button.colab-df-convert');\n",
              "        buttonEl.style.display =\n",
              "          google.colab.kernel.accessAllowed ? 'block' : 'none';\n",
              "\n",
              "        async function convertToInteractive(key) {\n",
              "          const element = document.querySelector('#df-26676089-0ac2-41c9-89c6-79e73924aadb');\n",
              "          const dataTable =\n",
              "            await google.colab.kernel.invokeFunction('convertToInteractive',\n",
              "                                                     [key], {});\n",
              "          if (!dataTable) return;\n",
              "\n",
              "          const docLinkHtml = 'Like what you see? Visit the ' +\n",
              "            '<a target=\"_blank\" href=https://colab.research.google.com/notebooks/data_table.ipynb>data table notebook</a>'\n",
              "            + ' to learn more about interactive tables.';\n",
              "          element.innerHTML = '';\n",
              "          dataTable['output_type'] = 'display_data';\n",
              "          await google.colab.output.renderOutput(dataTable, element);\n",
              "          const docLink = document.createElement('div');\n",
              "          docLink.innerHTML = docLinkHtml;\n",
              "          element.appendChild(docLink);\n",
              "        }\n",
              "      </script>\n",
              "    </div>\n",
              "  </div>\n",
              "  "
            ]
          },
          "metadata": {},
          "execution_count": 112
        }
      ]
    },
    {
      "cell_type": "markdown",
      "source": [
        "In the code cell below we are plotting a bar plot to show which category has maximum number of product.\n",
        "\n",
        "We should notice that the total no. of products will not be equal to 20,000 as we have removed some rows from our original dataset as mentioned in the above cells"
      ],
      "metadata": {
        "id": "2vvWmx5QjZCC"
      }
    },
    {
      "cell_type": "code",
      "source": [
        "plt.figure(figsize=(12,8))\n",
        "df['product_category_tree'].value_counts()[:28].sort_values(ascending=True).plot(kind='bar')\n",
        "plt.title('Main Category',fontsize=20)\n",
        "plt.yticks(fontsize=12)\n",
        "plt.xticks(fontsize=12)\n",
        "plt.show()\n",
        "print('Top Main Categories by Sales.\\n')\n",
        "print(df['product_category_tree'].value_counts()[:28])"
      ],
      "metadata": {
        "colab": {
          "base_uri": "https://localhost:8080/",
          "height": 1000
        },
        "id": "XxIP3VUakeW6",
        "outputId": "2b8da94a-84d3-44ad-fe1a-b7f6e1d44a3c"
      },
      "execution_count": null,
      "outputs": [
        {
          "output_type": "display_data",
          "data": {
            "text/plain": [
              "<Figure size 864x576 with 1 Axes>"
            ],
            "image/png": "[encoded data removed]"
          },
          "metadata": {
            "needs_background": "light"
          }
        },
        {
          "output_type": "stream",
          "name": "stdout",
          "text": [
            "Top Main Categories by Sales.\n",
            "\n",
            "Clothing                             6197\n",
            "Jewellery                            3531\n",
            "Footwear                             1227\n",
            "Mobiles & Accessories                1099\n",
            "Automotive                           1012\n",
            "Home Decor & Festive Needs            929\n",
            "Beauty and Personal Care              710\n",
            "Home Furnishing                       699\n",
            "Kitchen & Dining                      647\n",
            "Computers                             578\n",
            "Watches                               530\n",
            "Baby Care                             483\n",
            "Tools & Hardware                      391\n",
            "Toys & School Supplies                330\n",
            "Pens & Stationery                     313\n",
            "Bags, Wallets & Belts                 265\n",
            "Furniture                             180\n",
            "Sports & Fitness                      166\n",
            "Cameras & Accessories                  82\n",
            "Home Improvement                       81\n",
            "Health & Personal Care Appliances      43\n",
            "Sunglasses                             35\n",
            "Gaming                                 35\n",
            "Pet Supplies                           30\n",
            "Home & Kitchen                         24\n",
            "Home Entertainment                     19\n",
            "eBooks                                 15\n",
            "Eyewear                                10\n",
            "Name: product_category_tree, dtype: int64\n"
          ]
        }
      ]
    },
    {
      "cell_type": "code",
      "source": [
        "# Cleaning strings\n",
        "processed_df['description'] = processed_df['description'].astype('str').apply(preprocessing_string)"
      ],
      "metadata": {
        "id": "6VEjwDDkk7Vz"
      },
      "execution_count": null,
      "outputs": []
    },
    {
      "cell_type": "code",
      "source": [
        "processed_df"
      ],
      "metadata": {
        "colab": {
          "base_uri": "https://localhost:8080/",
          "height": 424
        },
        "id": "8ok5nTOPk7GL",
        "outputId": "fb6ae1c6-d591-4601-d0bd-69f77c8a9124"
      },
      "execution_count": null,
      "outputs": [
        {
          "output_type": "execute_result",
          "data": {
            "text/plain": [
              "      product_category_tree                                        description\n",
              "0                  Clothing  key features of alisha solid women s cycling s...\n",
              "1                 Furniture  fabhomedecor fabric double sofa bed finish col...\n",
              "2                  Footwear  key features of aw bellies sandals wedges heel...\n",
              "3                  Clothing  key features of alisha solid women s cycling s...\n",
              "4              Pet Supplies  specifications of sicons all purpose arnica do...\n",
              "...                     ...                                                ...\n",
              "19995             Baby Care  buy walldesign small vinyl sticker for rs onli...\n",
              "19996             Baby Care  buy wallmantra large vinyl stickers sticker fo...\n",
              "19997             Baby Care  buy elite collection medium acrylic sticker fo...\n",
              "19998             Baby Care  buy elite collection medium acrylic sticker fo...\n",
              "19999             Baby Care  buy elite collection medium acrylic sticker fo...\n",
              "\n",
              "[19661 rows x 2 columns]"
            ],
            "text/html": [
              "\n",
              "  <div id=\"df-d20f2f4e-405b-4af3-a46e-1587edb5bde5\">\n",
              "    <div class=\"colab-df-container\">\n",
              "      <div>\n",
              "<style scoped>\n",
              "    .dataframe tbody tr th:only-of-type {\n",
              "        vertical-align: middle;\n",
              "    }\n",
              "\n",
              "    .dataframe tbody tr th {\n",
              "        vertical-align: top;\n",
              "    }\n",
              "\n",
              "    .dataframe thead th {\n",
              "        text-align: right;\n",
              "    }\n",
              "</style>\n",
              "<table border=\"1\" class=\"dataframe\">\n",
              "  <thead>\n",
              "    <tr style=\"text-align: right;\">\n",
              "      <th></th>\n",
              "      <th>product_category_tree</th>\n",
              "      <th>description</th>\n",
              "    </tr>\n",
              "  </thead>\n",
              "  <tbody>\n",
              "    <tr>\n",
              "      <th>0</th>\n",
              "      <td>Clothing</td>\n",
              "      <td>key features of alisha solid women s cycling s...</td>\n",
              "    </tr>\n",
              "    <tr>\n",
              "      <th>1</th>\n",
              "      <td>Furniture</td>\n",
              "      <td>fabhomedecor fabric double sofa bed finish col...</td>\n",
              "    </tr>\n",
              "    <tr>\n",
              "      <th>2</th>\n",
              "      <td>Footwear</td>\n",
              "      <td>key features of aw bellies sandals wedges heel...</td>\n",
              "    </tr>\n",
              "    <tr>\n",
              "      <th>3</th>\n",
              "      <td>Clothing</td>\n",
              "      <td>key features of alisha solid women s cycling s...</td>\n",
              "    </tr>\n",
              "    <tr>\n",
              "      <th>4</th>\n",
              "      <td>Pet Supplies</td>\n",
              "      <td>specifications of sicons all purpose arnica do...</td>\n",
              "    </tr>\n",
              "    <tr>\n",
              "      <th>...</th>\n",
              "      <td>...</td>\n",
              "      <td>...</td>\n",
              "    </tr>\n",
              "    <tr>\n",
              "      <th>19995</th>\n",
              "      <td>Baby Care</td>\n",
              "      <td>buy walldesign small vinyl sticker for rs onli...</td>\n",
              "    </tr>\n",
              "    <tr>\n",
              "      <th>19996</th>\n",
              "      <td>Baby Care</td>\n",
              "      <td>buy wallmantra large vinyl stickers sticker fo...</td>\n",
              "    </tr>\n",
              "    <tr>\n",
              "      <th>19997</th>\n",
              "      <td>Baby Care</td>\n",
              "      <td>buy elite collection medium acrylic sticker fo...</td>\n",
              "    </tr>\n",
              "    <tr>\n",
              "      <th>19998</th>\n",
              "      <td>Baby Care</td>\n",
              "      <td>buy elite collection medium acrylic sticker fo...</td>\n",
              "    </tr>\n",
              "    <tr>\n",
              "      <th>19999</th>\n",
              "      <td>Baby Care</td>\n",
              "      <td>buy elite collection medium acrylic sticker fo...</td>\n",
              "    </tr>\n",
              "  </tbody>\n",
              "</table>\n",
              "<p>19661 rows × 2 columns</p>\n",
              "</div>\n",
              "      <button class=\"colab-df-convert\" onclick=\"convertToInteractive('df-d20f2f4e-405b-4af3-a46e-1587edb5bde5')\"\n",
              "              title=\"Convert this dataframe to an interactive table.\"\n",
              "              style=\"display:none;\">\n",
              "        \n",
              "  <svg xmlns=\"http://www.w3.org/2000/svg\" height=\"24px\"viewBox=\"0 0 24 24\"\n",
              "       width=\"24px\">\n",
              "    <path d=\"M0 0h24v24H0V0z\" fill=\"none\"/>\n",
              "    <path d=\"M18.56 5.44l.94 2.06.94-2.06 2.06-.94-2.06-.94-.94-2.06-.94 2.06-2.06.94zm-11 1L8.5 8.5l.94-2.06 2.06-.94-2.06-.94L8.5 2.5l-.94 2.06-2.06.94zm10 10l.94 2.06.94-2.06 2.06-.94-2.06-.94-.94-2.06-.94 2.06-2.06.94z\"/><path d=\"M17.41 7.96l-1.37-1.37c-.4-.4-.92-.59-1.43-.59-.52 0-1.04.2-1.43.59L10.3 9.45l-7.72 7.72c-.78.78-.78 2.05 0 2.83L4 21.41c.39.39.9.59 1.41.59.51 0 1.02-.2 1.41-.59l7.78-7.78 2.81-2.81c.8-.78.8-2.07 0-2.86zM5.41 20L4 18.59l7.72-7.72 1.47 1.35L5.41 20z\"/>\n",
              "  </svg>\n",
              "      </button>\n",
              "      \n",
              "  <style>\n",
              "    .colab-df-container {\n",
              "      display:flex;\n",
              "      flex-wrap:wrap;\n",
              "      gap: 12px;\n",
              "    }\n",
              "\n",
              "    .colab-df-convert {\n",
              "      background-color: #E8F0FE;\n",
              "      border: none;\n",
              "      border-radius: 50%;\n",
              "      cursor: pointer;\n",
              "      display: none;\n",
              "      fill: #1967D2;\n",
              "      height: 32px;\n",
              "      padding: 0 0 0 0;\n",
              "      width: 32px;\n",
              "    }\n",
              "\n",
              "    .colab-df-convert:hover {\n",
              "      background-color: #E2EBFA;\n",
              "      box-shadow: 0px 1px 2px rgba(60, 64, 67, 0.3), 0px 1px 3px 1px rgba(60, 64, 67, 0.15);\n",
              "      fill: #174EA6;\n",
              "    }\n",
              "\n",
              "    [theme=dark] .colab-df-convert {\n",
              "      background-color: #3B4455;\n",
              "      fill: #D2E3FC;\n",
              "    }\n",
              "\n",
              "    [theme=dark] .colab-df-convert:hover {\n",
              "      background-color: #434B5C;\n",
              "      box-shadow: 0px 1px 3px 1px rgba(0, 0, 0, 0.15);\n",
              "      filter: drop-shadow(0px 1px 2px rgba(0, 0, 0, 0.3));\n",
              "      fill: #FFFFFF;\n",
              "    }\n",
              "  </style>\n",
              "\n",
              "      <script>\n",
              "        const buttonEl =\n",
              "          document.querySelector('#df-d20f2f4e-405b-4af3-a46e-1587edb5bde5 button.colab-df-convert');\n",
              "        buttonEl.style.display =\n",
              "          google.colab.kernel.accessAllowed ? 'block' : 'none';\n",
              "\n",
              "        async function convertToInteractive(key) {\n",
              "          const element = document.querySelector('#df-d20f2f4e-405b-4af3-a46e-1587edb5bde5');\n",
              "          const dataTable =\n",
              "            await google.colab.kernel.invokeFunction('convertToInteractive',\n",
              "                                                     [key], {});\n",
              "          if (!dataTable) return;\n",
              "\n",
              "          const docLinkHtml = 'Like what you see? Visit the ' +\n",
              "            '<a target=\"_blank\" href=https://colab.research.google.com/notebooks/data_table.ipynb>data table notebook</a>'\n",
              "            + ' to learn more about interactive tables.';\n",
              "          element.innerHTML = '';\n",
              "          dataTable['output_type'] = 'display_data';\n",
              "          await google.colab.output.renderOutput(dataTable, element);\n",
              "          const docLink = document.createElement('div');\n",
              "          docLink.innerHTML = docLinkHtml;\n",
              "          element.appendChild(docLink);\n",
              "        }\n",
              "      </script>\n",
              "    </div>\n",
              "  </div>\n",
              "  "
            ]
          },
          "metadata": {},
          "execution_count": 115
        }
      ]
    },
    {
      "cell_type": "code",
      "source": [
        "# Creating a list of categories for later use\n",
        "cat_list = list(processed_df['product_category_tree'].unique())"
      ],
      "metadata": {
        "id": "TKZzSnTjlEMz"
      },
      "execution_count": null,
      "outputs": []
    },
    {
      "cell_type": "code",
      "source": [
        "# Printing the list of top categories\n",
        "print(cat_list)"
      ],
      "metadata": {
        "colab": {
          "base_uri": "https://localhost:8080/"
        },
        "id": "LQI8pATTlD-u",
        "outputId": "342eccfb-e25f-4936-a9b6-1df9c5f2d815"
      },
      "execution_count": null,
      "outputs": [
        {
          "output_type": "stream",
          "name": "stdout",
          "text": [
            "['Clothing', 'Furniture', 'Footwear', 'Pet Supplies', 'Pens & Stationery', 'Sports & Fitness', 'Beauty and Personal Care', 'Bags, Wallets & Belts', 'Home Decor & Festive Needs', 'Automotive', 'Tools & Hardware', 'Home Furnishing', 'Baby Care', 'Mobiles & Accessories', 'Watches', 'Toys & School Supplies', 'Jewellery', 'Kitchen & Dining', 'Home & Kitchen', 'Computers', 'Cameras & Accessories', 'Health & Personal Care Appliances', 'Gaming', 'Home Improvement', 'Sunglasses', 'Home Entertainment', 'Eyewear', 'eBooks']\n"
          ]
        }
      ]
    },
    {
      "cell_type": "code",
      "source": [
        "# Encoding the product category\n",
        "le = preprocessing.LabelEncoder()\n",
        "category_encoded=le.fit_transform(processed_df['product_category_tree'])\n",
        "processed_df['product_category_tree'] = category_encoded"
      ],
      "metadata": {
        "id": "zMlV__y7lLyl"
      },
      "execution_count": null,
      "outputs": []
    },
    {
      "cell_type": "code",
      "source": [
        "#Printing the encoded value and their corresponding values\n",
        "for i in range(28):\n",
        "    print(str(i) + \"-\" + le.inverse_transform([i]))"
      ],
      "metadata": {
        "colab": {
          "base_uri": "https://localhost:8080/"
        },
        "id": "M2X9kvfgn_5d",
        "outputId": "322698f8-5a1d-47f7-f992-284132ef1590"
      },
      "execution_count": null,
      "outputs": [
        {
          "output_type": "stream",
          "name": "stdout",
          "text": [
            "['0-Automotive']\n",
            "['1-Baby Care']\n",
            "['2-Bags, Wallets & Belts']\n",
            "['3-Beauty and Personal Care']\n",
            "['4-Cameras & Accessories']\n",
            "['5-Clothing']\n",
            "['6-Computers']\n",
            "['7-Eyewear']\n",
            "['8-Footwear']\n",
            "['9-Furniture']\n",
            "['10-Gaming']\n",
            "['11-Health & Personal Care Appliances']\n",
            "['12-Home & Kitchen']\n",
            "['13-Home Decor & Festive Needs']\n",
            "['14-Home Entertainment']\n",
            "['15-Home Furnishing']\n",
            "['16-Home Improvement']\n",
            "['17-Jewellery']\n",
            "['18-Kitchen & Dining']\n",
            "['19-Mobiles & Accessories']\n",
            "['20-Pens & Stationery']\n",
            "['21-Pet Supplies']\n",
            "['22-Sports & Fitness']\n",
            "['23-Sunglasses']\n",
            "['24-Tools & Hardware']\n",
            "['25-Toys & School Supplies']\n",
            "['26-Watches']\n",
            "['27-eBooks']\n"
          ]
        }
      ]
    },
    {
      "cell_type": "code",
      "source": [
        "processed_df.head()"
      ],
      "metadata": {
        "colab": {
          "base_uri": "https://localhost:8080/",
          "height": 206
        },
        "id": "NYRqjXkJn_o_",
        "outputId": "782a9c65-b25c-4000-830b-5a00e78351a5"
      },
      "execution_count": null,
      "outputs": [
        {
          "output_type": "execute_result",
          "data": {
            "text/plain": [
              "   product_category_tree                                        description\n",
              "0                      5  key features of alisha solid women s cycling s...\n",
              "1                      9  fabhomedecor fabric double sofa bed finish col...\n",
              "2                      8  key features of aw bellies sandals wedges heel...\n",
              "3                      5  key features of alisha solid women s cycling s...\n",
              "4                     21  specifications of sicons all purpose arnica do..."
            ],
            "text/html": [
              "\n",
              "  <div id=\"df-72f285aa-fe83-485e-b10d-46fdb6745d28\">\n",
              "    <div class=\"colab-df-container\">\n",
              "      <div>\n",
              "<style scoped>\n",
              "    .dataframe tbody tr th:only-of-type {\n",
              "        vertical-align: middle;\n",
              "    }\n",
              "\n",
              "    .dataframe tbody tr th {\n",
              "        vertical-align: top;\n",
              "    }\n",
              "\n",
              "    .dataframe thead th {\n",
              "        text-align: right;\n",
              "    }\n",
              "</style>\n",
              "<table border=\"1\" class=\"dataframe\">\n",
              "  <thead>\n",
              "    <tr style=\"text-align: right;\">\n",
              "      <th></th>\n",
              "      <th>product_category_tree</th>\n",
              "      <th>description</th>\n",
              "    </tr>\n",
              "  </thead>\n",
              "  <tbody>\n",
              "    <tr>\n",
              "      <th>0</th>\n",
              "      <td>5</td>\n",
              "      <td>key features of alisha solid women s cycling s...</td>\n",
              "    </tr>\n",
              "    <tr>\n",
              "      <th>1</th>\n",
              "      <td>9</td>\n",
              "      <td>fabhomedecor fabric double sofa bed finish col...</td>\n",
              "    </tr>\n",
              "    <tr>\n",
              "      <th>2</th>\n",
              "      <td>8</td>\n",
              "      <td>key features of aw bellies sandals wedges heel...</td>\n",
              "    </tr>\n",
              "    <tr>\n",
              "      <th>3</th>\n",
              "      <td>5</td>\n",
              "      <td>key features of alisha solid women s cycling s...</td>\n",
              "    </tr>\n",
              "    <tr>\n",
              "      <th>4</th>\n",
              "      <td>21</td>\n",
              "      <td>specifications of sicons all purpose arnica do...</td>\n",
              "    </tr>\n",
              "  </tbody>\n",
              "</table>\n",
              "</div>\n",
              "      <button class=\"colab-df-convert\" onclick=\"convertToInteractive('df-72f285aa-fe83-485e-b10d-46fdb6745d28')\"\n",
              "              title=\"Convert this dataframe to an interactive table.\"\n",
              "              style=\"display:none;\">\n",
              "        \n",
              "  <svg xmlns=\"http://www.w3.org/2000/svg\" height=\"24px\"viewBox=\"0 0 24 24\"\n",
              "       width=\"24px\">\n",
              "    <path d=\"M0 0h24v24H0V0z\" fill=\"none\"/>\n",
              "    <path d=\"M18.56 5.44l.94 2.06.94-2.06 2.06-.94-2.06-.94-.94-2.06-.94 2.06-2.06.94zm-11 1L8.5 8.5l.94-2.06 2.06-.94-2.06-.94L8.5 2.5l-.94 2.06-2.06.94zm10 10l.94 2.06.94-2.06 2.06-.94-2.06-.94-.94-2.06-.94 2.06-2.06.94z\"/><path d=\"M17.41 7.96l-1.37-1.37c-.4-.4-.92-.59-1.43-.59-.52 0-1.04.2-1.43.59L10.3 9.45l-7.72 7.72c-.78.78-.78 2.05 0 2.83L4 21.41c.39.39.9.59 1.41.59.51 0 1.02-.2 1.41-.59l7.78-7.78 2.81-2.81c.8-.78.8-2.07 0-2.86zM5.41 20L4 18.59l7.72-7.72 1.47 1.35L5.41 20z\"/>\n",
              "  </svg>\n",
              "      </button>\n",
              "      \n",
              "  <style>\n",
              "    .colab-df-container {\n",
              "      display:flex;\n",
              "      flex-wrap:wrap;\n",
              "      gap: 12px;\n",
              "    }\n",
              "\n",
              "    .colab-df-convert {\n",
              "      background-color: #E8F0FE;\n",
              "      border: none;\n",
              "      border-radius: 50%;\n",
              "      cursor: pointer;\n",
              "      display: none;\n",
              "      fill: #1967D2;\n",
              "      height: 32px;\n",
              "      padding: 0 0 0 0;\n",
              "      width: 32px;\n",
              "    }\n",
              "\n",
              "    .colab-df-convert:hover {\n",
              "      background-color: #E2EBFA;\n",
              "      box-shadow: 0px 1px 2px rgba(60, 64, 67, 0.3), 0px 1px 3px 1px rgba(60, 64, 67, 0.15);\n",
              "      fill: #174EA6;\n",
              "    }\n",
              "\n",
              "    [theme=dark] .colab-df-convert {\n",
              "      background-color: #3B4455;\n",
              "      fill: #D2E3FC;\n",
              "    }\n",
              "\n",
              "    [theme=dark] .colab-df-convert:hover {\n",
              "      background-color: #434B5C;\n",
              "      box-shadow: 0px 1px 3px 1px rgba(0, 0, 0, 0.15);\n",
              "      filter: drop-shadow(0px 1px 2px rgba(0, 0, 0, 0.3));\n",
              "      fill: #FFFFFF;\n",
              "    }\n",
              "  </style>\n",
              "\n",
              "      <script>\n",
              "        const buttonEl =\n",
              "          document.querySelector('#df-72f285aa-fe83-485e-b10d-46fdb6745d28 button.colab-df-convert');\n",
              "        buttonEl.style.display =\n",
              "          google.colab.kernel.accessAllowed ? 'block' : 'none';\n",
              "\n",
              "        async function convertToInteractive(key) {\n",
              "          const element = document.querySelector('#df-72f285aa-fe83-485e-b10d-46fdb6745d28');\n",
              "          const dataTable =\n",
              "            await google.colab.kernel.invokeFunction('convertToInteractive',\n",
              "                                                     [key], {});\n",
              "          if (!dataTable) return;\n",
              "\n",
              "          const docLinkHtml = 'Like what you see? Visit the ' +\n",
              "            '<a target=\"_blank\" href=https://colab.research.google.com/notebooks/data_table.ipynb>data table notebook</a>'\n",
              "            + ' to learn more about interactive tables.';\n",
              "          element.innerHTML = '';\n",
              "          dataTable['output_type'] = 'display_data';\n",
              "          await google.colab.output.renderOutput(dataTable, element);\n",
              "          const docLink = document.createElement('div');\n",
              "          docLink.innerHTML = docLinkHtml;\n",
              "          element.appendChild(docLink);\n",
              "        }\n",
              "      </script>\n",
              "    </div>\n",
              "  </div>\n",
              "  "
            ]
          },
          "metadata": {},
          "execution_count": 120
        }
      ]
    },
    {
      "cell_type": "markdown",
      "source": [
        "We have taken only those products which have a definite categories."
      ],
      "metadata": {
        "id": "FNNtLXEylAgs"
      }
    },
    {
      "cell_type": "markdown",
      "source": [
        "In the code cell below we can notice the change in the shape of our dataframe."
      ],
      "metadata": {
        "id": "qCpVW9aFlDl4"
      }
    },
    {
      "cell_type": "code",
      "source": [
        "#Shape of processed_df\n",
        "processed_df.shape"
      ],
      "metadata": {
        "colab": {
          "base_uri": "https://localhost:8080/"
        },
        "id": "LNdIFJJNohO2",
        "outputId": "7f5033e1-f38f-47eb-f506-e69de68bd1bd"
      },
      "execution_count": null,
      "outputs": [
        {
          "output_type": "execute_result",
          "data": {
            "text/plain": [
              "(19661, 2)"
            ]
          },
          "metadata": {},
          "execution_count": 121
        }
      ]
    },
    {
      "cell_type": "markdown",
      "source": [
        "The following code cell is for spliting our data into traing and testing data"
      ],
      "metadata": {
        "id": "9K7I4h76lKep"
      }
    },
    {
      "cell_type": "markdown",
      "source": [
        "We are splitting our dataset as follows:\n",
        "Training Data - 80%\n",
        "Testing Data - 20%"
      ],
      "metadata": {
        "id": "KVo1Xl8vlMDB"
      }
    },
    {
      "cell_type": "code",
      "source": [
        "X_train, X_test, y_train, y_test = train_test_split(processed_df['description'],processed_df['product_category_tree'],test_size=0.20, random_state=42)"
      ],
      "metadata": {
        "id": "RrL2JUAhog9N"
      },
      "execution_count": null,
      "outputs": []
    },
    {
      "cell_type": "code",
      "source": [
        "print(X_train.shape)\n",
        "print(y_train.shape)\n",
        "print(X_test.shape)\n",
        "print(y_test.shape)"
      ],
      "metadata": {
        "colab": {
          "base_uri": "https://localhost:8080/"
        },
        "id": "3jALaQ9NumkD",
        "outputId": "fbe9c025-efdc-429a-ee7b-0f96e138cfd1"
      },
      "execution_count": null,
      "outputs": [
        {
          "output_type": "stream",
          "name": "stdout",
          "text": [
            "(15728,)\n",
            "(15728,)\n",
            "(3933,)\n",
            "(3933,)\n"
          ]
        }
      ]
    },
    {
      "cell_type": "markdown",
      "source": [
        "Let's look at our training features:"
      ],
      "metadata": {
        "id": "MpxHm5nClbyB"
      }
    },
    {
      "cell_type": "code",
      "source": [
        "print(X_train.head())"
      ],
      "metadata": {
        "colab": {
          "base_uri": "https://localhost:8080/"
        },
        "id": "QLzOQu6humWz",
        "outputId": "dbe5ce25-70d3-4ad9-ebe6-d7705f2e91bc"
      },
      "execution_count": null,
      "outputs": [
        {
          "output_type": "stream",
          "name": "stdout",
          "text": [
            "1272     specifications of speedwav sun shade for tata ...\n",
            "1418     key features of finger s printed men s track p...\n",
            "11017    speedwav single pipe car air pressure nissan m...\n",
            "13234    dailyobjects back cover for apple ipad white p...\n",
            "17242    buy amber cotton hand towel at rs at flipkart ...\n",
            "Name: description, dtype: object\n"
          ]
        }
      ]
    },
    {
      "cell_type": "markdown",
      "source": [
        "Let's look at our training labels:"
      ],
      "metadata": {
        "id": "kLmaneNAltNf"
      }
    },
    {
      "cell_type": "code",
      "source": [
        "print(y_train.head())"
      ],
      "metadata": {
        "colab": {
          "base_uri": "https://localhost:8080/"
        },
        "id": "2U8xlWWwutpu",
        "outputId": "6b068b0e-3804-483e-e8a4-38b2de3c639b"
      },
      "execution_count": null,
      "outputs": [
        {
          "output_type": "stream",
          "name": "stdout",
          "text": [
            "1272      0\n",
            "1418      5\n",
            "11017     0\n",
            "13234    19\n",
            "17242    15\n",
            "Name: product_category_tree, dtype: int64\n"
          ]
        }
      ]
    },
    {
      "cell_type": "markdown",
      "source": [
        "Scikit-learn’s CountVectorizer is used to transform a corpora of text to a vector of term / token counts. It also provides the capability to preprocess your text data prior to generating the vector representation making it a highly flexible feature representation module for text."
      ],
      "metadata": {
        "id": "3pTXbItQnk4h"
      }
    },
    {
      "cell_type": "code",
      "source": [
        "'''\n",
        "This code block is for converting the training data to vectorized form\n",
        "\n",
        "'''\n",
        "# Instantiating the vectorizer and removing stop words\n",
        "vect = CountVectorizer(analyzer='word', stop_words = 'english')\n",
        "# Converting the train data\n",
        "X_train_matrix = vect.fit_transform(X_train) "
      ],
      "metadata": {
        "id": "hwV35Y_rv3lZ"
      },
      "execution_count": null,
      "outputs": []
    },
    {
      "cell_type": "code",
      "source": [
        "# vect.get_feature_names()\n",
        "X_train_matrix.shape"
      ],
      "metadata": {
        "colab": {
          "base_uri": "https://localhost:8080/"
        },
        "id": "sjx2RrGcv3Vq",
        "outputId": "03ecfbc8-85e0-4d91-b9a2-6abda8ed41a3"
      },
      "execution_count": null,
      "outputs": [
        {
          "output_type": "execute_result",
          "data": {
            "text/plain": [
              "(15728, 17599)"
            ]
          },
          "metadata": {},
          "execution_count": 128
        }
      ]
    },
    {
      "cell_type": "markdown",
      "source": [
        "rows x columns\n",
        "\n",
        "document = rows\n",
        "\n",
        "term = columns"
      ],
      "metadata": {
        "id": "RfbQEV8yoTMO"
      }
    },
    {
      "cell_type": "code",
      "source": [
        "vect.vocabulary_"
      ],
      "metadata": {
        "colab": {
          "base_uri": "https://localhost:8080/"
        },
        "id": "uJivoW02wT05",
        "outputId": "a3488ea4-8192-4107-e87e-4a8ba41e3ebe"
      },
      "execution_count": null,
      "outputs": [
        {
          "output_type": "execute_result",
          "data": {
            "text/plain": [
              "{'specifications': 14547,\n",
              " 'speedwav': 14562,\n",
              " 'sun': 15118,\n",
              " 'shade': 13764,\n",
              " 'tata': 15473,\n",
              " 'grand': 6644,\n",
              " 'dicor': 4213,\n",
              " 'dashboard': 3849,\n",
              " 'general': 6360,\n",
              " 'brand': 1920,\n",
              " 'model': 9945,\n",
              " 'number': 10612,\n",
              " 'placement': 11588,\n",
              " 'position': 11830,\n",
              " 'color': 3040,\n",
              " 'silver': 14076,\n",
              " 'dimensions': 4261,\n",
              " 'weight': 17044,\n",
              " 'height': 7023,\n",
              " 'cm': 2947,\n",
              " 'width': 17132,\n",
              " 'depth': 4056,\n",
              " 'box': 1874,\n",
              " 'pack': 11026,\n",
              " 'key': 8355,\n",
              " 'features': 5635,\n",
              " 'finger': 5778,\n",
              " 'printed': 12031,\n",
              " 'men': 9668,\n",
              " 'track': 15948,\n",
              " 'pants': 11133,\n",
              " 'mens': 9673,\n",
              " 'fancy': 5532,\n",
              " 'pant': 11128,\n",
              " 'material': 9520,\n",
              " 'cotton': 3440,\n",
              " 'outseam': 10954,\n",
              " 'length': 8838,\n",
              " 'inch': 7551,\n",
              " 'inseam': 7722,\n",
              " 'kangaroo': 8261,\n",
              " 'pocket': 11698,\n",
              " 'backside': 1198,\n",
              " 'details': 4114,\n",
              " 'closure': 2919,\n",
              " 'knot': 8488,\n",
              " 'fabric': 5458,\n",
              " 'pockets': 11701,\n",
              " 'pattern': 11231,\n",
              " 'ideal': 7413,\n",
              " 'trackpant': 15952,\n",
              " 'additional': 224,\n",
              " 'style': 15011,\n",
              " 'code': 2993,\n",
              " 'red': 12623,\n",
              " 'dollar': 4458,\n",
              " 'print': 12030,\n",
              " 'single': 14111,\n",
              " 'pipe': 11551,\n",
              " 'car': 2311,\n",
              " 'air': 402,\n",
              " 'pressure': 11983,\n",
              " 'nissan': 10513,\n",
              " 'micra': 9770,\n",
              " 'db': 3873,\n",
              " 'vehicle': 16613,\n",
              " 'horn': 7249,\n",
              " 'price': 12007,\n",
              " 'rs': 13204,\n",
              " 'tired': 15780,\n",
              " 'low': 9145,\n",
              " 'sound': 14476,\n",
              " 'switch': 15312,\n",
              " 'taking': 15399,\n",
              " 'safe': 13301,\n",
              " 'whicle': 17087,\n",
              " 'riding': 13016,\n",
              " 'make': 9339,\n",
              " 'head': 6977,\n",
              " 'turner': 16209,\n",
              " 'blow': 1701,\n",
              " 'road': 13071,\n",
              " 'melodies': 9657,\n",
              " 'tune': 16195,\n",
              " 'easy': 4742,\n",
              " 'fit': 5809,\n",
              " 'increased': 7576,\n",
              " 'life': 8899,\n",
              " 'enhanced': 5050,\n",
              " 'loud': 9124,\n",
              " 'helps': 7041,\n",
              " 'lane': 8675,\n",
              " 'ahead': 390,\n",
              " 'installed': 7751,\n",
              " 'driving': 4580,\n",
              " 'roads': 13073,\n",
              " 'highways': 7118,\n",
              " 'buy': 2174,\n",
              " 'highway': 7117,\n",
              " 'travelers': 16018,\n",
              " 'journey': 8148,\n",
              " 'note': 10567,\n",
              " 'product': 12078,\n",
              " 'vary': 16571,\n",
              " 'stock': 14857,\n",
              " 'availability': 1087,\n",
              " 'package': 11027,\n",
              " 'contents': 3323,\n",
              " 'twin': 16241,\n",
              " 'tone': 15847,\n",
              " 'trumpet': 16141,\n",
              " 'cone': 3230,\n",
              " 'compressor': 3191,\n",
              " 'dailyobjects': 3784,\n",
              " 'cover': 3476,\n",
              " 'apple': 753,\n",
              " 'ipad': 7874,\n",
              " 'white': 17106,\n",
              " 'slim': 14245,\n",
              " 'com': 3072,\n",
              " 'india': 7595,\n",
              " 'largest': 8693,\n",
              " 'seller': 13653,\n",
              " 'designer': 4079,\n",
              " 'customisable': 3725,\n",
              " 'smartphone': 14291,\n",
              " 'cases': 2397,\n",
              " 'curated': 3688,\n",
              " 'collection': 3032,\n",
              " 'exclusive': 5315,\n",
              " 'licensed': 8893,\n",
              " 'art': 870,\n",
              " 'painstakingly': 11053,\n",
              " 'sourced': 14483,\n",
              " 'artists': 895,\n",
              " 'love': 9131,\n",
              " 'world': 17280,\n",
              " 'currently': 3704,\n",
              " 'amazing': 542,\n",
              " 'designs': 4084,\n",
              " 'countries': 3456,\n",
              " 'available': 1089,\n",
              " 'different': 4226,\n",
              " 'models': 9948,\n",
              " 'smartphones': 14292,\n",
              " 'amber': 548,\n",
              " 'hand': 6831,\n",
              " 'towel': 15924,\n",
              " 'flipkart': 5904,\n",
              " 'genuine': 6378,\n",
              " 'products': 12081,\n",
              " 'free': 6110,\n",
              " 'shipping': 13891,\n",
              " 'cash': 2399,\n",
              " 'delivery': 4003,\n",
              " 'etti': 5233,\n",
              " 'wood': 17251,\n",
              " 'necklace': 10366,\n",
              " 'day': 3864,\n",
              " 'replacement': 12821,\n",
              " 'guarantee': 6736,\n",
              " 'miss': 9881,\n",
              " 'chase': 2614,\n",
              " 'casual': 2415,\n",
              " 'sleeveless': 14224,\n",
              " 'solid': 14423,\n",
              " 'women': 17238,\n",
              " 'coral': 3390,\n",
              " 'online': 10776,\n",
              " 'shop': 13930,\n",
              " 'apparels': 741,\n",
              " 'huge': 7325,\n",
              " 'branded': 1922,\n",
              " 'clothes': 2923,\n",
              " 'fab': 5447,\n",
              " 'fashion': 5553,\n",
              " 'alloy': 496,\n",
              " 'durable': 4660,\n",
              " 'wonderful': 17245,\n",
              " 'finish': 5786,\n",
              " 'designed': 4078,\n",
              " 'excellence': 5299,\n",
              " 'pendant': 11325,\n",
              " 'makes': 9345,\n",
              " 'gifting': 6434,\n",
              " 'option': 10835,\n",
              " 'tetalee': 15609,\n",
              " 'kurti': 8587,\n",
              " 'yellow': 17428,\n",
              " 'kiosha': 8428,\n",
              " 'shirt': 13893,\n",
              " 'pink': 11530,\n",
              " 'homeehub': 7213,\n",
              " 'polyester': 11753,\n",
              " 'multicolor': 10163,\n",
              " 'self': 13647,\n",
              " 'design': 4076,\n",
              " 'eyelet': 5432,\n",
              " 'door': 4484,\n",
              " 'curtain': 3707,\n",
              " 'shapes': 13801,\n",
              " 'feather': 5629,\n",
              " 'wheel': 17081,\n",
              " 'laptop': 8689,\n",
              " 'skin': 14169,\n",
              " 'mouse': 10088,\n",
              " 'pad': 11038,\n",
              " 'combo': 3085,\n",
              " 'set': 13729,\n",
              " 'glue': 6521,\n",
              " 'removal': 12784,\n",
              " 'inches': 7552,\n",
              " 'apply': 768,\n",
              " 'scratch': 13542,\n",
              " 'resistant': 12878,\n",
              " 'lamination': 8661,\n",
              " 'high': 7103,\n",
              " 'quality': 12319,\n",
              " 'vinyl': 16752,\n",
              " 'sheet': 13842,\n",
              " 'compatible': 3152,\n",
              " 'laptops': 8690,\n",
              " 'screen': 13548,\n",
              " 'sizes': 14142,\n",
              " 'ranging': 12467,\n",
              " 'trimning': 16092,\n",
              " 'required': 12853,\n",
              " 'size': 14140,\n",
              " 'skins': 14171,\n",
              " 'install': 7749,\n",
              " 'remove': 12785,\n",
              " 'leaving': 8787,\n",
              " 'gum': 6763,\n",
              " 'residue': 12871,\n",
              " 'suitable': 15096,\n",
              " 'types': 16264,\n",
              " 'warranty': 16942,\n",
              " 'summary': 15111,\n",
              " 'sales': 13339,\n",
              " 'jdx': 8025,\n",
              " 'jjc': 8100,\n",
              " 'lh': 8877,\n",
              " 'lens': 8843,\n",
              " 'hood': 7230,\n",
              " 'santosh': 13391,\n",
              " 'royal': 13184,\n",
              " 'king': 8422,\n",
              " 'sized': 14141,\n",
              " 'double': 4502,\n",
              " 'bedsheet': 1409,\n",
              " 'perfact': 11357,\n",
              " 'wedding': 17028,\n",
              " 'pillow': 11513,\n",
              " 'machine': 9249,\n",
              " 'washable': 16947,\n",
              " 'yes': 17430,\n",
              " 'type': 16262,\n",
              " 'flat': 5858,\n",
              " 'gold': 6554,\n",
              " 'gifted': 6433,\n",
              " 'id': 7409,\n",
              " 'goldbedi': 6555,\n",
              " 'care': 2332,\n",
              " 'wash': 16946,\n",
              " 'bleach': 1647,\n",
              " 'fitted': 5814,\n",
              " 'thelostpuppy': 15651,\n",
              " 'protect': 12143,\n",
              " 'impress': 7522,\n",
              " 'lost': 9115,\n",
              " 'puppy': 12233,\n",
              " 'brings': 1994,\n",
              " 'robust': 13088,\n",
              " 'mobile': 9923,\n",
              " 'covers': 3481,\n",
              " 'special': 14532,\n",
              " 'anti': 684,\n",
              " 'slip': 14252,\n",
              " 'technology': 15525,\n",
              " 'protects': 12151,\n",
              " 'phone': 11450,\n",
              " 'ways': 16985,\n",
              " 'matte': 9537,\n",
              " 'superior': 15157,\n",
              " 'add': 217,\n",
              " 'elegance': 4875,\n",
              " 'class': 2836,\n",
              " 'sturdiness': 15005,\n",
              " 'indiatrendzs': 7602,\n",
              " 'gathered': 6320,\n",
              " 'dress': 4552,\n",
              " 'black': 1614,\n",
              " 'shopper': 13947,\n",
              " 'tree': 16038,\n",
              " 'ladies': 8636,\n",
              " 'sleeves': 14225,\n",
              " 'collarr': 3025,\n",
              " 'hidden': 7098,\n",
              " 'lace': 8618,\n",
              " 'near': 10350,\n",
              " 'gives': 6458,\n",
              " 'garment': 6306,\n",
              " 'fresh': 6131,\n",
              " 'look': 9090,\n",
              " 'used': 16462,\n",
              " 'trousers': 16130,\n",
              " 'oviyon': 10990,\n",
              " 'round': 13168,\n",
              " 'neck': 10361,\n",
              " 'hm': 7164,\n",
              " 'ambassador': 547,\n",
              " 'mpfi': 10108,\n",
              " 'famaya': 5522,\n",
              " 'girl': 6449,\n",
              " 'leggings': 8811,\n",
              " 'green': 6676,\n",
              " 'maroon': 9466,\n",
              " 'navy': 10324,\n",
              " 'blue': 1713,\n",
              " 'purple': 12262,\n",
              " 'radiant': 12395,\n",
              " 'bay': 1342,\n",
              " 'flower': 5939,\n",
              " 'focused': 5979,\n",
              " 'diamond': 4196,\n",
              " 'ring': 13025,\n",
              " 'karatcraft': 8276,\n",
              " 'petunia': 11430,\n",
              " 'girgit': 6448,\n",
              " 'plant': 11605,\n",
              " 'container': 3311,\n",
              " 'best': 1504,\n",
              " 'prices': 12010,\n",
              " 'imbindass': 7476,\n",
              " 'cobalt': 2978,\n",
              " 'uneven': 16354,\n",
              " 'hem': 7042,\n",
              " 'detailing': 4113,\n",
              " 'super': 15148,\n",
              " 'fun': 6206,\n",
              " 'great': 6672,\n",
              " 'piece': 11496,\n",
              " 'tip': 15775,\n",
              " 'wear': 17003,\n",
              " 'contrasting': 3335,\n",
              " 'coloured': 3055,\n",
              " 'bottoms': 1850,\n",
              " 'nude': 10608,\n",
              " 'kitten': 8444,\n",
              " 'heels': 7020,\n",
              " 'complete': 3167,\n",
              " 'nucode': 10607,\n",
              " 'graphic': 6655,\n",
              " 'crafted': 3509,\n",
              " 'combed': 3077,\n",
              " 'gsm': 6730,\n",
              " 'bio': 1589,\n",
              " 'washed': 16950,\n",
              " 'silicon': 14064,\n",
              " 'enzyme': 5125,\n",
              " 'torquing': 15890,\n",
              " 'zero': 17518,\n",
              " 'percent': 11353,\n",
              " 'pilling': 11512,\n",
              " 'utmost': 16486,\n",
              " 'precision': 11931,\n",
              " 'comfortable': 3099,\n",
              " 'feel': 5646,\n",
              " 'perfect': 11358,\n",
              " 'inks': 7696,\n",
              " 'eco': 4765,\n",
              " 'friendly': 6146,\n",
              " 'hope': 7245,\n",
              " 'wearing': 17009,\n",
              " 'loved': 9134,\n",
              " 'making': 9349,\n",
              " 'cinderella': 2786,\n",
              " 'nighty': 10480,\n",
              " 'powernet': 11883,\n",
              " 'polyamide': 11745,\n",
              " 'fits': 5813,\n",
              " 'small': 14282,\n",
              " 'medium': 9620,\n",
              " 'built': 2103,\n",
              " 'sort': 14468,\n",
              " 'moulded': 10079,\n",
              " 'cups': 3685,\n",
              " 'cold': 3013,\n",
              " 'water': 16964,\n",
              " 'use': 16461,\n",
              " 'mild': 9809,\n",
              " 'detergent': 4120,\n",
              " 'cindrella': 2787,\n",
              " 'stretch': 14932,\n",
              " 'delicate': 3993,\n",
              " 'bring': 1992,\n",
              " 'sexy': 13752,\n",
              " 'avatar': 1101,\n",
              " 'adjustable': 260,\n",
              " 'straps': 14906,\n",
              " 'night': 10470,\n",
              " 'short': 13958,\n",
              " 'floral': 5927,\n",
              " 'stylish': 15023,\n",
              " 'push': 12270,\n",
              " 'bra': 1895,\n",
              " 'range': 12465,\n",
              " 'colour': 3053,\n",
              " 'slightly': 14244,\n",
              " 'depending': 4046,\n",
              " 'computer': 3198,\n",
              " 'monitor': 10007,\n",
              " 'setting': 13734,\n",
              " 'dots': 4499,\n",
              " 'sports': 14637,\n",
              " 'strechable': 14920,\n",
              " 'services': 13724,\n",
              " 'junction': 8192,\n",
              " 'beautiful': 1391,\n",
              " 'plated': 11620,\n",
              " 'pitamber': 11566,\n",
              " 'ganesh': 6287,\n",
              " 'idol': 7426,\n",
              " 'office': 10716,\n",
              " 'desk': 4096,\n",
              " 'showpiece': 13977,\n",
              " 'lord': 9108,\n",
              " 'ganesha': 6288,\n",
              " 'ganpati': 6291,\n",
              " 'gods': 6543,\n",
              " 'gifts': 6436,\n",
              " 'bl': 1613,\n",
              " 'clay': 2851,\n",
              " 'statue': 14773,\n",
              " 'packaging': 11030,\n",
              " 'packed': 11031,\n",
              " 'bubble': 2072,\n",
              " 'wrapped': 17319,\n",
              " 'cms': 2959,\n",
              " 'approx': 778,\n",
              " 'instructions': 7765,\n",
              " 'clean': 2854,\n",
              " 'damp': 3804,\n",
              " 'cloth': 2922,\n",
              " 'submerge': 15056,\n",
              " 'pottery': 11864,\n",
              " 'dark': 3832,\n",
              " 'handcrafted': 6836,\n",
              " 'antique': 695,\n",
              " 'plating': 11626,\n",
              " 'stone': 14866,\n",
              " 'bless': 1662,\n",
              " 'home': 7208,\n",
              " 'peace': 11279,\n",
              " 'happiness': 6891,\n",
              " 'fetch': 5692,\n",
              " 'loads': 9043,\n",
              " 'compliments': 3178,\n",
              " 'assure': 959,\n",
              " 'positivity': 11837,\n",
              " 'magnetic': 9286,\n",
              " 'charm': 2607,\n",
              " 'placing': 11590,\n",
              " 'desired': 4093,\n",
              " 'place': 11585,\n",
              " 'sure': 15194,\n",
              " 'admired': 272,\n",
              " 'guests': 6749,\n",
              " 'serves': 13720,\n",
              " 'gift': 6431,\n",
              " 'especially': 5186,\n",
              " 'religious': 12763,\n",
              " 'celebrations': 2478,\n",
              " 'festivities': 5691,\n",
              " 'god': 6539,\n",
              " 'shree': 13986,\n",
              " 'worshipped': 17292,\n",
              " 'beginning': 1428,\n",
              " 'considered': 3282,\n",
              " 'auspicious': 1050,\n",
              " 'dear': 3894,\n",
              " 'ones': 10773,\n",
              " 'disclaimer': 4307,\n",
              " 'images': 7468,\n",
              " 'represent': 12835,\n",
              " 'actual': 196,\n",
              " 'image': 7467,\n",
              " 'differ': 4223,\n",
              " 'slv': 14279,\n",
              " 'contemporary': 3319,\n",
              " 'idols': 7427,\n",
              " 'quechua': 12331,\n",
              " 'rain': 12421,\n",
              " 'cut': 3735,\n",
              " 'boy': 1881,\n",
              " 'raincoat': 12423,\n",
              " 'kuhuk': 8572,\n",
              " 'plastic': 11616,\n",
              " 'bangle': 1267,\n",
              " 'kiara': 8395,\n",
              " 'jewellery': 8061,\n",
              " 'sterling': 14812,\n",
              " 'cubic': 3650,\n",
              " 'zirconia': 17552,\n",
              " 'rhodium': 12984,\n",
              " 'lowe': 9146,\n",
              " 'alpine': 510,\n",
              " 'face': 5472,\n",
              " 'cap': 2285,\n",
              " 'hoopoe': 7241,\n",
              " 'decor': 3916,\n",
              " 'large': 8691,\n",
              " 'wall': 16903,\n",
              " 'sticker': 14827,\n",
              " 'kits': 8442,\n",
              " 'kart': 8293,\n",
              " 'pouch': 11865,\n",
              " 'microsoft': 9786,\n",
              " 'lumia': 9191,\n",
              " 'protective': 12148,\n",
              " 'light': 8911,\n",
              " 'description': 4065,\n",
              " 'hdprd': 6974,\n",
              " 'keeps': 8337,\n",
              " 'executive': 5321,\n",
              " 'leather': 8778,\n",
              " 'case': 2394,\n",
              " 'ultimate': 16302,\n",
              " 'protection': 12147,\n",
              " 'harm': 6912,\n",
              " 'impacting': 7503,\n",
              " 'profile': 12089,\n",
              " 'scratches': 13544,\n",
              " 'cracks': 3503,\n",
              " 'slides': 14240,\n",
              " 'device': 4137,\n",
              " 'completely': 3168,\n",
              " 'inside': 7730,\n",
              " 'strongly': 14970,\n",
              " 'protected': 12145,\n",
              " 'adding': 222,\n",
              " 'thickness': 15672,\n",
              " 'normally': 10556,\n",
              " 'associated': 952,\n",
              " 'help': 7037,\n",
              " 'looking': 9092,\n",
              " 'good': 6576,\n",
              " 'new': 10426,\n",
              " 'tough': 15913,\n",
              " 'withstand': 17207,\n",
              " 'hassles': 6940,\n",
              " 'strain': 14897,\n",
              " 'stay': 14778,\n",
              " 'long': 9079,\n",
              " 'glimpse': 6492,\n",
              " 'exclusively': 5316,\n",
              " 'construction': 3298,\n",
              " 'extremely': 5420,\n",
              " 'molds': 9987,\n",
              " 'perfectly': 11366,\n",
              " 'phones': 11452,\n",
              " 'shape': 13795,\n",
              " 'premium': 11955,\n",
              " 'leave': 8785,\n",
              " 'positive': 11835,\n",
              " 'feedback': 5642,\n",
              " 'detailed': 4112,\n",
              " 'rating': 12500,\n",
              " 'satisfied': 13429,\n",
              " 'issues': 7919,\n",
              " 'regarding': 12698,\n",
              " 'feeling': 5647,\n",
              " 'negative': 10389,\n",
              " 'remark': 12772,\n",
              " 'humbly': 7338,\n",
              " 'request': 12850,\n",
              " 'mail': 9318,\n",
              " 'promptly': 12123,\n",
              " 'resolve': 12885,\n",
              " 'issue': 7917,\n",
              " 'kitskart': 8443,\n",
              " 'gmail': 6527,\n",
              " 'artificial': 886,\n",
              " 'latin': 8708,\n",
              " 'quarters': 12327,\n",
              " 'line': 8953,\n",
              " 'kids': 8400,\n",
              " 'board': 1744,\n",
              " 'll': 9027,\n",
              " 'ready': 12553,\n",
              " 'celebrate': 2474,\n",
              " 'weather': 17013,\n",
              " 'butterfly': 2164,\n",
              " 'kob': 8501,\n",
              " 'cool': 3371,\n",
              " 'fuss': 6242,\n",
              " 'fress': 6141,\n",
              " 'dressing': 4557,\n",
              " 'wardrobe': 16926,\n",
              " 'kolkata': 8514,\n",
              " 'knight': 8476,\n",
              " 'riders': 13013,\n",
              " 'tokyo': 15833,\n",
              " 'talkies': 15408,\n",
              " 'nkp': 10531,\n",
              " 'towels': 15925,\n",
              " 'woven': 17304,\n",
              " 'pure': 12246,\n",
              " 'soft': 14386,\n",
              " 'luxurious': 9217,\n",
              " 'elegant': 4876,\n",
              " 'border': 1821,\n",
              " 'texture': 15620,\n",
              " 'little': 9008,\n",
              " 'spa': 14497,\n",
              " 'glamour': 6470,\n",
              " 'bathroom': 1326,\n",
              " 'lightweight': 8925,\n",
              " 'absorbent': 92,\n",
              " 'fast': 5577,\n",
              " 'drying': 4603,\n",
              " 'roll': 13110,\n",
              " 'bag': 1210,\n",
              " 'outing': 10942,\n",
              " 'mind': 9828,\n",
              " 'haker': 6812,\n",
              " 'sv': 15236,\n",
              " 'creations': 3555,\n",
              " 'shoulder': 13964,\n",
              " 'brown': 2038,\n",
              " 'zip': 17541,\n",
              " 'pu': 12191,\n",
              " 'svc': 15239,\n",
              " 'occasion': 10679,\n",
              " 'festive': 5689,\n",
              " 'palakz': 11075,\n",
              " 'house': 7277,\n",
              " 'plush': 11683,\n",
              " 'pencil': 11323,\n",
              " 'baby': 1175,\n",
              " 'sanganri': 13380,\n",
              " 'boys': 1883,\n",
              " 'half': 6815,\n",
              " 'sleeve': 14222,\n",
              " 'classic': 2839,\n",
              " 'featuring': 5636,\n",
              " 'button': 2166,\n",
              " 'check': 2629,\n",
              " 'regular': 12707,\n",
              " 'cokb': 3008,\n",
              " 'imagica': 7469,\n",
              " 'clasp': 2835,\n",
              " 'hook': 7236,\n",
              " 'eye': 5428,\n",
              " 'barrel': 1292,\n",
              " 'offers': 10715,\n",
              " 'neckalce': 10363,\n",
              " 'worn': 17285,\n",
              " 'weddings': 17029,\n",
              " 'parties': 11179,\n",
              " 'update': 16416,\n",
              " 'pearl': 11291,\n",
              " 'na': 10257,\n",
              " 'precious': 11928,\n",
              " 'engagement': 5036,\n",
              " 'carat': 2316,\n",
              " 'grade': 6626,\n",
              " 'clarity': 2829,\n",
              " 'purity': 12258,\n",
              " 'body': 1758,\n",
              " 'base': 1299,\n",
              " 'gemstone': 6352,\n",
              " 'certification': 2520,\n",
              " 'vaishna': 16507,\n",
              " 'coverage': 3477,\n",
              " 'beige': 1431,\n",
              " 'omtex': 10768,\n",
              " 'polo': 11742,\n",
              " 'wetex': 17070,\n",
              " 'shapewear': 13802,\n",
              " 'rolling': 13114,\n",
              " 'wire': 17191,\n",
              " 'control': 3341,\n",
              " 'spandex': 14507,\n",
              " 'polyerster': 11752,\n",
              " 'panty': 11134,\n",
              " 'whittles': 17115,\n",
              " 'waist': 16885,\n",
              " 'tones': 15850,\n",
              " 'tummy': 16193,\n",
              " 'lifts': 8907,\n",
              " 'rear': 12566,\n",
              " 'smashing': 14295,\n",
              " 'blackny': 1623,\n",
              " 'underwear': 16347,\n",
              " 'eliminate': 4896,\n",
              " 'lines': 8961,\n",
              " 'extends': 5403,\n",
              " 'just': 8203,\n",
              " 'waistband': 16886,\n",
              " 'sits': 14131,\n",
              " 'beneath': 1478,\n",
              " 'bulges': 2112,\n",
              " 'natural': 10308,\n",
              " 'waistline': 16889,\n",
              " 'ultra': 16305,\n",
              " 'leg': 8803,\n",
              " 'bands': 1264,\n",
              " 'alleviate': 485,\n",
              " 'seamless': 13583,\n",
              " 'sides': 14035,\n",
              " 'smooth': 14318,\n",
              " 'brief': 1976,\n",
              " 'panties': 11131,\n",
              " 'provide': 12164,\n",
              " 'sewn': 13747,\n",
              " 'crotch': 3612,\n",
              " 'hosiery': 7257,\n",
              " 'eliminating': 4899,\n",
              " 'hip': 7140,\n",
              " 'addition': 223,\n",
              " 'shorts': 13961,\n",
              " 'minis': 9851,\n",
              " 'elastic': 4846,\n",
              " 'rst': 13211,\n",
              " 'xl': 17374,\n",
              " 'sheerness': 13840,\n",
              " 'opague': 10794,\n",
              " 'age': 363,\n",
              " 'group': 6717,\n",
              " 'month': 10023,\n",
              " 'gentle': 6374,\n",
              " 'lukewarm': 9183,\n",
              " 'rainfun': 12425,\n",
              " 'polyster': 11767,\n",
              " 'chest': 2662,\n",
              " 'rf': 12972,\n",
              " 'jolly': 8134,\n",
              " 'bred': 1965,\n",
              " 'florentyne': 5932,\n",
              " 'pasabahce': 11190,\n",
              " 'istdeco': 7921,\n",
              " 'highball': 7104,\n",
              " 'tumbler': 16190,\n",
              " 'ml': 9906,\n",
              " 'dishwasher': 4329,\n",
              " 'freezer': 6120,\n",
              " 'refrigation': 12687,\n",
              " 'juice': 8181,\n",
              " 'fizzy': 5829,\n",
              " 'beverages': 1515,\n",
              " 'mock': 9937,\n",
              " 'tail': 15386,\n",
              " 'glass': 6479,\n",
              " 'capacity': 2291,\n",
              " 'micromax': 9780,\n",
              " 'canvas': 2283,\n",
              " 'wadell': 16877,\n",
              " 'inspired': 7741,\n",
              " 'kt': 8564,\n",
              " 'diamonds': 4198,\n",
              " 'close': 2912,\n",
              " 'impression': 7525,\n",
              " 'solitaire': 14427,\n",
              " 'fraction': 6086,\n",
              " 'cost': 3424,\n",
              " 'voylla': 16853,\n",
              " 'metal': 9721,\n",
              " 'masaba': 9487,\n",
              " 'magic': 9277,\n",
              " 'fairy': 5510,\n",
              " 'layered': 8734,\n",
              " 'candied': 2267,\n",
              " 'roses': 13147,\n",
              " 'pretty': 11994,\n",
              " 'multiple': 10178,\n",
              " 'layer': 8733,\n",
              " 'frills': 6153,\n",
              " 'adorned': 284,\n",
              " 'cute': 3736,\n",
              " 'brooch': 2027,\n",
              " 'collections': 3033,\n",
              " 'mini': 9839,\n",
              " 'belt': 1465,\n",
              " 'included': 7558,\n",
              " 'zipper': 17546,\n",
              " 'dry': 4599,\n",
              " 'orange': 10845,\n",
              " 'orchid': 10850,\n",
              " 'striped': 14958,\n",
              " 'lienz': 8897,\n",
              " 'camisole': 2250,\n",
              " 'brandtrendz': 1929,\n",
              " 'bellies': 1454,\n",
              " 'heel': 7017,\n",
              " 'funky': 6220,\n",
              " 'loafers': 9045,\n",
              " 'shoe': 13916,\n",
              " 'sole': 14414,\n",
              " 'tpr': 15941,\n",
              " 'outer': 10936,\n",
              " 'hi': 7093,\n",
              " 'statement': 14763,\n",
              " 'crystal': 3633,\n",
              " 'kcrimson': 8326,\n",
              " 'checkered': 2632,\n",
              " 'sky': 14184,\n",
              " 'shopmania': 13939,\n",
              " 'notebook': 10568,\n",
              " 'spiral': 14603,\n",
              " 'bound': 1859,\n",
              " 'ruling': 13255,\n",
              " 'ruled': 13251,\n",
              " 'smnotebook': 14310,\n",
              " 'pages': 11048,\n",
              " 'laminated': 8660,\n",
              " 'hard': 6898,\n",
              " 'binding': 1587,\n",
              " 'notepad': 10571,\n",
              " 'diary': 4208,\n",
              " 'writing': 17339,\n",
              " 'bike': 1573,\n",
              " 'handle': 6847,\n",
              " 'grip': 6698,\n",
              " 'yamaha': 17406,\n",
              " 'ybr': 17419,\n",
              " 'crisscross': 3593,\n",
              " 'motorbike': 10071,\n",
              " 'steel': 14789,\n",
              " 'rubber': 13221,\n",
              " 'inner': 7704,\n",
              " 'diameter': 4193,\n",
              " 'rakam': 12449,\n",
              " 'highlander': 7107,\n",
              " 'cation': 2431,\n",
              " 'mochi': 9936,\n",
              " 'trendy': 16055,\n",
              " 'fax': 5607,\n",
              " 'slippers': 14257,\n",
              " 'chaapal': 2535,\n",
              " 'slipper': 14256,\n",
              " 'flip': 5903,\n",
              " 'flop': 5924,\n",
              " 'eva': 5245,\n",
              " 'strap': 14903,\n",
              " 'disney': 4339,\n",
              " 'cartoon': 2381,\n",
              " 'sukkhi': 15105,\n",
              " 'zinc': 17538,\n",
              " 'wolfpack': 17232,\n",
              " 'deep': 3943,\n",
              " 'ambition': 555,\n",
              " 'autocare': 1068,\n",
              " 'mat': 9514,\n",
              " 'maruti': 9477,\n",
              " 'ciaz': 2777,\n",
              " 'sm': 14280,\n",
              " 'sway': 15266,\n",
              " 'cricket': 3581,\n",
              " 'ball': 1238,\n",
              " 'country': 3457,\n",
              " 'manufacture': 9420,\n",
              " 'junior': 8195,\n",
              " 'senior': 13666,\n",
              " 'ground': 6716,\n",
              " 'wet': 17069,\n",
              " 'beginner': 1426,\n",
              " 'training': 15973,\n",
              " 'panels': 11117,\n",
              " 'dimples': 4268,\n",
              " 'stitching': 14852,\n",
              " 'universal': 16382,\n",
              " 'okane': 10739,\n",
              " 'fourths': 6075,\n",
              " 'mustard': 10219,\n",
              " 'blended': 1655,\n",
              " 'relaxed': 12747,\n",
              " 'definite': 3966,\n",
              " 'fourth': 6074,\n",
              " 'sc': 13469,\n",
              " 'jewels': 8069,\n",
              " 'petra': 11424,\n",
              " 'sierra': 14037,\n",
              " 'shift': 13865,\n",
              " 'redl': 12638,\n",
              " 'lcherry': 8750,\n",
              " 'hello': 7032,\n",
              " 'dolly': 4460,\n",
              " 'getabhi': 6401,\n",
              " 'tie': 15725,\n",
              " 'stfu': 14815,\n",
              " 'cream': 3543,\n",
              " 'tappu': 15446,\n",
              " 'ki': 8394,\n",
              " 'dukaan': 4627,\n",
              " 'apron': 784,\n",
              " 'chef': 2645,\n",
              " 'text': 15615,\n",
              " 'pinafore': 11521,\n",
              " 'ties': 15729,\n",
              " 'cook': 3361,\n",
              " 'bad': 1204,\n",
              " 'sport': 14633,\n",
              " 'aprons': 785,\n",
              " 'really': 12563,\n",
              " 'tkd': 15801,\n",
              " 'bbt': 1350,\n",
              " 'sunvi': 15146,\n",
              " 'rajasthani': 12434,\n",
              " 'stonework': 14869,\n",
              " 'stand': 14731,\n",
              " 'raymond': 12516,\n",
              " 'abstract': 98,\n",
              " 'blanket': 1636,\n",
              " 'roadster': 13074,\n",
              " 'denim': 4026,\n",
              " 'spread': 14651,\n",
              " 'collar': 3021,\n",
              " 'placket': 11591,\n",
              " 'patch': 11212,\n",
              " 'curved': 3712,\n",
              " 'quotient': 12366,\n",
              " 'classy': 2846,\n",
              " 'timeless': 15755,\n",
              " 'recommend': 12607,\n",
              " 'team': 15502,\n",
              " 'cargo': 2343,\n",
              " 'boots': 1818,\n",
              " 'purezza': 12251,\n",
              " 'rockmantra': 13095,\n",
              " 'fantasy': 5539,\n",
              " 'artrmmw': 898,\n",
              " 'ceramic': 2512,\n",
              " 'mug': 10151,\n",
              " 'thrilling': 15703,\n",
              " 'start': 14754,\n",
              " 'creation': 3554,\n",
              " 'porcelain': 11794,\n",
              " 'crafting': 3511,\n",
              " 'ensuring': 5080,\n",
              " 'stays': 14780,\n",
              " 'permanent': 11386,\n",
              " 'years': 17425,\n",
              " 'come': 3088,\n",
              " 'pick': 11483,\n",
              " 'microwave': 9790,\n",
              " 'meow': 9687,\n",
              " 'wings': 17170,\n",
              " 'held': 7027,\n",
              " 'mwstarsmallmaroon': 10230,\n",
              " 'girls': 6452,\n",
              " 'formal': 6046,\n",
              " 'evening': 5252,\n",
              " 'party': 11184,\n",
              " 'window': 17153,\n",
              " 'swiss': 15309,\n",
              " 'trend': 16045,\n",
              " 'artshai': 900,\n",
              " 'analog': 595,\n",
              " 'watch': 16958,\n",
              " 'discounts': 4316,\n",
              " 'moda': 9940,\n",
              " 'kidsumbrella': 8401,\n",
              " 'umbrella': 16313,\n",
              " 'handy': 6868,\n",
              " 'multi': 10158,\n",
              " 'foldable': 5988,\n",
              " 'windproof': 17155,\n",
              " 'rama': 12458,\n",
              " 'animal': 636,\n",
              " 'craftuno': 3523,\n",
              " 'soapstone': 14362,\n",
              " 'cannon': 2276,\n",
              " 'norwood': 10560,\n",
              " 'piftif': 11503,\n",
              " 'open': 10800,\n",
              " 'removeable': 12786,\n",
              " 'comfy': 3106,\n",
              " 'padding': 11040,\n",
              " 'wires': 17195,\n",
              " 'lot': 9116,\n",
              " 'meant': 9595,\n",
              " 'intense': 7792,\n",
              " 'athletic': 990,\n",
              " 'workouts': 17274,\n",
              " 'extreme': 5418,\n",
              " 'support': 15178,\n",
              " 'moderate': 9950,\n",
              " 'exercise': 5325,\n",
              " 'like': 8928,\n",
              " 'yoga': 17446,\n",
              " 'layering': 8735,\n",
              " 'modal': 9941,\n",
              " 'chinlon': 2703,\n",
              " 'wirefree': 17193,\n",
              " 'detachable': 4110,\n",
              " 'seam': 13581,\n",
              " 'aria': 825,\n",
              " 'theme': 15653,\n",
              " 'semi': 13658,\n",
              " ...}"
            ]
          },
          "metadata": {},
          "execution_count": 129
        }
      ]
    },
    {
      "cell_type": "code",
      "source": [
        "'''\n",
        "This code block is for training vectorized data\n",
        "\n",
        "'''\n",
        "# Instantiate a Multinomial Naive Bayes model\n",
        "model=MultinomialNB()\n",
        "\n",
        "# Train the model\n",
        "model.fit(X_train_matrix, y_train)\n",
        "\n",
        "# Scoring the trained model\n",
        "print(\"Accuracy of model on training data:\" , model.score(X_train_matrix, y_train))"
      ],
      "metadata": {
        "colab": {
          "base_uri": "https://localhost:8080/"
        },
        "id": "CqlFQW3B2Aez",
        "outputId": "752b1b78-938c-4804-fe4d-0405f4c39758"
      },
      "execution_count": null,
      "outputs": [
        {
          "output_type": "stream",
          "name": "stdout",
          "text": [
            "Accuracy of model on training data: 0.9503433367243134\n"
          ]
        }
      ]
    },
    {
      "cell_type": "code",
      "source": [
        "'''\n",
        "This code block is for predicting & scoring test data\n",
        "\n",
        "'''\n",
        "\n",
        "# Converting the test data\n",
        "X_test_matrix = vect.transform(X_test) \n",
        "\n",
        "# Scoring for the test data\n",
        "print (\"Accuracy of model on testing data:\", model.score(X_test_matrix, y_test))"
      ],
      "metadata": {
        "colab": {
          "base_uri": "https://localhost:8080/"
        },
        "id": "YKPwgw6D2A5a",
        "outputId": "6650b406-b63a-4fd0-f7c7-a810984eac9e"
      },
      "execution_count": null,
      "outputs": [
        {
          "output_type": "stream",
          "name": "stdout",
          "text": [
            "Accuracy of model on testing data: 0.9374523264683448\n"
          ]
        }
      ]
    },
    {
      "cell_type": "code",
      "source": [
        "'''\n",
        "Time taken by our model for traing \n",
        "'''\n",
        "%time model.fit(X_train_matrix, y_train)"
      ],
      "metadata": {
        "colab": {
          "base_uri": "https://localhost:8080/"
        },
        "id": "YoM9U-XW32Iv",
        "outputId": "4fa89175-cc56-4ef1-c37c-68120b9101bb"
      },
      "execution_count": null,
      "outputs": [
        {
          "output_type": "stream",
          "name": "stdout",
          "text": [
            "CPU times: user 23.6 ms, sys: 52 µs, total: 23.7 ms\n",
            "Wall time: 24.4 ms\n"
          ]
        },
        {
          "output_type": "execute_result",
          "data": {
            "text/plain": [
              "MultinomialNB()"
            ]
          },
          "metadata": {},
          "execution_count": 133
        }
      ]
    },
    {
      "cell_type": "code",
      "source": [
        "# Printing score \n",
        "predicted_result=model.predict(X_test_matrix)\n",
        "print(classification_report(y_test,predicted_result))"
      ],
      "metadata": {
        "colab": {
          "base_uri": "https://localhost:8080/"
        },
        "id": "MkraLXGf31ze",
        "outputId": "e438726c-9356-41c8-b4e6-5ce4b4c01568"
      },
      "execution_count": null,
      "outputs": [
        {
          "output_type": "stream",
          "name": "stdout",
          "text": [
            "              precision    recall  f1-score   support\n",
            "\n",
            "           0       0.92      1.00      0.96       212\n",
            "           1       0.91      0.62      0.74       108\n",
            "           2       0.79      0.62      0.70        50\n",
            "           3       0.82      0.91      0.86       133\n",
            "           4       1.00      0.12      0.22        16\n",
            "           5       0.98      0.99      0.99      1210\n",
            "           6       0.90      0.83      0.87       132\n",
            "           7       1.00      1.00      1.00         2\n",
            "           8       0.98      0.99      0.98       270\n",
            "           9       1.00      0.98      0.99        43\n",
            "          10       1.00      0.86      0.92         7\n",
            "          11       1.00      0.71      0.83         7\n",
            "          12       1.00      0.67      0.80         6\n",
            "          13       0.91      1.00      0.95       177\n",
            "          14       0.00      0.00      0.00         3\n",
            "          15       0.92      1.00      0.96       138\n",
            "          16       1.00      0.54      0.70        13\n",
            "          17       0.90      1.00      0.94       700\n",
            "          18       0.97      0.92      0.94       121\n",
            "          19       0.96      0.91      0.94       210\n",
            "          20       0.92      0.53      0.67        62\n",
            "          21       1.00      0.50      0.67        12\n",
            "          22       0.78      0.41      0.54        34\n",
            "          23       1.00      1.00      1.00         9\n",
            "          24       0.94      0.91      0.92        81\n",
            "          25       0.80      0.85      0.83        67\n",
            "          26       0.97      0.99      0.98       106\n",
            "          27       0.00      0.00      0.00         4\n",
            "\n",
            "    accuracy                           0.94      3933\n",
            "   macro avg       0.87      0.75      0.78      3933\n",
            "weighted avg       0.94      0.94      0.93      3933\n",
            "\n"
          ]
        },
        {
          "output_type": "stream",
          "name": "stderr",
          "text": [
            "/usr/local/lib/python3.8/dist-packages/sklearn/metrics/_classification.py:1318: UndefinedMetricWarning: Precision and F-score are ill-defined and being set to 0.0 in labels with no predicted samples. Use `zero_division` parameter to control this behavior.\n",
            "  _warn_prf(average, modifier, msg_start, len(result))\n",
            "/usr/local/lib/python3.8/dist-packages/sklearn/metrics/_classification.py:1318: UndefinedMetricWarning: Precision and F-score are ill-defined and being set to 0.0 in labels with no predicted samples. Use `zero_division` parameter to control this behavior.\n",
            "  _warn_prf(average, modifier, msg_start, len(result))\n",
            "/usr/local/lib/python3.8/dist-packages/sklearn/metrics/_classification.py:1318: UndefinedMetricWarning: Precision and F-score are ill-defined and being set to 0.0 in labels with no predicted samples. Use `zero_division` parameter to control this behavior.\n",
            "  _warn_prf(average, modifier, msg_start, len(result))\n"
          ]
        }
      ]
    },
    {
      "cell_type": "markdown",
      "source": [
        "Now we will use TfidfVectorizer and compare the accuracy of models on the basis of method of vectorization."
      ],
      "metadata": {
        "id": "sTM6ar61pfKJ"
      }
    },
    {
      "cell_type": "markdown",
      "source": [
        "We can clearly see that Count Vectorizer give number of frequency with respect to index of vocabulary where as tf-idf consider overall documents of weight of words."
      ],
      "metadata": {
        "id": "E-pBwi1ypkWs"
      }
    },
    {
      "cell_type": "code",
      "source": [
        "'''\n",
        "This code block is for converting the training data to Tf-Idf form\n",
        "\n",
        "'''\n",
        "# Removing stop words\n",
        "vectorizer = TfidfVectorizer(analyzer = 'word' , stop_words = 'english')\n",
        "# Converting the train data\n",
        "X_train_tfidf = vectorizer.fit_transform(X_train)"
      ],
      "metadata": {
        "id": "Y8gsyLg84NDE"
      },
      "execution_count": null,
      "outputs": []
    },
    {
      "cell_type": "code",
      "source": [
        "'''\n",
        "This code block is for training\n",
        "\n",
        "'''\n",
        "# Instantiate a Multinomial Naive Bayes model\n",
        "model2=MultinomialNB()\n",
        "\n",
        "# Fitting to multinomial NB model\n",
        "model2.fit(X_train_tfidf, y_train)\n",
        "\n",
        "# Scoring the trained model (Expected to be above 95 percent)\n",
        "print(\"Accuracy of model on training data:\" , model2.score(X_train_tfidf, y_train))"
      ],
      "metadata": {
        "colab": {
          "base_uri": "https://localhost:8080/"
        },
        "id": "wTPSW6vr4M1J",
        "outputId": "d120f5c8-e458-4cd7-f2f3-67f0d9cd8d52"
      },
      "execution_count": null,
      "outputs": [
        {
          "output_type": "stream",
          "name": "stdout",
          "text": [
            "Accuracy of model on training data: 0.8827568667344863\n"
          ]
        }
      ]
    },
    {
      "cell_type": "code",
      "source": [
        "'''\n",
        "This code block is for predicting & scoring test data\n",
        "\n",
        "'''\n",
        "# Converting the test data\n",
        "X_test_tfidf = vectorizer.transform(X_test) \n",
        "\n",
        "# Printing score\n",
        "print (\"Accuracy of model on testing data:\" , model2.score(X_test_tfidf, y_test))"
      ],
      "metadata": {
        "colab": {
          "base_uri": "https://localhost:8080/"
        },
        "id": "DRGfGH4U4gAj",
        "outputId": "bb1c7949-2035-43b7-d1c2-f5883a0d0fe0"
      },
      "execution_count": null,
      "outputs": [
        {
          "output_type": "stream",
          "name": "stdout",
          "text": [
            "Accuracy of model on testing data: 0.8619374523264683\n"
          ]
        }
      ]
    },
    {
      "cell_type": "markdown",
      "source": [
        "We used two vectorizer here, CountVectorizer and TfidfVectorizer, and out of these two vectorizer we can observe that the CountVectorizer performed better than TfidfVectorizer."
      ],
      "metadata": {
        "id": "3PJTfW4Wp_uI"
      }
    },
    {
      "cell_type": "markdown",
      "source": [
        "In the following models we will use Pipeline class in Scilkit-Learn that behaves like a compound classifier."
      ],
      "metadata": {
        "id": "cNChAW87qFry"
      }
    },
    {
      "cell_type": "markdown",
      "source": [
        "##Using Logistic Regression"
      ],
      "metadata": {
        "id": "L7MkLcggqI5o"
      }
    },
    {
      "cell_type": "code",
      "source": [
        "logreg = Pipeline([('vect', CountVectorizer()),\n",
        "                ('tfidf', TfidfTransformer()),\n",
        "                ('clf', LogisticRegression()),\n",
        "               ])\n",
        "logreg.fit(X_train, y_train)\n",
        "\n",
        "y_pred = logreg.predict(X_test)\n",
        "\n",
        "print('Accuracy %s' % accuracy_score(y_pred, y_test))\n",
        "print (\"Accuracy of model on training data:\" , logreg.score(X_train, y_train))\n",
        "print(classification_report(y_test, y_pred,target_names=top_cat))"
      ],
      "metadata": {
        "colab": {
          "base_uri": "https://localhost:8080/"
        },
        "id": "OyIsix4Q5c88",
        "outputId": "771116c2-42cb-464e-aa96-a35994bb41b0"
      },
      "execution_count": null,
      "outputs": [
        {
          "output_type": "stream",
          "name": "stderr",
          "text": [
            "/usr/local/lib/python3.8/dist-packages/sklearn/linear_model/_logistic.py:814: ConvergenceWarning: lbfgs failed to converge (status=1):\n",
            "STOP: TOTAL NO. of ITERATIONS REACHED LIMIT.\n",
            "\n",
            "Increase the number of iterations (max_iter) or scale the data as shown in:\n",
            "    https://scikit-learn.org/stable/modules/preprocessing.html\n",
            "Please also refer to the documentation for alternative solver options:\n",
            "    https://scikit-learn.org/stable/modules/linear_model.html#logistic-regression\n",
            "  n_iter_i = _check_optimize_result(\n"
          ]
        },
        {
          "output_type": "stream",
          "name": "stdout",
          "text": [
            "Accuracy 0.958555809814391\n",
            "Accuracy of model on training data: 0.9761571719226857\n",
            "                                   precision    recall  f1-score   support\n",
            "\n",
            "                         Clothing       0.97      0.99      0.98       212\n",
            "                        Jewellery       0.97      0.68      0.80       108\n",
            "                         Footwear       0.91      0.82      0.86        50\n",
            "            Mobiles & Accessories       0.93      0.92      0.93       133\n",
            "                       Automotive       1.00      0.81      0.90        16\n",
            "       Home Decor & Festive Needs       0.96      1.00      0.98      1210\n",
            "         Beauty and Personal Care       0.96      0.94      0.95       132\n",
            "                  Home Furnishing       1.00      1.00      1.00         2\n",
            "                 Kitchen & Dining       0.98      1.00      0.99       270\n",
            "                        Computers       1.00      0.91      0.95        43\n",
            "                          Watches       1.00      0.71      0.83         7\n",
            "                        Baby Care       1.00      0.71      0.83         7\n",
            "                 Tools & Hardware       0.00      0.00      0.00         6\n",
            "           Toys & School Supplies       0.90      0.98      0.94       177\n",
            "                Pens & Stationery       0.00      0.00      0.00         3\n",
            "            Bags, Wallets & Belts       0.93      0.97      0.95       138\n",
            "                        Furniture       0.86      0.46      0.60        13\n",
            "                 Sports & Fitness       0.98      1.00      0.99       700\n",
            "            Cameras & Accessories       0.92      0.98      0.95       121\n",
            "                 Home Improvement       0.94      0.99      0.96       210\n",
            "Health & Personal Care Appliances       0.98      0.69      0.81        62\n",
            "                       Sunglasses       1.00      0.58      0.74        12\n",
            "                           Gaming       0.89      0.74      0.81        34\n",
            "                     Pet Supplies       1.00      1.00      1.00         9\n",
            "                   Home & Kitchen       1.00      0.90      0.95        81\n",
            "               Home Entertainment       0.87      0.88      0.87        67\n",
            "                           eBooks       1.00      0.99      1.00       106\n",
            "                          Eyewear       0.00      0.00      0.00         4\n",
            "\n",
            "                         accuracy                           0.96      3933\n",
            "                        macro avg       0.86      0.77      0.81      3933\n",
            "                     weighted avg       0.96      0.96      0.96      3933\n",
            "\n"
          ]
        },
        {
          "output_type": "stream",
          "name": "stderr",
          "text": [
            "/usr/local/lib/python3.8/dist-packages/sklearn/metrics/_classification.py:1318: UndefinedMetricWarning: Precision and F-score are ill-defined and being set to 0.0 in labels with no predicted samples. Use `zero_division` parameter to control this behavior.\n",
            "  _warn_prf(average, modifier, msg_start, len(result))\n",
            "/usr/local/lib/python3.8/dist-packages/sklearn/metrics/_classification.py:1318: UndefinedMetricWarning: Precision and F-score are ill-defined and being set to 0.0 in labels with no predicted samples. Use `zero_division` parameter to control this behavior.\n",
            "  _warn_prf(average, modifier, msg_start, len(result))\n",
            "/usr/local/lib/python3.8/dist-packages/sklearn/metrics/_classification.py:1318: UndefinedMetricWarning: Precision and F-score are ill-defined and being set to 0.0 in labels with no predicted samples. Use `zero_division` parameter to control this behavior.\n",
            "  _warn_prf(average, modifier, msg_start, len(result))\n"
          ]
        }
      ]
    },
    {
      "cell_type": "markdown",
      "source": [
        "## Using Stochastic Gradient Descent (SGD)"
      ],
      "metadata": {
        "id": "jPpyx25bq8o_"
      }
    },
    {
      "cell_type": "code",
      "source": [
        "sgd = Pipeline([('vect', CountVectorizer()),\n",
        "                ('tfidf', TfidfTransformer()),\n",
        "                ('clf', SGDClassifier(loss='hinge', penalty='l2',alpha=1e-3, random_state=42, max_iter=5, tol=None)),\n",
        "               ])\n",
        "sgd.fit(X_train, y_train)\n",
        "\n",
        "y_pred = sgd.predict(X_test)\n",
        "\n",
        "print('Accuracy %s' % accuracy_score(y_pred, y_test))\n",
        "print (\"Accuracy of model on training data:\" , sgd.score(X_train, y_train))\n",
        "print(classification_report(y_test, y_pred,target_names=top_cat))"
      ],
      "metadata": {
        "colab": {
          "base_uri": "https://localhost:8080/"
        },
        "id": "RTTp4RBI9vaS",
        "outputId": "c19eea4b-9242-485b-be72-2b082c86e57d"
      },
      "execution_count": null,
      "outputs": [
        {
          "output_type": "stream",
          "name": "stdout",
          "text": [
            "Accuracy 0.9425375031782355\n",
            "Accuracy of model on training data: 0.9601347914547305\n",
            "                                   precision    recall  f1-score   support\n",
            "\n",
            "                         Clothing       0.93      0.98      0.96       212\n",
            "                        Jewellery       0.86      0.45      0.59       108\n",
            "                         Footwear       0.83      0.80      0.82        50\n",
            "            Mobiles & Accessories       0.92      0.89      0.91       133\n",
            "                       Automotive       1.00      0.88      0.93        16\n",
            "       Home Decor & Festive Needs       0.94      1.00      0.97      1210\n",
            "         Beauty and Personal Care       0.92      0.92      0.92       132\n",
            "                  Home Furnishing       1.00      1.00      1.00         2\n",
            "                 Kitchen & Dining       0.96      1.00      0.98       270\n",
            "                        Computers       0.95      0.95      0.95        43\n",
            "                          Watches       1.00      0.86      0.92         7\n",
            "                        Baby Care       1.00      1.00      1.00         7\n",
            "                 Tools & Hardware       0.00      0.00      0.00         6\n",
            "           Toys & School Supplies       0.94      0.94      0.94       177\n",
            "                Pens & Stationery       0.00      0.00      0.00         3\n",
            "            Bags, Wallets & Belts       0.89      0.97      0.93       138\n",
            "                        Furniture       0.88      0.54      0.67        13\n",
            "                 Sports & Fitness       0.97      0.99      0.98       700\n",
            "            Cameras & Accessories       0.93      0.94      0.94       121\n",
            "                 Home Improvement       0.94      0.96      0.95       210\n",
            "Health & Personal Care Appliances       0.97      0.47      0.63        62\n",
            "                       Sunglasses       0.89      0.67      0.76        12\n",
            "                           Gaming       0.95      0.62      0.75        34\n",
            "                     Pet Supplies       1.00      1.00      1.00         9\n",
            "                   Home & Kitchen       0.97      0.90      0.94        81\n",
            "               Home Entertainment       0.77      0.87      0.82        67\n",
            "                           eBooks       1.00      0.99      1.00       106\n",
            "                          Eyewear       0.00      0.00      0.00         4\n",
            "\n",
            "                         accuracy                           0.94      3933\n",
            "                        macro avg       0.84      0.77      0.79      3933\n",
            "                     weighted avg       0.94      0.94      0.94      3933\n",
            "\n"
          ]
        },
        {
          "output_type": "stream",
          "name": "stderr",
          "text": [
            "/usr/local/lib/python3.8/dist-packages/sklearn/metrics/_classification.py:1318: UndefinedMetricWarning: Precision and F-score are ill-defined and being set to 0.0 in labels with no predicted samples. Use `zero_division` parameter to control this behavior.\n",
            "  _warn_prf(average, modifier, msg_start, len(result))\n",
            "/usr/local/lib/python3.8/dist-packages/sklearn/metrics/_classification.py:1318: UndefinedMetricWarning: Precision and F-score are ill-defined and being set to 0.0 in labels with no predicted samples. Use `zero_division` parameter to control this behavior.\n",
            "  _warn_prf(average, modifier, msg_start, len(result))\n",
            "/usr/local/lib/python3.8/dist-packages/sklearn/metrics/_classification.py:1318: UndefinedMetricWarning: Precision and F-score are ill-defined and being set to 0.0 in labels with no predicted samples. Use `zero_division` parameter to control this behavior.\n",
            "  _warn_prf(average, modifier, msg_start, len(result))\n"
          ]
        }
      ]
    },
    {
      "cell_type": "markdown",
      "source": [
        "## Using Support Vector Machines(SVM)"
      ],
      "metadata": {
        "id": "hTj_tlqFrPvv"
      }
    },
    {
      "cell_type": "code",
      "source": [
        "svmsvc = Pipeline([('vect', CountVectorizer()),\n",
        "                ('tfidf', TfidfTransformer()),\n",
        "                ('clf', svm.SVC(C=1.0, kernel='linear', degree=3, gamma='auto')),\n",
        "               ])\n",
        "svmsvc.fit(X_train, y_train)\n",
        "\n",
        "y_pred = svmsvc.predict(X_test)\n",
        "\n",
        "print('Accuracy %s' % accuracy_score(y_pred, y_test))\n",
        "print (\"Accuracy of model on training data:\" , svmsvc.score(X_train, y_train))\n",
        "print(classification_report(y_test, y_pred,target_names=top_cat))"
      ],
      "metadata": {
        "id": "FdYh53rX91aE",
        "outputId": "252c90b0-839e-4e77-a425-de9d3d121f56",
        "colab": {
          "base_uri": "https://localhost:8080/"
        }
      },
      "execution_count": 143,
      "outputs": [
        {
          "output_type": "stream",
          "name": "stdout",
          "text": [
            "Accuracy 0.9753368929570303\n",
            "Accuracy of model on training data: 0.991353001017294\n",
            "                                   precision    recall  f1-score   support\n",
            "\n",
            "                         Clothing       0.99      0.99      0.99       212\n",
            "                        Jewellery       0.94      0.81      0.87       108\n",
            "                         Footwear       0.94      0.96      0.95        50\n",
            "            Mobiles & Accessories       0.96      0.95      0.96       133\n",
            "                       Automotive       1.00      0.88      0.93        16\n",
            "       Home Decor & Festive Needs       0.99      1.00      0.99      1210\n",
            "         Beauty and Personal Care       0.98      0.95      0.97       132\n",
            "                  Home Furnishing       1.00      1.00      1.00         2\n",
            "                 Kitchen & Dining       1.00      1.00      1.00       270\n",
            "                        Computers       1.00      0.95      0.98        43\n",
            "                          Watches       0.86      0.86      0.86         7\n",
            "                        Baby Care       1.00      0.86      0.92         7\n",
            "                 Tools & Hardware       0.80      0.67      0.73         6\n",
            "           Toys & School Supplies       0.93      0.99      0.96       177\n",
            "                Pens & Stationery       0.67      0.67      0.67         3\n",
            "            Bags, Wallets & Belts       0.94      0.99      0.97       138\n",
            "                        Furniture       0.92      0.85      0.88        13\n",
            "                 Sports & Fitness       0.99      1.00      1.00       700\n",
            "            Cameras & Accessories       0.92      0.98      0.95       121\n",
            "                 Home Improvement       0.96      0.99      0.97       210\n",
            "Health & Personal Care Appliances       0.98      0.81      0.88        62\n",
            "                       Sunglasses       1.00      0.75      0.86        12\n",
            "                           Gaming       0.97      0.97      0.97        34\n",
            "                     Pet Supplies       1.00      1.00      1.00         9\n",
            "                   Home & Kitchen       1.00      0.90      0.95        81\n",
            "               Home Entertainment       0.84      0.91      0.87        67\n",
            "                           eBooks       1.00      1.00      1.00       106\n",
            "                          Eyewear       0.00      0.00      0.00         4\n",
            "\n",
            "                         accuracy                           0.98      3933\n",
            "                        macro avg       0.91      0.88      0.90      3933\n",
            "                     weighted avg       0.97      0.98      0.97      3933\n",
            "\n"
          ]
        },
        {
          "output_type": "stream",
          "name": "stderr",
          "text": [
            "/usr/local/lib/python3.8/dist-packages/sklearn/metrics/_classification.py:1318: UndefinedMetricWarning: Precision and F-score are ill-defined and being set to 0.0 in labels with no predicted samples. Use `zero_division` parameter to control this behavior.\n",
            "  _warn_prf(average, modifier, msg_start, len(result))\n",
            "/usr/local/lib/python3.8/dist-packages/sklearn/metrics/_classification.py:1318: UndefinedMetricWarning: Precision and F-score are ill-defined and being set to 0.0 in labels with no predicted samples. Use `zero_division` parameter to control this behavior.\n",
            "  _warn_prf(average, modifier, msg_start, len(result))\n",
            "/usr/local/lib/python3.8/dist-packages/sklearn/metrics/_classification.py:1318: UndefinedMetricWarning: Precision and F-score are ill-defined and being set to 0.0 in labels with no predicted samples. Use `zero_division` parameter to control this behavior.\n",
            "  _warn_prf(average, modifier, msg_start, len(result))\n"
          ]
        }
      ]
    },
    {
      "cell_type": "code",
      "source": [
        "#In this codeblock we are calculating the total no.of correct predictions made by our model using svm algorithm\n",
        "nr_correct = (y_test == svmsvc.predict((X_test))).sum()\n",
        "print(nr_correct)"
      ],
      "metadata": {
        "colab": {
          "base_uri": "https://localhost:8080/"
        },
        "id": "-xt5lIBWPOvE",
        "outputId": "75faedfc-ef0f-433d-9bfe-092f512750da"
      },
      "execution_count": 145,
      "outputs": [
        {
          "output_type": "stream",
          "name": "stdout",
          "text": [
            "3836\n"
          ]
        }
      ]
    },
    {
      "cell_type": "code",
      "source": [
        "X_test"
      ],
      "metadata": {
        "colab": {
          "base_uri": "https://localhost:8080/"
        },
        "id": "uh8BdBmnPOdF",
        "outputId": "54c0ba0c-45cb-4450-8085-9e0116cbe02f"
      },
      "execution_count": 146,
      "outputs": [
        {
          "output_type": "execute_result",
          "data": {
            "text/plain": [
              "3184     specifications of lumber boy self design boy s...\n",
              "4639     buy allure auto cm car mat volkswagen vento fo...\n",
              "3143     specifications of lumber boy printed boy s hoo...\n",
              "5562     indian fashion guru artificial jewellery ceram...\n",
              "14037    orange plum printed men s round neck t shirt b...\n",
              "                               ...                        \n",
              "3795     buy allure auto cm car mat tata indigo marina ...\n",
              "7911     specifications of cutecumber girl s high low d...\n",
              "11174    buy durian tulsa leatherette seater sofa for r...\n",
              "1360     specifications of frabjous sterling silver toe...\n",
              "19281    key features of wishkey wishkey combat gun wit...\n",
              "Name: description, Length: 3933, dtype: object"
            ]
          },
          "metadata": {},
          "execution_count": 146
        }
      ]
    },
    {
      "cell_type": "code",
      "source": [
        "test_desc = X_test[2333]\n",
        "test_desc"
      ],
      "metadata": {
        "colab": {
          "base_uri": "https://localhost:8080/",
          "height": 53
        },
        "id": "eyd0OU7fMGFb",
        "outputId": "041d89be-52bf-40ba-9af3-cddcdbe20fea"
      },
      "execution_count": 156,
      "outputs": [
        {
          "output_type": "execute_result",
          "data": {
            "text/plain": [
              "'ploomz fashion women s push up bra buy pink ploomz fashion women s push up bra for only rs online in india shop online for apparels huge collection of branded clothes only at flipkart com'"
            ],
            "application/vnd.google.colaboratory.intrinsic+json": {
              "type": "string"
            }
          },
          "metadata": {},
          "execution_count": 156
        }
      ]
    },
    {
      "cell_type": "markdown",
      "source": [
        "Testing Blocks: Test your string"
      ],
      "metadata": {
        "id": "HjCknN41dZAx"
      }
    },
    {
      "cell_type": "code",
      "source": [
        "'''\n",
        "Multinomial Naive Bayes\n",
        "'''\n",
        "le.inverse_transform(model.predict(vect.transform([test_desc])))"
      ],
      "metadata": {
        "colab": {
          "base_uri": "https://localhost:8080/"
        },
        "id": "XJLeBSh7PwCe",
        "outputId": "4db8d971-5b32-448e-d8ee-4d3798b8ba12"
      },
      "execution_count": 157,
      "outputs": [
        {
          "output_type": "execute_result",
          "data": {
            "text/plain": [
              "array(['Clothing'], dtype=object)"
            ]
          },
          "metadata": {},
          "execution_count": 157
        }
      ]
    },
    {
      "cell_type": "code",
      "source": [
        "'''\n",
        "Logistic Regression\n",
        "'''\n",
        "le.inverse_transform(logreg.predict([test_desc]))"
      ],
      "metadata": {
        "colab": {
          "base_uri": "https://localhost:8080/"
        },
        "id": "i6JeakQKfoBO",
        "outputId": "cf527e77-6761-4da0-9a7c-2bcc08bc3493"
      },
      "execution_count": 158,
      "outputs": [
        {
          "output_type": "execute_result",
          "data": {
            "text/plain": [
              "array(['Clothing'], dtype=object)"
            ]
          },
          "metadata": {},
          "execution_count": 158
        }
      ]
    },
    {
      "cell_type": "code",
      "source": [
        "'''\n",
        "Support Vector Machines\n",
        "'''\n",
        "le.inverse_transform(svmsvc.predict([test_desc]))"
      ],
      "metadata": {
        "colab": {
          "base_uri": "https://localhost:8080/"
        },
        "id": "Xa0wt1a2Pvwj",
        "outputId": "a38280c5-d709-4147-a563-d5ed1716c3e5"
      },
      "execution_count": 159,
      "outputs": [
        {
          "output_type": "execute_result",
          "data": {
            "text/plain": [
              "array(['Clothing'], dtype=object)"
            ]
          },
          "metadata": {},
          "execution_count": 159
        }
      ]
    },
    {
      "cell_type": "markdown",
      "source": [
        "We can input any description from the dataset and check how accurate our models are."
      ],
      "metadata": {
        "id": "e0eLVIOZgBlu"
      }
    },
    {
      "cell_type": "markdown",
      "source": [
        "\n",
        "Out of all the algorithms we used we notice that the Support vector machine algorithm gives the highest accuracy."
      ],
      "metadata": {
        "id": "kqM_um2ogGv4"
      }
    }
  ]
}